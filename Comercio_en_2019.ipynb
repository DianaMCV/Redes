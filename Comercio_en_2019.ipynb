{
  "nbformat": 4,
  "nbformat_minor": 0,
  "metadata": {
    "colab": {
      "name": "Comercio en 2019.ipynb",
      "provenance": [],
      "authorship_tag": "ABX9TyP2sW8XF9yP4G3Royty6UVY",
      "include_colab_link": true
    },
    "kernelspec": {
      "name": "python3",
      "display_name": "Python 3"
    },
    "language_info": {
      "name": "python"
    }
  },
  "cells": [
    {
      "cell_type": "markdown",
      "metadata": {
        "id": "view-in-github",
        "colab_type": "text"
      },
      "source": [
        "<a href=\"https://colab.research.google.com/github/DianaMCV/Redes/blob/main/Comercio_en_2019.ipynb\" target=\"_parent\"><img src=\"https://colab.research.google.com/assets/colab-badge.svg\" alt=\"Open In Colab\"/></a>"
      ]
    },
    {
      "cell_type": "markdown",
      "metadata": {
        "id": "wS1oMC-Zq8EF"
      },
      "source": [
        "Obtener la red para 2019"
      ]
    },
    {
      "cell_type": "code",
      "metadata": {
        "id": "bViv0lkErAe4"
      },
      "source": [
        "#Pquetería\n",
        "import pandas as pd\n",
        "import re"
      ],
      "execution_count": 104,
      "outputs": []
    },
    {
      "cell_type": "code",
      "metadata": {
        "colab": {
          "base_uri": "https://localhost:8080/",
          "height": 235
        },
        "id": "UZgLHCuTrEQT",
        "outputId": "1140279b-7a82-428d-ee83-5438f91933ac"
      },
      "source": [
        "#Base de datos\n",
        "url='https://raw.githubusercontent.com/DianaMCV/Redes/main/comercio_2021.csv'\n",
        "c2019 = pd.read_csv(url, index_col=0, encoding='latin-1') #'latin-1': no se leían ciertos carateres\n",
        "c2019.head()"
      ],
      "execution_count": 128,
      "outputs": [
        {
          "output_type": "execute_result",
          "data": {
            "text/html": [
              "<div>\n",
              "<style scoped>\n",
              "    .dataframe tbody tr th:only-of-type {\n",
              "        vertical-align: middle;\n",
              "    }\n",
              "\n",
              "    .dataframe tbody tr th {\n",
              "        vertical-align: top;\n",
              "    }\n",
              "\n",
              "    .dataframe thead th {\n",
              "        text-align: right;\n",
              "    }\n",
              "</style>\n",
              "<table border=\"1\" class=\"dataframe\">\n",
              "  <thead>\n",
              "    <tr style=\"text-align: right;\">\n",
              "      <th></th>\n",
              "      <th>Producto</th>\n",
              "      <th>Calidad</th>\n",
              "      <th>Presentación</th>\n",
              "      <th>Origen</th>\n",
              "      <th>Destino</th>\n",
              "      <th>Precio Mín</th>\n",
              "      <th>Precio Max</th>\n",
              "      <th>Precio Frec</th>\n",
              "      <th>Obs.</th>\n",
              "    </tr>\n",
              "    <tr>\n",
              "      <th>Fecha</th>\n",
              "      <th></th>\n",
              "      <th></th>\n",
              "      <th></th>\n",
              "      <th></th>\n",
              "      <th></th>\n",
              "      <th></th>\n",
              "      <th></th>\n",
              "      <th></th>\n",
              "      <th></th>\n",
              "    </tr>\n",
              "  </thead>\n",
              "  <tbody>\n",
              "    <tr>\n",
              "      <th>22/04/2021</th>\n",
              "      <td>Aguacate Hass</td>\n",
              "      <td>Primera</td>\n",
              "      <td>Caja de 19 kg.</td>\n",
              "      <td>Aguascalientes</td>\n",
              "      <td>Michoacán: Mercado de Abasto de Morelia</td>\n",
              "      <td>730</td>\n",
              "      <td>770</td>\n",
              "      <td>770</td>\n",
              "      <td>NaN</td>\n",
              "    </tr>\n",
              "    <tr>\n",
              "      <th>23/04/2021</th>\n",
              "      <td>Aguacate Hass</td>\n",
              "      <td>Primera</td>\n",
              "      <td>Caja de 19 kg.</td>\n",
              "      <td>Aguascalientes</td>\n",
              "      <td>Michoacán: Mercado de Abasto de Morelia</td>\n",
              "      <td>730</td>\n",
              "      <td>770</td>\n",
              "      <td>770</td>\n",
              "      <td>NaN</td>\n",
              "    </tr>\n",
              "    <tr>\n",
              "      <th>26/04/2021</th>\n",
              "      <td>Aguacate Hass</td>\n",
              "      <td>Primera</td>\n",
              "      <td>Caja de 19 kg.</td>\n",
              "      <td>Aguascalientes</td>\n",
              "      <td>Michoacán: Mercado de Abasto de Morelia</td>\n",
              "      <td>730</td>\n",
              "      <td>770</td>\n",
              "      <td>770</td>\n",
              "      <td>NaN</td>\n",
              "    </tr>\n",
              "    <tr>\n",
              "      <th>27/04/2021</th>\n",
              "      <td>Aguacate Hass</td>\n",
              "      <td>Primera</td>\n",
              "      <td>Caja de 19 kg.</td>\n",
              "      <td>Aguascalientes</td>\n",
              "      <td>Michoacán: Mercado de Abasto de Morelia</td>\n",
              "      <td>730</td>\n",
              "      <td>770</td>\n",
              "      <td>770</td>\n",
              "      <td>NaN</td>\n",
              "    </tr>\n",
              "    <tr>\n",
              "      <th>28/04/2021</th>\n",
              "      <td>Aguacate Hass</td>\n",
              "      <td>Primera</td>\n",
              "      <td>Caja de 19 kg.</td>\n",
              "      <td>Aguascalientes</td>\n",
              "      <td>Michoacán: Mercado de Abasto de Morelia</td>\n",
              "      <td>750</td>\n",
              "      <td>800</td>\n",
              "      <td>800</td>\n",
              "      <td>NaN</td>\n",
              "    </tr>\n",
              "  </tbody>\n",
              "</table>\n",
              "</div>"
            ],
            "text/plain": [
              "                 Producto  Calidad    Presentación  ... Precio Max Precio Frec Obs.\n",
              "Fecha                                               ...                            \n",
              "22/04/2021  Aguacate Hass  Primera  Caja de 19 kg.  ...        770         770  NaN\n",
              "23/04/2021  Aguacate Hass  Primera  Caja de 19 kg.  ...        770         770  NaN\n",
              "26/04/2021  Aguacate Hass  Primera  Caja de 19 kg.  ...        770         770  NaN\n",
              "27/04/2021  Aguacate Hass  Primera  Caja de 19 kg.  ...        770         770  NaN\n",
              "28/04/2021  Aguacate Hass  Primera  Caja de 19 kg.  ...        800         800  NaN\n",
              "\n",
              "[5 rows x 9 columns]"
            ]
          },
          "metadata": {
            "tags": []
          },
          "execution_count": 128
        }
      ]
    },
    {
      "cell_type": "code",
      "metadata": {
        "colab": {
          "base_uri": "https://localhost:8080/",
          "height": 235
        },
        "id": "GFhvBNxU91LE",
        "outputId": "8907ca86-17fd-4c43-d51a-3b557372ca13"
      },
      "source": [
        "c2019.columns = c2019.columns.str.lower()\n",
        "c2019.head()"
      ],
      "execution_count": 129,
      "outputs": [
        {
          "output_type": "execute_result",
          "data": {
            "text/html": [
              "<div>\n",
              "<style scoped>\n",
              "    .dataframe tbody tr th:only-of-type {\n",
              "        vertical-align: middle;\n",
              "    }\n",
              "\n",
              "    .dataframe tbody tr th {\n",
              "        vertical-align: top;\n",
              "    }\n",
              "\n",
              "    .dataframe thead th {\n",
              "        text-align: right;\n",
              "    }\n",
              "</style>\n",
              "<table border=\"1\" class=\"dataframe\">\n",
              "  <thead>\n",
              "    <tr style=\"text-align: right;\">\n",
              "      <th></th>\n",
              "      <th>producto</th>\n",
              "      <th>calidad</th>\n",
              "      <th>presentación</th>\n",
              "      <th>origen</th>\n",
              "      <th>destino</th>\n",
              "      <th>precio mín</th>\n",
              "      <th>precio max</th>\n",
              "      <th>precio frec</th>\n",
              "      <th>obs.</th>\n",
              "    </tr>\n",
              "    <tr>\n",
              "      <th>Fecha</th>\n",
              "      <th></th>\n",
              "      <th></th>\n",
              "      <th></th>\n",
              "      <th></th>\n",
              "      <th></th>\n",
              "      <th></th>\n",
              "      <th></th>\n",
              "      <th></th>\n",
              "      <th></th>\n",
              "    </tr>\n",
              "  </thead>\n",
              "  <tbody>\n",
              "    <tr>\n",
              "      <th>22/04/2021</th>\n",
              "      <td>Aguacate Hass</td>\n",
              "      <td>Primera</td>\n",
              "      <td>Caja de 19 kg.</td>\n",
              "      <td>Aguascalientes</td>\n",
              "      <td>Michoacán: Mercado de Abasto de Morelia</td>\n",
              "      <td>730</td>\n",
              "      <td>770</td>\n",
              "      <td>770</td>\n",
              "      <td>NaN</td>\n",
              "    </tr>\n",
              "    <tr>\n",
              "      <th>23/04/2021</th>\n",
              "      <td>Aguacate Hass</td>\n",
              "      <td>Primera</td>\n",
              "      <td>Caja de 19 kg.</td>\n",
              "      <td>Aguascalientes</td>\n",
              "      <td>Michoacán: Mercado de Abasto de Morelia</td>\n",
              "      <td>730</td>\n",
              "      <td>770</td>\n",
              "      <td>770</td>\n",
              "      <td>NaN</td>\n",
              "    </tr>\n",
              "    <tr>\n",
              "      <th>26/04/2021</th>\n",
              "      <td>Aguacate Hass</td>\n",
              "      <td>Primera</td>\n",
              "      <td>Caja de 19 kg.</td>\n",
              "      <td>Aguascalientes</td>\n",
              "      <td>Michoacán: Mercado de Abasto de Morelia</td>\n",
              "      <td>730</td>\n",
              "      <td>770</td>\n",
              "      <td>770</td>\n",
              "      <td>NaN</td>\n",
              "    </tr>\n",
              "    <tr>\n",
              "      <th>27/04/2021</th>\n",
              "      <td>Aguacate Hass</td>\n",
              "      <td>Primera</td>\n",
              "      <td>Caja de 19 kg.</td>\n",
              "      <td>Aguascalientes</td>\n",
              "      <td>Michoacán: Mercado de Abasto de Morelia</td>\n",
              "      <td>730</td>\n",
              "      <td>770</td>\n",
              "      <td>770</td>\n",
              "      <td>NaN</td>\n",
              "    </tr>\n",
              "    <tr>\n",
              "      <th>28/04/2021</th>\n",
              "      <td>Aguacate Hass</td>\n",
              "      <td>Primera</td>\n",
              "      <td>Caja de 19 kg.</td>\n",
              "      <td>Aguascalientes</td>\n",
              "      <td>Michoacán: Mercado de Abasto de Morelia</td>\n",
              "      <td>750</td>\n",
              "      <td>800</td>\n",
              "      <td>800</td>\n",
              "      <td>NaN</td>\n",
              "    </tr>\n",
              "  </tbody>\n",
              "</table>\n",
              "</div>"
            ],
            "text/plain": [
              "                 producto  calidad    presentación  ... precio max precio frec obs.\n",
              "Fecha                                               ...                            \n",
              "22/04/2021  Aguacate Hass  Primera  Caja de 19 kg.  ...        770         770  NaN\n",
              "23/04/2021  Aguacate Hass  Primera  Caja de 19 kg.  ...        770         770  NaN\n",
              "26/04/2021  Aguacate Hass  Primera  Caja de 19 kg.  ...        770         770  NaN\n",
              "27/04/2021  Aguacate Hass  Primera  Caja de 19 kg.  ...        770         770  NaN\n",
              "28/04/2021  Aguacate Hass  Primera  Caja de 19 kg.  ...        800         800  NaN\n",
              "\n",
              "[5 rows x 9 columns]"
            ]
          },
          "metadata": {
            "tags": []
          },
          "execution_count": 129
        }
      ]
    },
    {
      "cell_type": "code",
      "metadata": {
        "id": "nF7XYMzj9pok"
      },
      "source": [
        "#Quedarse solo con los estados en la columna destino\n",
        "c2019['destino']=c2019['destino'].apply(lambda x:(re.search('(.+(?=:))', x)).group(1))\n",
        "c2019.head()"
      ],
      "execution_count": 130,
      "outputs": []
    },
    {
      "cell_type": "code",
      "metadata": {
        "colab": {
          "base_uri": "https://localhost:8080/",
          "height": 204
        },
        "id": "cQNonEuHEpZR",
        "outputId": "ee0eeb95-a164-4ae4-da71-838af66a6670"
      },
      "source": [
        "adj_2019 = c2019.groupby(['producto','origen', 'destino']).size().rename('peso').reset_index()\n",
        "adj_2019.head()"
      ],
      "execution_count": 137,
      "outputs": [
        {
          "output_type": "execute_result",
          "data": {
            "text/html": [
              "<div>\n",
              "<style scoped>\n",
              "    .dataframe tbody tr th:only-of-type {\n",
              "        vertical-align: middle;\n",
              "    }\n",
              "\n",
              "    .dataframe tbody tr th {\n",
              "        vertical-align: top;\n",
              "    }\n",
              "\n",
              "    .dataframe thead th {\n",
              "        text-align: right;\n",
              "    }\n",
              "</style>\n",
              "<table border=\"1\" class=\"dataframe\">\n",
              "  <thead>\n",
              "    <tr style=\"text-align: right;\">\n",
              "      <th></th>\n",
              "      <th>producto</th>\n",
              "      <th>origen</th>\n",
              "      <th>destino</th>\n",
              "      <th>peso</th>\n",
              "    </tr>\n",
              "  </thead>\n",
              "  <tbody>\n",
              "    <tr>\n",
              "      <th>0</th>\n",
              "      <td>Acelga</td>\n",
              "      <td>Aguascalientes</td>\n",
              "      <td>Veracruz</td>\n",
              "      <td>1</td>\n",
              "    </tr>\n",
              "    <tr>\n",
              "      <th>1</th>\n",
              "      <td>Acelga</td>\n",
              "      <td>Baja California</td>\n",
              "      <td>Baja California</td>\n",
              "      <td>6</td>\n",
              "    </tr>\n",
              "    <tr>\n",
              "      <th>2</th>\n",
              "      <td>Acelga</td>\n",
              "      <td>Chiapas</td>\n",
              "      <td>Chiapas</td>\n",
              "      <td>6</td>\n",
              "    </tr>\n",
              "    <tr>\n",
              "      <th>3</th>\n",
              "      <td>Acelga</td>\n",
              "      <td>Guanajuato</td>\n",
              "      <td>Guanajuato</td>\n",
              "      <td>6</td>\n",
              "    </tr>\n",
              "    <tr>\n",
              "      <th>4</th>\n",
              "      <td>Acelga</td>\n",
              "      <td>Guanajuato</td>\n",
              "      <td>Michoacán</td>\n",
              "      <td>6</td>\n",
              "    </tr>\n",
              "  </tbody>\n",
              "</table>\n",
              "</div>"
            ],
            "text/plain": [
              "  producto           origen           destino  peso\n",
              "0   Acelga   Aguascalientes          Veracruz     1\n",
              "1   Acelga  Baja California  Baja California      6\n",
              "2   Acelga          Chiapas           Chiapas     6\n",
              "3   Acelga       Guanajuato        Guanajuato     6\n",
              "4   Acelga       Guanajuato         Michoacán     6"
            ]
          },
          "metadata": {
            "tags": []
          },
          "execution_count": 137
        }
      ]
    }
  ]
}