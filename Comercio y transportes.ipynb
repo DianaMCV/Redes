{
  "nbformat": 4,
  "nbformat_minor": 0,
  "metadata": {
    "colab": {
      "name": "Comercio en 2019.ipynb",
      "provenance": [],
      "collapsed_sections": [
        "GBqPItQU_j8X",
        "JoLFYBa7OWjc"
      ],
      "authorship_tag": "ABX9TyN9noH+MDOnHGaC/uqr+yT4",
      "include_colab_link": true
    },
    "kernelspec": {
      "display_name": "Python 3",
      "name": "python3"
    },
    "language_info": {
      "name": "python"
    }
  },
  "cells": [
    {
      "cell_type": "markdown",
      "metadata": {
        "id": "view-in-github",
        "colab_type": "text"
      },
      "source": [
        "<a href=\"https://colab.research.google.com/github/DianaMCV/Redes/blob/main/Comercio%20y%20transportes.ipynb\" target=\"_parent\"><img src=\"https://colab.research.google.com/assets/colab-badge.svg\" alt=\"Open In Colab\"/></a>"
      ]
    },
    {
      "cell_type": "markdown",
      "metadata": {
        "id": "Ik4ODvNUKznP"
      },
      "source": [
        "#Programas"
      ]
    },
    {
      "cell_type": "code",
      "metadata": {
        "colab": {
          "base_uri": "https://localhost:8080/"
        },
        "id": "bViv0lkErAe4",
        "outputId": "0659464c-ca70-46b1-954c-3ca6d234eadd"
      },
      "source": [
        "!echo \"deb http://downloads.skewed.de/apt bionic main\" >> /etc/apt/sources.list\n",
        "!apt-key adv --keyserver keys.openpgp.org --recv-key 612DEFB798507F25\n",
        "!apt-get update\n",
        "!apt-get install python3-graph-tool python3-cairo python3-matplotlib"
      ],
      "execution_count": null,
      "outputs": [
        {
          "output_type": "stream",
          "text": [
            "Executing: /tmp/apt-key-gpghome.kUlRMPg1pI/gpg.1.sh --keyserver keys.openpgp.org --recv-key 612DEFB798507F25\n",
            "gpg: key 612DEFB798507F25: \"Tiago de Paula Peixoto <tiago@skewed.de>\" not changed\n",
            "gpg: Total number processed: 1\n",
            "gpg:              unchanged: 1\n",
            "Hit:1 http://security.ubuntu.com/ubuntu bionic-security InRelease\n",
            "Ign:2 https://developer.download.nvidia.com/compute/cuda/repos/ubuntu1804/x86_64  InRelease\n",
            "Hit:3 https://cloud.r-project.org/bin/linux/ubuntu bionic-cran40/ InRelease\n",
            "Ign:4 https://developer.download.nvidia.com/compute/machine-learning/repos/ubuntu1804/x86_64  InRelease\n",
            "Hit:5 http://ppa.launchpad.net/c2d4u.team/c2d4u4.0+/ubuntu bionic InRelease\n",
            "Hit:6 https://developer.download.nvidia.com/compute/cuda/repos/ubuntu1804/x86_64  Release\n",
            "Hit:7 http://archive.ubuntu.com/ubuntu bionic InRelease\n",
            "Hit:8 https://developer.download.nvidia.com/compute/machine-learning/repos/ubuntu1804/x86_64  Release\n",
            "Hit:9 http://archive.ubuntu.com/ubuntu bionic-updates InRelease\n",
            "Hit:10 http://downloads.skewed.de/apt bionic InRelease\n",
            "Hit:11 http://ppa.launchpad.net/cran/libgit2/ubuntu bionic InRelease\n",
            "Hit:12 http://archive.ubuntu.com/ubuntu bionic-backports InRelease\n",
            "Ign:13 http://downloads.skewed.de/apt/DISTRIBUTION DISTRIBUTION InRelease\n",
            "Err:14 http://downloads.skewed.de/apt/DISTRIBUTION DISTRIBUTION Release\n",
            "  404  Not Found [IP: 49.12.93.194 80]\n",
            "Hit:15 http://ppa.launchpad.net/deadsnakes/ppa/ubuntu bionic InRelease\n",
            "Hit:16 http://ppa.launchpad.net/graphics-drivers/ppa/ubuntu bionic InRelease\n",
            "Reading package lists... Done\n",
            "E: The repository 'http://downloads.skewed.de/apt/DISTRIBUTION DISTRIBUTION Release' does not have a Release file.\n",
            "N: Updating from such a repository can't be done securely, and is therefore disabled by default.\n",
            "N: See apt-secure(8) manpage for repository creation and user configuration details.\n",
            "W: Target Packages (main/binary-amd64/Packages) is configured multiple times in /etc/apt/sources.list:51 and /etc/apt/sources.list:54\n",
            "W: Target Packages (main/binary-all/Packages) is configured multiple times in /etc/apt/sources.list:51 and /etc/apt/sources.list:54\n",
            "W: Target Packages (main/binary-amd64/Packages) is configured multiple times in /etc/apt/sources.list:51 and /etc/apt/sources.list:54\n",
            "W: Target Packages (main/binary-all/Packages) is configured multiple times in /etc/apt/sources.list:51 and /etc/apt/sources.list:54\n",
            "Reading package lists... Done\n",
            "Building dependency tree       \n",
            "Reading state information... Done\n",
            "python3-cairo is already the newest version (1.16.2-1).\n",
            "python3-matplotlib is already the newest version (2.1.1-2ubuntu3).\n",
            "python3-graph-tool is already the newest version (2.37).\n",
            "The following package was automatically installed and is no longer required:\n",
            "  libnvidia-common-460\n",
            "Use 'apt autoremove' to remove it.\n",
            "0 upgraded, 0 newly installed, 0 to remove and 76 not upgraded.\n",
            "W: Target Packages (main/binary-amd64/Packages) is configured multiple times in /etc/apt/sources.list:51 and /etc/apt/sources.list:54\n",
            "W: Target Packages (main/binary-all/Packages) is configured multiple times in /etc/apt/sources.list:51 and /etc/apt/sources.list:54\n"
          ],
          "name": "stdout"
        }
      ]
    },
    {
      "cell_type": "code",
      "metadata": {
        "colab": {
          "base_uri": "https://localhost:8080/"
        },
        "id": "lPp3taYT_dSW",
        "outputId": "7464d20e-b39d-43d9-bde6-e7d41289aff8"
      },
      "source": [
        "! echo deb http://downloads.skewed.de/apt/DISTRIBUTION DISTRIBUTION universe>>/etc/apt/sources.list\n",
        "! echo deb-src http://downloads.skewed.de/apt/DISTRIBUTION DISTRIBUTION universe>>/etc/apt/sources.list\n",
        "! cat /etc/apt/sources.list"
      ],
      "execution_count": null,
      "outputs": [
        {
          "output_type": "stream",
          "text": [
            "# See http://help.ubuntu.com/community/UpgradeNotes for how to upgrade to\n",
            "# newer versions of the distribution.\n",
            "deb http://archive.ubuntu.com/ubuntu/ bionic main restricted\n",
            "# deb-src http://archive.ubuntu.com/ubuntu/ bionic main restricted\n",
            "\n",
            "## Major bug fix updates produced after the final release of the\n",
            "## distribution.\n",
            "deb http://archive.ubuntu.com/ubuntu/ bionic-updates main restricted\n",
            "# deb-src http://archive.ubuntu.com/ubuntu/ bionic-updates main restricted\n",
            "\n",
            "## N.B. software from this repository is ENTIRELY UNSUPPORTED by the Ubuntu\n",
            "## team. Also, please note that software in universe WILL NOT receive any\n",
            "## review or updates from the Ubuntu security team.\n",
            "deb http://archive.ubuntu.com/ubuntu/ bionic universe\n",
            "# deb-src http://archive.ubuntu.com/ubuntu/ bionic universe\n",
            "deb http://archive.ubuntu.com/ubuntu/ bionic-updates universe\n",
            "# deb-src http://archive.ubuntu.com/ubuntu/ bionic-updates universe\n",
            "\n",
            "## N.B. software from this repository is ENTIRELY UNSUPPORTED by the Ubuntu\n",
            "## team, and may not be under a free licence. Please satisfy yourself as to\n",
            "## your rights to use the software. Also, please note that software in\n",
            "## multiverse WILL NOT receive any review or updates from the Ubuntu\n",
            "## security team.\n",
            "deb http://archive.ubuntu.com/ubuntu/ bionic multiverse\n",
            "# deb-src http://archive.ubuntu.com/ubuntu/ bionic multiverse\n",
            "deb http://archive.ubuntu.com/ubuntu/ bionic-updates multiverse\n",
            "# deb-src http://archive.ubuntu.com/ubuntu/ bionic-updates multiverse\n",
            "\n",
            "## N.B. software from this repository may not have been tested as\n",
            "## extensively as that contained in the main release, although it includes\n",
            "## newer versions of some applications which may provide useful features.\n",
            "## Also, please note that software in backports WILL NOT receive any review\n",
            "## or updates from the Ubuntu security team.\n",
            "deb http://archive.ubuntu.com/ubuntu/ bionic-backports main restricted universe multiverse\n",
            "# deb-src http://archive.ubuntu.com/ubuntu/ bionic-backports main restricted universe multiverse\n",
            "\n",
            "## Uncomment the following two lines to add software from Canonical's\n",
            "## 'partner' repository.\n",
            "## This software is not part of Ubuntu, but is offered by Canonical and the\n",
            "## respective vendors as a service to Ubuntu users.\n",
            "# deb http://archive.canonical.com/ubuntu bionic partner\n",
            "# deb-src http://archive.canonical.com/ubuntu bionic partner\n",
            "\n",
            "deb http://security.ubuntu.com/ubuntu/ bionic-security main restricted\n",
            "# deb-src http://security.ubuntu.com/ubuntu/ bionic-security main restricted\n",
            "deb http://security.ubuntu.com/ubuntu/ bionic-security universe\n",
            "# deb-src http://security.ubuntu.com/ubuntu/ bionic-security universe\n",
            "deb http://security.ubuntu.com/ubuntu/ bionic-security multiverse\n",
            "# deb-src http://security.ubuntu.com/ubuntu/ bionic-security multiverse\n",
            "deb https://cloud.r-project.org/bin/linux/ubuntu bionic-cran40/\n",
            "deb http://downloads.skewed.de/apt bionic main\n",
            "deb http://downloads.skewed.de/apt/DISTRIBUTION DISTRIBUTION universe\n",
            "deb-src http://downloads.skewed.de/apt/DISTRIBUTION DISTRIBUTION universe\n",
            "deb http://downloads.skewed.de/apt bionic main\n",
            "deb http://downloads.skewed.de/apt/DISTRIBUTION DISTRIBUTION universe\n",
            "deb-src http://downloads.skewed.de/apt/DISTRIBUTION DISTRIBUTION universe\n"
          ],
          "name": "stdout"
        }
      ]
    },
    {
      "cell_type": "code",
      "metadata": {
        "colab": {
          "base_uri": "https://localhost:8080/"
        },
        "id": "TKcX8d5NEOqt",
        "outputId": "319fc040-9756-484b-c58c-4840cdd94ad1"
      },
      "source": [
        "# Important library for many geopython libraries\n",
        "!apt install gdal-bin python-gdal python3-gdal \n",
        "# Install rtree - Geopandas requirment\n",
        "!apt install python3-rtree \n",
        "# Install Geopandas\n",
        "!pip install git+git://github.com/geopandas/geopandas.git\n",
        "# Install descartes - Geopandas requirment\n",
        "!pip install descartes \n",
        "# Install Folium for Geographic data visualization\n",
        "!pip install folium\n",
        "# Install plotlyExpress\n",
        "!pip install plotly_express"
      ],
      "execution_count": null,
      "outputs": [
        {
          "output_type": "stream",
          "text": [
            "Reading package lists... Done\n",
            "Building dependency tree       \n",
            "Reading state information... Done\n",
            "gdal-bin is already the newest version (2.2.3+dfsg-2).\n",
            "python-gdal is already the newest version (2.2.3+dfsg-2).\n",
            "python3-gdal is already the newest version (2.2.3+dfsg-2).\n",
            "The following package was automatically installed and is no longer required:\n",
            "  libnvidia-common-460\n",
            "Use 'apt autoremove' to remove it.\n",
            "0 upgraded, 0 newly installed, 0 to remove and 76 not upgraded.\n",
            "W: Target Packages (main/binary-amd64/Packages) is configured multiple times in /etc/apt/sources.list:51 and /etc/apt/sources.list:54\n",
            "W: Target Packages (main/binary-all/Packages) is configured multiple times in /etc/apt/sources.list:51 and /etc/apt/sources.list:54\n",
            "W: Target Sources (universe/source/Sources) is configured multiple times in /etc/apt/sources.list:53 and /etc/apt/sources.list:56\n",
            "W: Target Packages (universe/binary-amd64/Packages) is configured multiple times in /etc/apt/sources.list:52 and /etc/apt/sources.list:55\n",
            "W: Target Packages (universe/binary-all/Packages) is configured multiple times in /etc/apt/sources.list:52 and /etc/apt/sources.list:55\n",
            "Reading package lists... Done\n",
            "Building dependency tree       \n",
            "Reading state information... Done\n",
            "python3-rtree is already the newest version (0.8.3+ds-1).\n",
            "The following package was automatically installed and is no longer required:\n",
            "  libnvidia-common-460\n",
            "Use 'apt autoremove' to remove it.\n",
            "0 upgraded, 0 newly installed, 0 to remove and 76 not upgraded.\n",
            "W: Target Packages (main/binary-amd64/Packages) is configured multiple times in /etc/apt/sources.list:51 and /etc/apt/sources.list:54\n",
            "W: Target Packages (main/binary-all/Packages) is configured multiple times in /etc/apt/sources.list:51 and /etc/apt/sources.list:54\n",
            "W: Target Sources (universe/source/Sources) is configured multiple times in /etc/apt/sources.list:53 and /etc/apt/sources.list:56\n",
            "W: Target Packages (universe/binary-amd64/Packages) is configured multiple times in /etc/apt/sources.list:52 and /etc/apt/sources.list:55\n",
            "W: Target Packages (universe/binary-all/Packages) is configured multiple times in /etc/apt/sources.list:52 and /etc/apt/sources.list:55\n",
            "Collecting git+git://github.com/geopandas/geopandas.git\n",
            "  Cloning git://github.com/geopandas/geopandas.git to /tmp/pip-req-build-oqa3txu1\n",
            "  Running command git clone -q git://github.com/geopandas/geopandas.git /tmp/pip-req-build-oqa3txu1\n",
            "Requirement already satisfied (use --upgrade to upgrade): geopandas==0.9.0+20.g0d38f10 from git+git://github.com/geopandas/geopandas.git in /usr/local/lib/python3.7/dist-packages\n",
            "Requirement already satisfied: pandas>=0.24.0 in /usr/local/lib/python3.7/dist-packages (from geopandas==0.9.0+20.g0d38f10) (1.1.5)\n",
            "Requirement already satisfied: shapely>=1.6 in /usr/local/lib/python3.7/dist-packages (from geopandas==0.9.0+20.g0d38f10) (1.7.1)\n",
            "Requirement already satisfied: fiona>=1.8 in /usr/local/lib/python3.7/dist-packages (from geopandas==0.9.0+20.g0d38f10) (1.8.19)\n",
            "Requirement already satisfied: pyproj>=2.2.0 in /usr/local/lib/python3.7/dist-packages (from geopandas==0.9.0+20.g0d38f10) (3.0.1)\n",
            "Requirement already satisfied: numpy>=1.15.4 in /usr/local/lib/python3.7/dist-packages (from pandas>=0.24.0->geopandas==0.9.0+20.g0d38f10) (1.19.5)\n",
            "Requirement already satisfied: python-dateutil>=2.7.3 in /usr/local/lib/python3.7/dist-packages (from pandas>=0.24.0->geopandas==0.9.0+20.g0d38f10) (2.8.1)\n",
            "Requirement already satisfied: pytz>=2017.2 in /usr/local/lib/python3.7/dist-packages (from pandas>=0.24.0->geopandas==0.9.0+20.g0d38f10) (2018.9)\n",
            "Requirement already satisfied: munch in /usr/local/lib/python3.7/dist-packages (from fiona>=1.8->geopandas==0.9.0+20.g0d38f10) (2.5.0)\n",
            "Requirement already satisfied: click<8,>=4.0 in /usr/local/lib/python3.7/dist-packages (from fiona>=1.8->geopandas==0.9.0+20.g0d38f10) (7.1.2)\n",
            "Requirement already satisfied: certifi in /usr/local/lib/python3.7/dist-packages (from fiona>=1.8->geopandas==0.9.0+20.g0d38f10) (2020.12.5)\n",
            "Requirement already satisfied: click-plugins>=1.0 in /usr/local/lib/python3.7/dist-packages (from fiona>=1.8->geopandas==0.9.0+20.g0d38f10) (1.1.1)\n",
            "Requirement already satisfied: cligj>=0.5 in /usr/local/lib/python3.7/dist-packages (from fiona>=1.8->geopandas==0.9.0+20.g0d38f10) (0.7.1)\n",
            "Requirement already satisfied: six>=1.7 in /usr/local/lib/python3.7/dist-packages (from fiona>=1.8->geopandas==0.9.0+20.g0d38f10) (1.15.0)\n",
            "Requirement already satisfied: attrs>=17 in /usr/local/lib/python3.7/dist-packages (from fiona>=1.8->geopandas==0.9.0+20.g0d38f10) (20.3.0)\n",
            "Building wheels for collected packages: geopandas\n",
            "  Building wheel for geopandas (setup.py) ... \u001b[?25l\u001b[?25hdone\n",
            "  Created wheel for geopandas: filename=geopandas-0.9.0+20.g0d38f10-py2.py3-none-any.whl size=995262 sha256=90f2f116029b775d4bd5b441f49fba2779b9249b6acdb729957f9ca709baf0c6\n",
            "  Stored in directory: /tmp/pip-ephem-wheel-cache-ycd0k9fr/wheels/91/24/71/376c9c67192694168352afcccc2d264248f7e2cc6192997186\n",
            "Successfully built geopandas\n",
            "Requirement already satisfied: descartes in /usr/local/lib/python3.7/dist-packages (1.1.0)\n",
            "Requirement already satisfied: matplotlib in /usr/local/lib/python3.7/dist-packages (from descartes) (3.2.2)\n",
            "Requirement already satisfied: cycler>=0.10 in /usr/local/lib/python3.7/dist-packages (from matplotlib->descartes) (0.10.0)\n",
            "Requirement already satisfied: kiwisolver>=1.0.1 in /usr/local/lib/python3.7/dist-packages (from matplotlib->descartes) (1.3.1)\n",
            "Requirement already satisfied: python-dateutil>=2.1 in /usr/local/lib/python3.7/dist-packages (from matplotlib->descartes) (2.8.1)\n",
            "Requirement already satisfied: pyparsing!=2.0.4,!=2.1.2,!=2.1.6,>=2.0.1 in /usr/local/lib/python3.7/dist-packages (from matplotlib->descartes) (2.4.7)\n",
            "Requirement already satisfied: numpy>=1.11 in /usr/local/lib/python3.7/dist-packages (from matplotlib->descartes) (1.19.5)\n",
            "Requirement already satisfied: six in /usr/local/lib/python3.7/dist-packages (from cycler>=0.10->matplotlib->descartes) (1.15.0)\n",
            "Requirement already satisfied: folium in /usr/local/lib/python3.7/dist-packages (0.8.3)\n",
            "Requirement already satisfied: numpy in /usr/local/lib/python3.7/dist-packages (from folium) (1.19.5)\n",
            "Requirement already satisfied: branca>=0.3.0 in /usr/local/lib/python3.7/dist-packages (from folium) (0.4.2)\n",
            "Requirement already satisfied: six in /usr/local/lib/python3.7/dist-packages (from folium) (1.15.0)\n",
            "Requirement already satisfied: jinja2 in /usr/local/lib/python3.7/dist-packages (from folium) (2.11.3)\n",
            "Requirement already satisfied: requests in /usr/local/lib/python3.7/dist-packages (from folium) (2.23.0)\n",
            "Requirement already satisfied: MarkupSafe>=0.23 in /usr/local/lib/python3.7/dist-packages (from jinja2->folium) (1.1.1)\n",
            "Requirement already satisfied: chardet<4,>=3.0.2 in /usr/local/lib/python3.7/dist-packages (from requests->folium) (3.0.4)\n",
            "Requirement already satisfied: idna<3,>=2.5 in /usr/local/lib/python3.7/dist-packages (from requests->folium) (2.10)\n",
            "Requirement already satisfied: urllib3!=1.25.0,!=1.25.1,<1.26,>=1.21.1 in /usr/local/lib/python3.7/dist-packages (from requests->folium) (1.24.3)\n",
            "Requirement already satisfied: certifi>=2017.4.17 in /usr/local/lib/python3.7/dist-packages (from requests->folium) (2020.12.5)\n",
            "Requirement already satisfied: plotly_express in /usr/local/lib/python3.7/dist-packages (0.4.1)\n",
            "Requirement already satisfied: pandas>=0.20.0 in /usr/local/lib/python3.7/dist-packages (from plotly_express) (1.1.5)\n",
            "Requirement already satisfied: patsy>=0.5 in /usr/local/lib/python3.7/dist-packages (from plotly_express) (0.5.1)\n",
            "Requirement already satisfied: numpy>=1.11 in /usr/local/lib/python3.7/dist-packages (from plotly_express) (1.19.5)\n",
            "Requirement already satisfied: scipy>=0.18 in /usr/local/lib/python3.7/dist-packages (from plotly_express) (1.4.1)\n",
            "Requirement already satisfied: plotly>=4.1.0 in /usr/local/lib/python3.7/dist-packages (from plotly_express) (4.4.1)\n",
            "Requirement already satisfied: statsmodels>=0.9.0 in /usr/local/lib/python3.7/dist-packages (from plotly_express) (0.10.2)\n",
            "Requirement already satisfied: pytz>=2017.2 in /usr/local/lib/python3.7/dist-packages (from pandas>=0.20.0->plotly_express) (2018.9)\n",
            "Requirement already satisfied: python-dateutil>=2.7.3 in /usr/local/lib/python3.7/dist-packages (from pandas>=0.20.0->plotly_express) (2.8.1)\n",
            "Requirement already satisfied: six in /usr/local/lib/python3.7/dist-packages (from patsy>=0.5->plotly_express) (1.15.0)\n",
            "Requirement already satisfied: retrying>=1.3.3 in /usr/local/lib/python3.7/dist-packages (from plotly>=4.1.0->plotly_express) (1.3.3)\n"
          ],
          "name": "stdout"
        }
      ]
    },
    {
      "cell_type": "markdown",
      "metadata": {
        "id": "zCgMObLoK6R7"
      },
      "source": [
        "#Paquetería"
      ]
    },
    {
      "cell_type": "code",
      "metadata": {
        "id": "u24IoLXh_Te9"
      },
      "source": [
        "#Pquetería\n",
        "import pandas as pd\n",
        "import re\n",
        "import networkx as nx\n",
        "import graph_tool.all as gt\n",
        "import numpy as np\n",
        "import geopandas as gpd  \n",
        "import matplotlib.pyplot as plt  \n",
        "import operator\n",
        "import random"
      ],
      "execution_count": null,
      "outputs": []
    },
    {
      "cell_type": "code",
      "metadata": {
        "id": "UZgLHCuTrEQT"
      },
      "source": [
        "#Bases de datos\n",
        "url='https://raw.githubusercontent.com/DianaMCV/Redes/main/comercio_2019.csv'\n",
        "url1='https://raw.githubusercontent.com/DianaMCV/Redes/main/comercio_2020.csv'\n",
        "url2='https://raw.githubusercontent.com/DianaMCV/Redes/main/comercio_2021.csv'\n",
        "url3='https://raw.githubusercontent.com/RBESPINOSA/proyecto_redes/main/distancias_final.csv'\n",
        "c2019 = pd.read_csv(url, index_col=0, encoding='latin-1') \n",
        "c2020 = pd.read_csv(url1, index_col=0, encoding='latin-1') \n",
        "c2021 = pd.read_csv(url2, index_col=0, encoding='latin-1') \n",
        "dist= pd.read_csv(url3, index_col=0, encoding='latin-1') "
      ],
      "execution_count": 194,
      "outputs": []
    },
    {
      "cell_type": "markdown",
      "metadata": {
        "id": "5VAcjas-7Gz4"
      },
      "source": [
        "##ANÁLISIS DE LA RED DE COMERCIALIZACIÓN DE FRUTAS Y HORTALIZAS, 2019"
      ]
    },
    {
      "cell_type": "code",
      "metadata": {
        "colab": {
          "base_uri": "https://localhost:8080/",
          "height": 204
        },
        "id": "GFhvBNxU91LE",
        "outputId": "321c237c-ff50-4326-d8fe-6b2cb4c0728b"
      },
      "source": [
        "#DATAFRAME COMERCIO 2019\n",
        "c2019.columns = c2019.columns.str.lower()\n",
        "#Quedarse solo con los estados en la columna destino\n",
        "c2019['destino']=c2019['destino'].apply(lambda x:(re.search('(.+(?=:))', x)).group(1))\n",
        "#Agrupando\n",
        "adj_2019 = c2019.groupby(['origen', 'destino']).size().rename('frecuencia').reset_index()\n",
        "#Eliminamos self-loops\n",
        "adj_2019=adj_2019[adj_2019['origen']!=adj_2019['destino']]\n",
        "adj_2019.head()"
      ],
      "execution_count": 195,
      "outputs": [
        {
          "output_type": "execute_result",
          "data": {
            "text/html": [
              "<div>\n",
              "<style scoped>\n",
              "    .dataframe tbody tr th:only-of-type {\n",
              "        vertical-align: middle;\n",
              "    }\n",
              "\n",
              "    .dataframe tbody tr th {\n",
              "        vertical-align: top;\n",
              "    }\n",
              "\n",
              "    .dataframe thead th {\n",
              "        text-align: right;\n",
              "    }\n",
              "</style>\n",
              "<table border=\"1\" class=\"dataframe\">\n",
              "  <thead>\n",
              "    <tr style=\"text-align: right;\">\n",
              "      <th></th>\n",
              "      <th>origen</th>\n",
              "      <th>destino</th>\n",
              "      <th>frecuencia</th>\n",
              "    </tr>\n",
              "  </thead>\n",
              "  <tbody>\n",
              "    <tr>\n",
              "      <th>1</th>\n",
              "      <td>Aguascalientes</td>\n",
              "      <td>Chihuahua</td>\n",
              "      <td>6</td>\n",
              "    </tr>\n",
              "    <tr>\n",
              "      <th>2</th>\n",
              "      <td>Aguascalientes</td>\n",
              "      <td>Durango</td>\n",
              "      <td>24</td>\n",
              "    </tr>\n",
              "    <tr>\n",
              "      <th>3</th>\n",
              "      <td>Aguascalientes</td>\n",
              "      <td>Michoacán</td>\n",
              "      <td>12</td>\n",
              "    </tr>\n",
              "    <tr>\n",
              "      <th>4</th>\n",
              "      <td>Aguascalientes</td>\n",
              "      <td>Nayarit</td>\n",
              "      <td>18</td>\n",
              "    </tr>\n",
              "    <tr>\n",
              "      <th>5</th>\n",
              "      <td>Aguascalientes</td>\n",
              "      <td>Tamaulipas</td>\n",
              "      <td>6</td>\n",
              "    </tr>\n",
              "  </tbody>\n",
              "</table>\n",
              "</div>"
            ],
            "text/plain": [
              "           origen     destino  frecuencia\n",
              "1  Aguascalientes   Chihuahua           6\n",
              "2  Aguascalientes     Durango          24\n",
              "3  Aguascalientes   Michoacán          12\n",
              "4  Aguascalientes     Nayarit          18\n",
              "5  Aguascalientes  Tamaulipas           6"
            ]
          },
          "metadata": {
            "tags": []
          },
          "execution_count": 195
        }
      ]
    },
    {
      "cell_type": "code",
      "metadata": {
        "id": "Fx0corBajKuN"
      },
      "source": [
        "#RED 2019\n",
        "\n",
        "G19 = nx.from_pandas_edgelist(\n",
        "    adj_2019,\n",
        "    source='origen',\n",
        "    target='destino',\n",
        "    edge_attr='frecuencia',\n",
        "    create_using=nx.DiGraph)"
      ],
      "execution_count": null,
      "outputs": []
    },
    {
      "cell_type": "code",
      "metadata": {
        "colab": {
          "base_uri": "https://localhost:8080/"
        },
        "id": "XOY50-Exgwv8",
        "outputId": "a96bd3aa-bec3-4adc-ac3f-a4f07ac72d8b"
      },
      "source": [
        "print(\"número de aristas\", G19.size())\n",
        "print(\"número de nodos\", G19.order())"
      ],
      "execution_count": null,
      "outputs": [
        {
          "output_type": "stream",
          "text": [
            "número de aristas 355\n",
            "número de nodos 33\n"
          ],
          "name": "stdout"
        }
      ]
    },
    {
      "cell_type": "code",
      "metadata": {
        "colab": {
          "base_uri": "https://localhost:8080/",
          "height": 1000
        },
        "id": "QLBgZfR1iaYq",
        "outputId": "12d8155b-7c19-4ac0-80e0-ca61f5073a87"
      },
      "source": [
        "#in-degree\n",
        "id=dict(G19.in_degree())\n",
        "id=pd.DataFrame([[key, id[key]] for key in id.keys()], columns=['estado', 'in-degree'])\n",
        "id.sort_values(by='in-degree', ascending=False)"
      ],
      "execution_count": null,
      "outputs": [
        {
          "output_type": "execute_result",
          "data": {
            "text/html": [
              "<div>\n",
              "<style scoped>\n",
              "    .dataframe tbody tr th:only-of-type {\n",
              "        vertical-align: middle;\n",
              "    }\n",
              "\n",
              "    .dataframe tbody tr th {\n",
              "        vertical-align: top;\n",
              "    }\n",
              "\n",
              "    .dataframe thead th {\n",
              "        text-align: right;\n",
              "    }\n",
              "</style>\n",
              "<table border=\"1\" class=\"dataframe\">\n",
              "  <thead>\n",
              "    <tr style=\"text-align: right;\">\n",
              "      <th></th>\n",
              "      <th>estado</th>\n",
              "      <th>in-degree</th>\n",
              "    </tr>\n",
              "  </thead>\n",
              "  <tbody>\n",
              "    <tr>\n",
              "      <th>2</th>\n",
              "      <td>Durango</td>\n",
              "      <td>22</td>\n",
              "    </tr>\n",
              "    <tr>\n",
              "      <th>11</th>\n",
              "      <td>Nuevo León</td>\n",
              "      <td>21</td>\n",
              "    </tr>\n",
              "    <tr>\n",
              "      <th>9</th>\n",
              "      <td>Coahuila</td>\n",
              "      <td>20</td>\n",
              "    </tr>\n",
              "    <tr>\n",
              "      <th>0</th>\n",
              "      <td>Aguascalientes</td>\n",
              "      <td>17</td>\n",
              "    </tr>\n",
              "    <tr>\n",
              "      <th>7</th>\n",
              "      <td>Baja California</td>\n",
              "      <td>17</td>\n",
              "    </tr>\n",
              "    <tr>\n",
              "      <th>25</th>\n",
              "      <td>Querétaro</td>\n",
              "      <td>17</td>\n",
              "    </tr>\n",
              "    <tr>\n",
              "      <th>17</th>\n",
              "      <td>Distrito Federal</td>\n",
              "      <td>17</td>\n",
              "    </tr>\n",
              "    <tr>\n",
              "      <th>13</th>\n",
              "      <td>México</td>\n",
              "      <td>17</td>\n",
              "    </tr>\n",
              "    <tr>\n",
              "      <th>20</th>\n",
              "      <td>Morelos</td>\n",
              "      <td>16</td>\n",
              "    </tr>\n",
              "    <tr>\n",
              "      <th>22</th>\n",
              "      <td>Puebla</td>\n",
              "      <td>16</td>\n",
              "    </tr>\n",
              "    <tr>\n",
              "      <th>10</th>\n",
              "      <td>Jalisco</td>\n",
              "      <td>15</td>\n",
              "    </tr>\n",
              "    <tr>\n",
              "      <th>24</th>\n",
              "      <td>Veracruz</td>\n",
              "      <td>14</td>\n",
              "    </tr>\n",
              "    <tr>\n",
              "      <th>3</th>\n",
              "      <td>Michoacán</td>\n",
              "      <td>14</td>\n",
              "    </tr>\n",
              "    <tr>\n",
              "      <th>1</th>\n",
              "      <td>Chihuahua</td>\n",
              "      <td>14</td>\n",
              "    </tr>\n",
              "    <tr>\n",
              "      <th>23</th>\n",
              "      <td>Sonora</td>\n",
              "      <td>14</td>\n",
              "    </tr>\n",
              "    <tr>\n",
              "      <th>19</th>\n",
              "      <td>Hidalgo</td>\n",
              "      <td>13</td>\n",
              "    </tr>\n",
              "    <tr>\n",
              "      <th>26</th>\n",
              "      <td>San Luis Potosí</td>\n",
              "      <td>12</td>\n",
              "    </tr>\n",
              "    <tr>\n",
              "      <th>18</th>\n",
              "      <td>Guanajuato</td>\n",
              "      <td>12</td>\n",
              "    </tr>\n",
              "    <tr>\n",
              "      <th>6</th>\n",
              "      <td>Zacatecas</td>\n",
              "      <td>10</td>\n",
              "    </tr>\n",
              "    <tr>\n",
              "      <th>21</th>\n",
              "      <td>Oaxaca</td>\n",
              "      <td>8</td>\n",
              "    </tr>\n",
              "    <tr>\n",
              "      <th>14</th>\n",
              "      <td>Tabasco</td>\n",
              "      <td>7</td>\n",
              "    </tr>\n",
              "    <tr>\n",
              "      <th>5</th>\n",
              "      <td>Tamaulipas</td>\n",
              "      <td>6</td>\n",
              "    </tr>\n",
              "    <tr>\n",
              "      <th>28</th>\n",
              "      <td>Guerrero</td>\n",
              "      <td>6</td>\n",
              "    </tr>\n",
              "    <tr>\n",
              "      <th>15</th>\n",
              "      <td>Yucatán</td>\n",
              "      <td>6</td>\n",
              "    </tr>\n",
              "    <tr>\n",
              "      <th>8</th>\n",
              "      <td>Baja California Sur</td>\n",
              "      <td>5</td>\n",
              "    </tr>\n",
              "    <tr>\n",
              "      <th>4</th>\n",
              "      <td>Nayarit</td>\n",
              "      <td>5</td>\n",
              "    </tr>\n",
              "    <tr>\n",
              "      <th>29</th>\n",
              "      <td>Quintana Roo</td>\n",
              "      <td>4</td>\n",
              "    </tr>\n",
              "    <tr>\n",
              "      <th>16</th>\n",
              "      <td>Chiapas</td>\n",
              "      <td>4</td>\n",
              "    </tr>\n",
              "    <tr>\n",
              "      <th>12</th>\n",
              "      <td>Campeche</td>\n",
              "      <td>4</td>\n",
              "    </tr>\n",
              "    <tr>\n",
              "      <th>27</th>\n",
              "      <td>Colima</td>\n",
              "      <td>1</td>\n",
              "    </tr>\n",
              "    <tr>\n",
              "      <th>31</th>\n",
              "      <td>Sinaloa</td>\n",
              "      <td>1</td>\n",
              "    </tr>\n",
              "    <tr>\n",
              "      <th>30</th>\n",
              "      <td>Importación</td>\n",
              "      <td>0</td>\n",
              "    </tr>\n",
              "    <tr>\n",
              "      <th>32</th>\n",
              "      <td>Nacional</td>\n",
              "      <td>0</td>\n",
              "    </tr>\n",
              "  </tbody>\n",
              "</table>\n",
              "</div>"
            ],
            "text/plain": [
              "                 estado  in-degree\n",
              "2               Durango         22\n",
              "11           Nuevo León         21\n",
              "9              Coahuila         20\n",
              "0        Aguascalientes         17\n",
              "7       Baja California         17\n",
              "25            Querétaro         17\n",
              "17     Distrito Federal         17\n",
              "13               México         17\n",
              "20              Morelos         16\n",
              "22               Puebla         16\n",
              "10              Jalisco         15\n",
              "24             Veracruz         14\n",
              "3             Michoacán         14\n",
              "1             Chihuahua         14\n",
              "23               Sonora         14\n",
              "19              Hidalgo         13\n",
              "26      San Luis Potosí         12\n",
              "18           Guanajuato         12\n",
              "6             Zacatecas         10\n",
              "21               Oaxaca          8\n",
              "14              Tabasco          7\n",
              "5            Tamaulipas          6\n",
              "28             Guerrero          6\n",
              "15              Yucatán          6\n",
              "8   Baja California Sur          5\n",
              "4               Nayarit          5\n",
              "29         Quintana Roo          4\n",
              "16              Chiapas          4\n",
              "12             Campeche          4\n",
              "27               Colima          1\n",
              "31              Sinaloa          1\n",
              "30          Importación          0\n",
              "32             Nacional          0"
            ]
          },
          "metadata": {
            "tags": []
          },
          "execution_count": 45
        }
      ]
    },
    {
      "cell_type": "code",
      "metadata": {
        "colab": {
          "base_uri": "https://localhost:8080/",
          "height": 1000
        },
        "id": "PUiIaH_osG4I",
        "outputId": "762500aa-191b-4553-b9ae-5fc65aba1796"
      },
      "source": [
        "#out-degree\n",
        "od=dict(G19.out_degree())\n",
        "od=pd.DataFrame([[key, od[key]] for key in od.keys()], columns=['estado', 'out-degree'])\n",
        "od.sort_values(by='out-degree', ascending=False)"
      ],
      "execution_count": null,
      "outputs": [
        {
          "output_type": "execute_result",
          "data": {
            "text/html": [
              "<div>\n",
              "<style scoped>\n",
              "    .dataframe tbody tr th:only-of-type {\n",
              "        vertical-align: middle;\n",
              "    }\n",
              "\n",
              "    .dataframe tbody tr th {\n",
              "        vertical-align: top;\n",
              "    }\n",
              "\n",
              "    .dataframe thead th {\n",
              "        text-align: right;\n",
              "    }\n",
              "</style>\n",
              "<table border=\"1\" class=\"dataframe\">\n",
              "  <thead>\n",
              "    <tr style=\"text-align: right;\">\n",
              "      <th></th>\n",
              "      <th>estado</th>\n",
              "      <th>out-degree</th>\n",
              "    </tr>\n",
              "  </thead>\n",
              "  <tbody>\n",
              "    <tr>\n",
              "      <th>24</th>\n",
              "      <td>Veracruz</td>\n",
              "      <td>24</td>\n",
              "    </tr>\n",
              "    <tr>\n",
              "      <th>30</th>\n",
              "      <td>Importación</td>\n",
              "      <td>23</td>\n",
              "    </tr>\n",
              "    <tr>\n",
              "      <th>3</th>\n",
              "      <td>Michoacán</td>\n",
              "      <td>21</td>\n",
              "    </tr>\n",
              "    <tr>\n",
              "      <th>22</th>\n",
              "      <td>Puebla</td>\n",
              "      <td>21</td>\n",
              "    </tr>\n",
              "    <tr>\n",
              "      <th>6</th>\n",
              "      <td>Zacatecas</td>\n",
              "      <td>20</td>\n",
              "    </tr>\n",
              "    <tr>\n",
              "      <th>31</th>\n",
              "      <td>Sinaloa</td>\n",
              "      <td>19</td>\n",
              "    </tr>\n",
              "    <tr>\n",
              "      <th>16</th>\n",
              "      <td>Chiapas</td>\n",
              "      <td>17</td>\n",
              "    </tr>\n",
              "    <tr>\n",
              "      <th>14</th>\n",
              "      <td>Tabasco</td>\n",
              "      <td>17</td>\n",
              "    </tr>\n",
              "    <tr>\n",
              "      <th>27</th>\n",
              "      <td>Colima</td>\n",
              "      <td>16</td>\n",
              "    </tr>\n",
              "    <tr>\n",
              "      <th>1</th>\n",
              "      <td>Chihuahua</td>\n",
              "      <td>14</td>\n",
              "    </tr>\n",
              "    <tr>\n",
              "      <th>23</th>\n",
              "      <td>Sonora</td>\n",
              "      <td>14</td>\n",
              "    </tr>\n",
              "    <tr>\n",
              "      <th>10</th>\n",
              "      <td>Jalisco</td>\n",
              "      <td>14</td>\n",
              "    </tr>\n",
              "    <tr>\n",
              "      <th>28</th>\n",
              "      <td>Guerrero</td>\n",
              "      <td>14</td>\n",
              "    </tr>\n",
              "    <tr>\n",
              "      <th>17</th>\n",
              "      <td>Distrito Federal</td>\n",
              "      <td>13</td>\n",
              "    </tr>\n",
              "    <tr>\n",
              "      <th>21</th>\n",
              "      <td>Oaxaca</td>\n",
              "      <td>12</td>\n",
              "    </tr>\n",
              "    <tr>\n",
              "      <th>13</th>\n",
              "      <td>México</td>\n",
              "      <td>12</td>\n",
              "    </tr>\n",
              "    <tr>\n",
              "      <th>9</th>\n",
              "      <td>Coahuila</td>\n",
              "      <td>12</td>\n",
              "    </tr>\n",
              "    <tr>\n",
              "      <th>18</th>\n",
              "      <td>Guanajuato</td>\n",
              "      <td>12</td>\n",
              "    </tr>\n",
              "    <tr>\n",
              "      <th>4</th>\n",
              "      <td>Nayarit</td>\n",
              "      <td>11</td>\n",
              "    </tr>\n",
              "    <tr>\n",
              "      <th>20</th>\n",
              "      <td>Morelos</td>\n",
              "      <td>9</td>\n",
              "    </tr>\n",
              "    <tr>\n",
              "      <th>5</th>\n",
              "      <td>Tamaulipas</td>\n",
              "      <td>7</td>\n",
              "    </tr>\n",
              "    <tr>\n",
              "      <th>0</th>\n",
              "      <td>Aguascalientes</td>\n",
              "      <td>6</td>\n",
              "    </tr>\n",
              "    <tr>\n",
              "      <th>19</th>\n",
              "      <td>Hidalgo</td>\n",
              "      <td>5</td>\n",
              "    </tr>\n",
              "    <tr>\n",
              "      <th>11</th>\n",
              "      <td>Nuevo León</td>\n",
              "      <td>5</td>\n",
              "    </tr>\n",
              "    <tr>\n",
              "      <th>7</th>\n",
              "      <td>Baja California</td>\n",
              "      <td>5</td>\n",
              "    </tr>\n",
              "    <tr>\n",
              "      <th>12</th>\n",
              "      <td>Campeche</td>\n",
              "      <td>3</td>\n",
              "    </tr>\n",
              "    <tr>\n",
              "      <th>26</th>\n",
              "      <td>San Luis Potosí</td>\n",
              "      <td>3</td>\n",
              "    </tr>\n",
              "    <tr>\n",
              "      <th>25</th>\n",
              "      <td>Querétaro</td>\n",
              "      <td>2</td>\n",
              "    </tr>\n",
              "    <tr>\n",
              "      <th>32</th>\n",
              "      <td>Nacional</td>\n",
              "      <td>2</td>\n",
              "    </tr>\n",
              "    <tr>\n",
              "      <th>15</th>\n",
              "      <td>Yucatán</td>\n",
              "      <td>1</td>\n",
              "    </tr>\n",
              "    <tr>\n",
              "      <th>2</th>\n",
              "      <td>Durango</td>\n",
              "      <td>1</td>\n",
              "    </tr>\n",
              "    <tr>\n",
              "      <th>8</th>\n",
              "      <td>Baja California Sur</td>\n",
              "      <td>0</td>\n",
              "    </tr>\n",
              "    <tr>\n",
              "      <th>29</th>\n",
              "      <td>Quintana Roo</td>\n",
              "      <td>0</td>\n",
              "    </tr>\n",
              "  </tbody>\n",
              "</table>\n",
              "</div>"
            ],
            "text/plain": [
              "                 estado  out-degree\n",
              "24             Veracruz          24\n",
              "30          Importación          23\n",
              "3             Michoacán          21\n",
              "22               Puebla          21\n",
              "6             Zacatecas          20\n",
              "31              Sinaloa          19\n",
              "16              Chiapas          17\n",
              "14              Tabasco          17\n",
              "27               Colima          16\n",
              "1             Chihuahua          14\n",
              "23               Sonora          14\n",
              "10              Jalisco          14\n",
              "28             Guerrero          14\n",
              "17     Distrito Federal          13\n",
              "21               Oaxaca          12\n",
              "13               México          12\n",
              "9              Coahuila          12\n",
              "18           Guanajuato          12\n",
              "4               Nayarit          11\n",
              "20              Morelos           9\n",
              "5            Tamaulipas           7\n",
              "0        Aguascalientes           6\n",
              "19              Hidalgo           5\n",
              "11           Nuevo León           5\n",
              "7       Baja California           5\n",
              "12             Campeche           3\n",
              "26      San Luis Potosí           3\n",
              "25            Querétaro           2\n",
              "32             Nacional           2\n",
              "15              Yucatán           1\n",
              "2               Durango           1\n",
              "8   Baja California Sur           0\n",
              "29         Quintana Roo           0"
            ]
          },
          "metadata": {
            "tags": []
          },
          "execution_count": 46
        }
      ]
    },
    {
      "cell_type": "code",
      "metadata": {
        "colab": {
          "base_uri": "https://localhost:8080/",
          "height": 1000
        },
        "id": "AgbDTL7wpFf4",
        "outputId": "b6c3c55e-d9fd-41d0-eec0-8efa23896975"
      },
      "source": [
        "#betweenness centrality\n",
        "bc=dict(nx.betweenness_centrality(G19))\n",
        "bc=pd.DataFrame([[key, bc[key]] for key in bc.keys()], columns=['estado', 'betweenness centrality'])\n",
        "bc.sort_values(by='betweenness centrality', ascending=False)"
      ],
      "execution_count": null,
      "outputs": [
        {
          "output_type": "execute_result",
          "data": {
            "text/html": [
              "<div>\n",
              "<style scoped>\n",
              "    .dataframe tbody tr th:only-of-type {\n",
              "        vertical-align: middle;\n",
              "    }\n",
              "\n",
              "    .dataframe tbody tr th {\n",
              "        vertical-align: top;\n",
              "    }\n",
              "\n",
              "    .dataframe thead th {\n",
              "        text-align: right;\n",
              "    }\n",
              "</style>\n",
              "<table border=\"1\" class=\"dataframe\">\n",
              "  <thead>\n",
              "    <tr style=\"text-align: right;\">\n",
              "      <th></th>\n",
              "      <th>estado</th>\n",
              "      <th>betweenness centrality</th>\n",
              "    </tr>\n",
              "  </thead>\n",
              "  <tbody>\n",
              "    <tr>\n",
              "      <th>24</th>\n",
              "      <td>Veracruz</td>\n",
              "      <td>0.090648</td>\n",
              "    </tr>\n",
              "    <tr>\n",
              "      <th>10</th>\n",
              "      <td>Jalisco</td>\n",
              "      <td>0.086069</td>\n",
              "    </tr>\n",
              "    <tr>\n",
              "      <th>9</th>\n",
              "      <td>Coahuila</td>\n",
              "      <td>0.073446</td>\n",
              "    </tr>\n",
              "    <tr>\n",
              "      <th>22</th>\n",
              "      <td>Puebla</td>\n",
              "      <td>0.062055</td>\n",
              "    </tr>\n",
              "    <tr>\n",
              "      <th>17</th>\n",
              "      <td>Distrito Federal</td>\n",
              "      <td>0.061496</td>\n",
              "    </tr>\n",
              "    <tr>\n",
              "      <th>13</th>\n",
              "      <td>México</td>\n",
              "      <td>0.039328</td>\n",
              "    </tr>\n",
              "    <tr>\n",
              "      <th>6</th>\n",
              "      <td>Zacatecas</td>\n",
              "      <td>0.038901</td>\n",
              "    </tr>\n",
              "    <tr>\n",
              "      <th>14</th>\n",
              "      <td>Tabasco</td>\n",
              "      <td>0.038299</td>\n",
              "    </tr>\n",
              "    <tr>\n",
              "      <th>3</th>\n",
              "      <td>Michoacán</td>\n",
              "      <td>0.037431</td>\n",
              "    </tr>\n",
              "    <tr>\n",
              "      <th>23</th>\n",
              "      <td>Sonora</td>\n",
              "      <td>0.030774</td>\n",
              "    </tr>\n",
              "    <tr>\n",
              "      <th>12</th>\n",
              "      <td>Campeche</td>\n",
              "      <td>0.029234</td>\n",
              "    </tr>\n",
              "    <tr>\n",
              "      <th>0</th>\n",
              "      <td>Aguascalientes</td>\n",
              "      <td>0.023293</td>\n",
              "    </tr>\n",
              "    <tr>\n",
              "      <th>1</th>\n",
              "      <td>Chihuahua</td>\n",
              "      <td>0.021805</td>\n",
              "    </tr>\n",
              "    <tr>\n",
              "      <th>11</th>\n",
              "      <td>Nuevo León</td>\n",
              "      <td>0.018609</td>\n",
              "    </tr>\n",
              "    <tr>\n",
              "      <th>20</th>\n",
              "      <td>Morelos</td>\n",
              "      <td>0.012587</td>\n",
              "    </tr>\n",
              "    <tr>\n",
              "      <th>7</th>\n",
              "      <td>Baja California</td>\n",
              "      <td>0.011722</td>\n",
              "    </tr>\n",
              "    <tr>\n",
              "      <th>18</th>\n",
              "      <td>Guanajuato</td>\n",
              "      <td>0.011366</td>\n",
              "    </tr>\n",
              "    <tr>\n",
              "      <th>21</th>\n",
              "      <td>Oaxaca</td>\n",
              "      <td>0.006990</td>\n",
              "    </tr>\n",
              "    <tr>\n",
              "      <th>5</th>\n",
              "      <td>Tamaulipas</td>\n",
              "      <td>0.005022</td>\n",
              "    </tr>\n",
              "    <tr>\n",
              "      <th>28</th>\n",
              "      <td>Guerrero</td>\n",
              "      <td>0.004888</td>\n",
              "    </tr>\n",
              "    <tr>\n",
              "      <th>16</th>\n",
              "      <td>Chiapas</td>\n",
              "      <td>0.004134</td>\n",
              "    </tr>\n",
              "    <tr>\n",
              "      <th>4</th>\n",
              "      <td>Nayarit</td>\n",
              "      <td>0.003868</td>\n",
              "    </tr>\n",
              "    <tr>\n",
              "      <th>19</th>\n",
              "      <td>Hidalgo</td>\n",
              "      <td>0.003433</td>\n",
              "    </tr>\n",
              "    <tr>\n",
              "      <th>25</th>\n",
              "      <td>Querétaro</td>\n",
              "      <td>0.002411</td>\n",
              "    </tr>\n",
              "    <tr>\n",
              "      <th>26</th>\n",
              "      <td>San Luis Potosí</td>\n",
              "      <td>0.002062</td>\n",
              "    </tr>\n",
              "    <tr>\n",
              "      <th>31</th>\n",
              "      <td>Sinaloa</td>\n",
              "      <td>0.001253</td>\n",
              "    </tr>\n",
              "    <tr>\n",
              "      <th>27</th>\n",
              "      <td>Colima</td>\n",
              "      <td>0.001157</td>\n",
              "    </tr>\n",
              "    <tr>\n",
              "      <th>15</th>\n",
              "      <td>Yucatán</td>\n",
              "      <td>0.000810</td>\n",
              "    </tr>\n",
              "    <tr>\n",
              "      <th>2</th>\n",
              "      <td>Durango</td>\n",
              "      <td>0.000699</td>\n",
              "    </tr>\n",
              "    <tr>\n",
              "      <th>8</th>\n",
              "      <td>Baja California Sur</td>\n",
              "      <td>0.000000</td>\n",
              "    </tr>\n",
              "    <tr>\n",
              "      <th>29</th>\n",
              "      <td>Quintana Roo</td>\n",
              "      <td>0.000000</td>\n",
              "    </tr>\n",
              "    <tr>\n",
              "      <th>30</th>\n",
              "      <td>Importación</td>\n",
              "      <td>0.000000</td>\n",
              "    </tr>\n",
              "    <tr>\n",
              "      <th>32</th>\n",
              "      <td>Nacional</td>\n",
              "      <td>0.000000</td>\n",
              "    </tr>\n",
              "  </tbody>\n",
              "</table>\n",
              "</div>"
            ],
            "text/plain": [
              "                 estado  betweenness centrality\n",
              "24             Veracruz                0.090648\n",
              "10              Jalisco                0.086069\n",
              "9              Coahuila                0.073446\n",
              "22               Puebla                0.062055\n",
              "17     Distrito Federal                0.061496\n",
              "13               México                0.039328\n",
              "6             Zacatecas                0.038901\n",
              "14              Tabasco                0.038299\n",
              "3             Michoacán                0.037431\n",
              "23               Sonora                0.030774\n",
              "12             Campeche                0.029234\n",
              "0        Aguascalientes                0.023293\n",
              "1             Chihuahua                0.021805\n",
              "11           Nuevo León                0.018609\n",
              "20              Morelos                0.012587\n",
              "7       Baja California                0.011722\n",
              "18           Guanajuato                0.011366\n",
              "21               Oaxaca                0.006990\n",
              "5            Tamaulipas                0.005022\n",
              "28             Guerrero                0.004888\n",
              "16              Chiapas                0.004134\n",
              "4               Nayarit                0.003868\n",
              "19              Hidalgo                0.003433\n",
              "25            Querétaro                0.002411\n",
              "26      San Luis Potosí                0.002062\n",
              "31              Sinaloa                0.001253\n",
              "27               Colima                0.001157\n",
              "15              Yucatán                0.000810\n",
              "2               Durango                0.000699\n",
              "8   Baja California Sur                0.000000\n",
              "29         Quintana Roo                0.000000\n",
              "30          Importación                0.000000\n",
              "32             Nacional                0.000000"
            ]
          },
          "metadata": {
            "tags": []
          },
          "execution_count": 47
        }
      ]
    },
    {
      "cell_type": "code",
      "metadata": {
        "id": "o42J5U0V6S83"
      },
      "source": [
        "#average clustering:\n",
        "#ac=nx.average_clustering(G19)\n",
        "#print(\"average clustering=\", ac)\n",
        "#Reciprocidad\n",
        "#rec=nx.overall_reciprocity(G19)\n",
        "#print(\"Reciprocidad=\", rec)\n",
        "#Densidad\n",
        "#d=nx.density(G19)\n",
        "#print(\"densidad=\", d)\n",
        "#Conectividad promedio\n",
        "#cp=nx.average_node_connectivity(G19)\n",
        "#print(\"conectividad promedio=\", cp)"
      ],
      "execution_count": null,
      "outputs": []
    },
    {
      "cell_type": "code",
      "metadata": {
        "id": "OCM5czYd7So0"
      },
      "source": [
        "#OTRAS MEDIDAS\n",
        "#nx.average_degree_connectivity(G19)\n",
        "#nx.closeness_centrality(G19)\n",
        "#nx.bridges no esta disponible para redes dirigidas\n",
        "#nx.center no funciona porque no hay fuerte conectividad\n",
        "#usarla usando los costos de transporte: nx.bellman_ford_path(G19,'Yucatán', 'Baja California', weight='frecuencia')"
      ],
      "execution_count": null,
      "outputs": []
    },
    {
      "cell_type": "markdown",
      "metadata": {
        "id": "Qd2HpZOzFLKb"
      },
      "source": [
        "**MAPAS: LOS NODOS MÁS IMPORTANTES EN 2019**"
      ]
    },
    {
      "cell_type": "markdown",
      "metadata": {
        "id": "lcWj2qgSFy_f"
      },
      "source": [
        "**In degree centrality**"
      ]
    },
    {
      "cell_type": "code",
      "metadata": {
        "colab": {
          "base_uri": "https://localhost:8080/"
        },
        "id": "RpJrg6BYF1uc",
        "outputId": "9b81aca4-74e5-4b7d-a5c5-b34d8205ea2f"
      },
      "source": [
        "idc=nx.in_degree_centrality(G19)\n",
        "A=(idc['Aguascalientes'], idc['Colima'], 0, idc['Distrito Federal'] , idc['Morelos'], idc['México'], idc['Hidalgo'], idc['Puebla'], idc['Nuevo León'], idc['Coahuila'], idc['Chihuahua'], idc['Sonora'], idc['Michoacán'], idc['Querétaro'], idc['Guanajuato'], idc['Jalisco'], idc['Zacatecas'], idc['Durango'], idc['Tamaulipas'], idc['Veracruz'], idc['Guerrero'], idc['Sinaloa'], idc['Oaxaca'], idc['Nayarit'], idc['Chiapas'], idc['Tabasco'], idc['Campeche'], idc['Baja California'], idc['Baja California Sur'], idc['San Luis Potosí'], idc['Yucatán'], idc['Quintana Roo'])\n",
        "B=np.array(A)\n",
        "B"
      ],
      "execution_count": null,
      "outputs": [
        {
          "output_type": "execute_result",
          "data": {
            "text/plain": [
              "array([0.53125, 0.03125, 0.     , 0.53125, 0.5    , 0.53125, 0.40625,\n",
              "       0.5    , 0.65625, 0.625  , 0.4375 , 0.4375 , 0.4375 , 0.53125,\n",
              "       0.375  , 0.46875, 0.3125 , 0.6875 , 0.1875 , 0.4375 , 0.1875 ,\n",
              "       0.03125, 0.25   , 0.15625, 0.125  , 0.21875, 0.125  , 0.53125,\n",
              "       0.15625, 0.375  , 0.1875 , 0.125  ])"
            ]
          },
          "metadata": {
            "tags": []
          },
          "execution_count": 332
        }
      ]
    },
    {
      "cell_type": "code",
      "metadata": {
        "colab": {
          "base_uri": "https://localhost:8080/",
          "height": 472
        },
        "id": "C3WEk5K4L09U",
        "outputId": "d779a82d-e442-4f80-9833-6bd7811b662b"
      },
      "source": [
        "!git clone https://github.com/jschleuss/mexican-states.git\n",
        "\n",
        "mex=gpd.read_file(\"mexican-states/mexican-states.shp\")\n",
        "df_dummy = pd.DataFrame({'Estados':mex.name.values,\n",
        "                         'índice':B*10})\n",
        "#Asignando centroides\n",
        "x0=-102.57634952\n",
        "y0=23.9353719\n",
        "mex_tr = (mex[\"geometry\"]\n",
        "           .skew(xs=-40,ys=0,use_radians=False,origin=(x0,y0))\n",
        "           .rotate(angle=33,use_radians=False,origin=(x0,y0)))\n",
        "\n",
        "x=(mex_tr\n",
        "   .centroid\n",
        "   .apply(lambda p:p.x)\n",
        "   .values)\n",
        "y=(mex_tr\n",
        "   .centroid\n",
        "   .apply(lambda p:p.y)\n",
        "   .values)\n",
        "\n",
        "fig,ax = plt.subplots(1,1,figsize=(14,14))\n",
        "#Graficando el mapa\n",
        "mex_tr.plot(ax=ax,\n",
        "            color=\"#F0F4ED\",\n",
        "            edgecolor=\"#937584\",\n",
        "            zorder=1)\n",
        "#Mostrando la posición de las coordenadas\n",
        "ax.scatter(x=x,\n",
        "           y=y+df_dummy['índice'].values,\n",
        "           color=\"#ff4d5f\",\n",
        "           zorder=2,\n",
        "           s=10*df_dummy['índice'].values)\n",
        "for i in range(32):\n",
        "   ax.plot([x,x],\n",
        "           [y,y+df_dummy['índice'].values],\n",
        "           color=\"#937584\",\n",
        "           zorder=1)\n",
        "plt.show()"
      ],
      "execution_count": null,
      "outputs": [
        {
          "output_type": "stream",
          "text": [
            "fatal: destination path 'mexican-states' already exists and is not an empty directory.\n"
          ],
          "name": "stdout"
        },
        {
          "output_type": "stream",
          "text": [
            "/usr/local/lib/python3.7/dist-packages/ipykernel_launcher.py:13: UserWarning: Geometry is in a geographic CRS. Results from 'centroid' are likely incorrect. Use 'GeoSeries.to_crs()' to re-project geometries to a projected CRS before this operation.\n",
            "\n",
            "  del sys.path[0]\n",
            "/usr/local/lib/python3.7/dist-packages/ipykernel_launcher.py:17: UserWarning: Geometry is in a geographic CRS. Results from 'centroid' are likely incorrect. Use 'GeoSeries.to_crs()' to re-project geometries to a projected CRS before this operation.\n",
            "\n"
          ],
          "name": "stderr"
        },
        {
          "output_type": "display_data",
          "data": {
            "image/png": "[encoded data removed]",
            "text/plain": [
              "<Figure size 1008x1008 with 1 Axes>"
            ]
          },
          "metadata": {
            "tags": []
          }
        }
      ]
    },
    {
      "cell_type": "code",
      "metadata": {
        "colab": {
          "base_uri": "https://localhost:8080/",
          "height": 731
        },
        "id": "cix3wyFt1Bbg",
        "outputId": "579f414b-f6c4-4d79-b83b-f8632e1fe2b2"
      },
      "source": [
        "adj_2019[adj_2019['destino']=='Durango']"
      ],
      "execution_count": null,
      "outputs": [
        {
          "output_type": "execute_result",
          "data": {
            "text/html": [
              "<div>\n",
              "<style scoped>\n",
              "    .dataframe tbody tr th:only-of-type {\n",
              "        vertical-align: middle;\n",
              "    }\n",
              "\n",
              "    .dataframe tbody tr th {\n",
              "        vertical-align: top;\n",
              "    }\n",
              "\n",
              "    .dataframe thead th {\n",
              "        text-align: right;\n",
              "    }\n",
              "</style>\n",
              "<table border=\"1\" class=\"dataframe\">\n",
              "  <thead>\n",
              "    <tr style=\"text-align: right;\">\n",
              "      <th></th>\n",
              "      <th>origen</th>\n",
              "      <th>destino</th>\n",
              "      <th>frecuencia</th>\n",
              "    </tr>\n",
              "  </thead>\n",
              "  <tbody>\n",
              "    <tr>\n",
              "      <th>2</th>\n",
              "      <td>Aguascalientes</td>\n",
              "      <td>Durango</td>\n",
              "      <td>24</td>\n",
              "    </tr>\n",
              "    <tr>\n",
              "      <th>10</th>\n",
              "      <td>Baja California</td>\n",
              "      <td>Durango</td>\n",
              "      <td>6</td>\n",
              "    </tr>\n",
              "    <tr>\n",
              "      <th>24</th>\n",
              "      <td>Chiapas</td>\n",
              "      <td>Durango</td>\n",
              "      <td>52</td>\n",
              "    </tr>\n",
              "    <tr>\n",
              "      <th>41</th>\n",
              "      <td>Chihuahua</td>\n",
              "      <td>Durango</td>\n",
              "      <td>63</td>\n",
              "    </tr>\n",
              "    <tr>\n",
              "      <th>54</th>\n",
              "      <td>Coahuila</td>\n",
              "      <td>Durango</td>\n",
              "      <td>7</td>\n",
              "    </tr>\n",
              "    <tr>\n",
              "      <th>69</th>\n",
              "      <td>Colima</td>\n",
              "      <td>Durango</td>\n",
              "      <td>42</td>\n",
              "    </tr>\n",
              "    <tr>\n",
              "      <th>99</th>\n",
              "      <td>Guanajuato</td>\n",
              "      <td>Durango</td>\n",
              "      <td>42</td>\n",
              "    </tr>\n",
              "    <tr>\n",
              "      <th>113</th>\n",
              "      <td>Guerrero</td>\n",
              "      <td>Durango</td>\n",
              "      <td>13</td>\n",
              "    </tr>\n",
              "    <tr>\n",
              "      <th>135</th>\n",
              "      <td>Importación</td>\n",
              "      <td>Durango</td>\n",
              "      <td>122</td>\n",
              "    </tr>\n",
              "    <tr>\n",
              "      <th>158</th>\n",
              "      <td>Jalisco</td>\n",
              "      <td>Durango</td>\n",
              "      <td>143</td>\n",
              "    </tr>\n",
              "    <tr>\n",
              "      <th>173</th>\n",
              "      <td>Michoacán</td>\n",
              "      <td>Durango</td>\n",
              "      <td>35</td>\n",
              "    </tr>\n",
              "    <tr>\n",
              "      <th>204</th>\n",
              "      <td>México</td>\n",
              "      <td>Durango</td>\n",
              "      <td>6</td>\n",
              "    </tr>\n",
              "    <tr>\n",
              "      <th>218</th>\n",
              "      <td>Nayarit</td>\n",
              "      <td>Durango</td>\n",
              "      <td>18</td>\n",
              "    </tr>\n",
              "    <tr>\n",
              "      <th>229</th>\n",
              "      <td>Nuevo León</td>\n",
              "      <td>Durango</td>\n",
              "      <td>45</td>\n",
              "    </tr>\n",
              "    <tr>\n",
              "      <th>251</th>\n",
              "      <td>Puebla</td>\n",
              "      <td>Durango</td>\n",
              "      <td>6</td>\n",
              "    </tr>\n",
              "    <tr>\n",
              "      <th>273</th>\n",
              "      <td>San Luis Potosí</td>\n",
              "      <td>Durango</td>\n",
              "      <td>24</td>\n",
              "    </tr>\n",
              "    <tr>\n",
              "      <th>282</th>\n",
              "      <td>Sinaloa</td>\n",
              "      <td>Durango</td>\n",
              "      <td>110</td>\n",
              "    </tr>\n",
              "    <tr>\n",
              "      <th>301</th>\n",
              "      <td>Sonora</td>\n",
              "      <td>Durango</td>\n",
              "      <td>24</td>\n",
              "    </tr>\n",
              "    <tr>\n",
              "      <th>315</th>\n",
              "      <td>Tabasco</td>\n",
              "      <td>Durango</td>\n",
              "      <td>12</td>\n",
              "    </tr>\n",
              "    <tr>\n",
              "      <th>331</th>\n",
              "      <td>Tamaulipas</td>\n",
              "      <td>Durango</td>\n",
              "      <td>12</td>\n",
              "    </tr>\n",
              "    <tr>\n",
              "      <th>343</th>\n",
              "      <td>Veracruz</td>\n",
              "      <td>Durango</td>\n",
              "      <td>6</td>\n",
              "    </tr>\n",
              "    <tr>\n",
              "      <th>369</th>\n",
              "      <td>Zacatecas</td>\n",
              "      <td>Durango</td>\n",
              "      <td>42</td>\n",
              "    </tr>\n",
              "  </tbody>\n",
              "</table>\n",
              "</div>"
            ],
            "text/plain": [
              "              origen  destino  frecuencia\n",
              "2     Aguascalientes  Durango          24\n",
              "10   Baja California  Durango           6\n",
              "24           Chiapas  Durango          52\n",
              "41         Chihuahua  Durango          63\n",
              "54          Coahuila  Durango           7\n",
              "69            Colima  Durango          42\n",
              "99        Guanajuato  Durango          42\n",
              "113         Guerrero  Durango          13\n",
              "135      Importación  Durango         122\n",
              "158          Jalisco  Durango         143\n",
              "173        Michoacán  Durango          35\n",
              "204           México  Durango           6\n",
              "218          Nayarit  Durango          18\n",
              "229       Nuevo León  Durango          45\n",
              "251           Puebla  Durango           6\n",
              "273  San Luis Potosí  Durango          24\n",
              "282          Sinaloa  Durango         110\n",
              "301           Sonora  Durango          24\n",
              "315          Tabasco  Durango          12\n",
              "331       Tamaulipas  Durango          12\n",
              "343         Veracruz  Durango           6\n",
              "369        Zacatecas  Durango          42"
            ]
          },
          "metadata": {
            "tags": []
          },
          "execution_count": 17
        }
      ]
    },
    {
      "cell_type": "code",
      "metadata": {
        "colab": {
          "base_uri": "https://localhost:8080/",
          "height": 80
        },
        "id": "OII9iNij1Fz8",
        "outputId": "34e8052d-bb4d-43b0-af6a-4afe1de27219"
      },
      "source": [
        "adj_2019[adj_2019['origen']=='Durango']"
      ],
      "execution_count": null,
      "outputs": [
        {
          "output_type": "execute_result",
          "data": {
            "text/html": [
              "<div>\n",
              "<style scoped>\n",
              "    .dataframe tbody tr th:only-of-type {\n",
              "        vertical-align: middle;\n",
              "    }\n",
              "\n",
              "    .dataframe tbody tr th {\n",
              "        vertical-align: top;\n",
              "    }\n",
              "\n",
              "    .dataframe thead th {\n",
              "        text-align: right;\n",
              "    }\n",
              "</style>\n",
              "<table border=\"1\" class=\"dataframe\">\n",
              "  <thead>\n",
              "    <tr style=\"text-align: right;\">\n",
              "      <th></th>\n",
              "      <th>origen</th>\n",
              "      <th>destino</th>\n",
              "      <th>frecuencia</th>\n",
              "    </tr>\n",
              "  </thead>\n",
              "  <tbody>\n",
              "    <tr>\n",
              "      <th>94</th>\n",
              "      <td>Durango</td>\n",
              "      <td>Coahuila</td>\n",
              "      <td>30</td>\n",
              "    </tr>\n",
              "  </tbody>\n",
              "</table>\n",
              "</div>"
            ],
            "text/plain": [
              "     origen   destino  frecuencia\n",
              "94  Durango  Coahuila          30"
            ]
          },
          "metadata": {
            "tags": []
          },
          "execution_count": 19
        }
      ]
    },
    {
      "cell_type": "markdown",
      "metadata": {
        "id": "Mt1jonOu0_wA"
      },
      "source": [
        "Durango es el que tiene mayor in-degree, curiosamente todo su comercio sólo se dirige a Coahuila."
      ]
    },
    {
      "cell_type": "markdown",
      "metadata": {
        "id": "0SB7FQyBHX5u"
      },
      "source": [
        "**Out degree centrality**"
      ]
    },
    {
      "cell_type": "code",
      "metadata": {
        "colab": {
          "base_uri": "https://localhost:8080/"
        },
        "id": "JjmEUoJhHWaK",
        "outputId": "9c17fa49-7a3c-4195-88f5-2c5054e9d35e"
      },
      "source": [
        "odc=nx.out_degree_centrality(G19)\n",
        "A=(odc['Aguascalientes'], odc['Colima'], 0, odc['Distrito Federal'] , odc['Morelos'], odc['México'], odc['Hidalgo'], odc['Puebla'], odc['Nuevo León'], odc['Coahuila'], odc['Chihuahua'], odc['Sonora'], odc['Michoacán'], odc['Querétaro'], odc['Guanajuato'], odc['Jalisco'], odc['Zacatecas'], odc['Durango'], odc['Tamaulipas'], odc['Veracruz'], odc['Guerrero'], odc['Sinaloa'], odc['Oaxaca'], odc['Nayarit'], odc['Chiapas'], odc['Tabasco'], odc['Campeche'], odc['Baja California'], odc['Baja California Sur'], odc['San Luis Potosí'], odc['Yucatán'], odc['Quintana Roo'])\n",
        "B=np.array(A)\n",
        "B"
      ],
      "execution_count": null,
      "outputs": [
        {
          "output_type": "execute_result",
          "data": {
            "text/plain": [
              "array([0.1875 , 0.5    , 0.     , 0.40625, 0.28125, 0.375  , 0.15625,\n",
              "       0.65625, 0.15625, 0.375  , 0.4375 , 0.4375 , 0.65625, 0.0625 ,\n",
              "       0.375  , 0.4375 , 0.625  , 0.03125, 0.21875, 0.75   , 0.4375 ,\n",
              "       0.59375, 0.375  , 0.34375, 0.53125, 0.53125, 0.09375, 0.15625,\n",
              "       0.     , 0.09375, 0.03125, 0.     ])"
            ]
          },
          "metadata": {
            "tags": []
          },
          "execution_count": 335
        }
      ]
    },
    {
      "cell_type": "code",
      "metadata": {
        "colab": {
          "base_uri": "https://localhost:8080/",
          "height": 482
        },
        "id": "OCwSTxYpIHUr",
        "outputId": "812723b9-a6c7-45fb-b027-5ef3a3143b1a"
      },
      "source": [
        "!git clone https://github.com/jschleuss/mexican-states.git\n",
        "\n",
        "mex=gpd.read_file(\"mexican-states/mexican-states.shp\")\n",
        "df_dummy = pd.DataFrame({'Estados':mex.name.values,\n",
        "                         'índice':B*10})\n",
        "#Asignando centroides\n",
        "x0=-102.57634952\n",
        "y0=23.9353719\n",
        "mex_tr = (mex[\"geometry\"]\n",
        "           .skew(xs=-40,ys=0,use_radians=False,origin=(x0,y0))\n",
        "           .rotate(angle=33,use_radians=False,origin=(x0,y0)))\n",
        "\n",
        "x=(mex_tr\n",
        "   .centroid\n",
        "   .apply(lambda p:p.x)\n",
        "   .values)\n",
        "y=(mex_tr\n",
        "   .centroid\n",
        "   .apply(lambda p:p.y)\n",
        "   .values)\n",
        "\n",
        "fig,ax = plt.subplots(1,1,figsize=(14,14))\n",
        "#Graficando el mapa\n",
        "mex_tr.plot(ax=ax,\n",
        "            color=\"#F0F4ED\",\n",
        "            edgecolor=\"#937584\",\n",
        "            zorder=1)\n",
        "#Mostrando la posición de las coordenadas\n",
        "ax.scatter(x=x,\n",
        "           y=y+df_dummy['índice'].values,\n",
        "           color=\"#2102ED\",\n",
        "           zorder=2,\n",
        "           s=10*df_dummy['índice'].values)\n",
        "for i in range(32):\n",
        "   ax.plot([x,x],\n",
        "           [y,y+df_dummy['índice'].values],\n",
        "           color=\"#937584\",\n",
        "           zorder=1)\n",
        "plt.show()"
      ],
      "execution_count": null,
      "outputs": [
        {
          "output_type": "stream",
          "text": [
            "fatal: destination path 'mexican-states' already exists and is not an empty directory.\n"
          ],
          "name": "stdout"
        },
        {
          "output_type": "stream",
          "text": [
            "/usr/local/lib/python3.7/dist-packages/ipykernel_launcher.py:13: UserWarning: Geometry is in a geographic CRS. Results from 'centroid' are likely incorrect. Use 'GeoSeries.to_crs()' to re-project geometries to a projected CRS before this operation.\n",
            "\n",
            "  del sys.path[0]\n",
            "/usr/local/lib/python3.7/dist-packages/ipykernel_launcher.py:17: UserWarning: Geometry is in a geographic CRS. Results from 'centroid' are likely incorrect. Use 'GeoSeries.to_crs()' to re-project geometries to a projected CRS before this operation.\n",
            "\n"
          ],
          "name": "stderr"
        },
        {
          "output_type": "display_data",
          "data": {
            "image/png": "[encoded data removed]",
            "text/plain": [
              "<Figure size 1008x1008 with 1 Axes>"
            ]
          },
          "metadata": {
            "tags": []
          }
        }
      ]
    },
    {
      "cell_type": "code",
      "metadata": {
        "colab": {
          "base_uri": "https://localhost:8080/",
          "height": 483
        },
        "id": "3EA8Krwz2ZI3",
        "outputId": "4838403c-42ec-4135-a2f7-30869881c7d0"
      },
      "source": [
        "adj_2019[adj_2019['destino']=='Veracruz']"
      ],
      "execution_count": null,
      "outputs": [
        {
          "output_type": "execute_result",
          "data": {
            "text/html": [
              "<div>\n",
              "<style scoped>\n",
              "    .dataframe tbody tr th:only-of-type {\n",
              "        vertical-align: middle;\n",
              "    }\n",
              "\n",
              "    .dataframe tbody tr th {\n",
              "        vertical-align: top;\n",
              "    }\n",
              "\n",
              "    .dataframe thead th {\n",
              "        text-align: right;\n",
              "    }\n",
              "</style>\n",
              "<table border=\"1\" class=\"dataframe\">\n",
              "  <thead>\n",
              "    <tr style=\"text-align: right;\">\n",
              "      <th></th>\n",
              "      <th>origen</th>\n",
              "      <th>destino</th>\n",
              "      <th>frecuencia</th>\n",
              "    </tr>\n",
              "  </thead>\n",
              "  <tbody>\n",
              "    <tr>\n",
              "      <th>34</th>\n",
              "      <td>Chiapas</td>\n",
              "      <td>Veracruz</td>\n",
              "      <td>12</td>\n",
              "    </tr>\n",
              "    <tr>\n",
              "      <th>50</th>\n",
              "      <td>Chihuahua</td>\n",
              "      <td>Veracruz</td>\n",
              "      <td>18</td>\n",
              "    </tr>\n",
              "    <tr>\n",
              "      <th>62</th>\n",
              "      <td>Coahuila</td>\n",
              "      <td>Veracruz</td>\n",
              "      <td>6</td>\n",
              "    </tr>\n",
              "    <tr>\n",
              "      <th>78</th>\n",
              "      <td>Colima</td>\n",
              "      <td>Veracruz</td>\n",
              "      <td>12</td>\n",
              "    </tr>\n",
              "    <tr>\n",
              "      <th>92</th>\n",
              "      <td>Distrito Federal</td>\n",
              "      <td>Veracruz</td>\n",
              "      <td>72</td>\n",
              "    </tr>\n",
              "    <tr>\n",
              "      <th>123</th>\n",
              "      <td>Guerrero</td>\n",
              "      <td>Veracruz</td>\n",
              "      <td>24</td>\n",
              "    </tr>\n",
              "    <tr>\n",
              "      <th>151</th>\n",
              "      <td>Importación</td>\n",
              "      <td>Veracruz</td>\n",
              "      <td>24</td>\n",
              "    </tr>\n",
              "    <tr>\n",
              "      <th>188</th>\n",
              "      <td>Michoacán</td>\n",
              "      <td>Veracruz</td>\n",
              "      <td>12</td>\n",
              "    </tr>\n",
              "    <tr>\n",
              "      <th>266</th>\n",
              "      <td>Puebla</td>\n",
              "      <td>Veracruz</td>\n",
              "      <td>576</td>\n",
              "    </tr>\n",
              "    <tr>\n",
              "      <th>270</th>\n",
              "      <td>Querétaro</td>\n",
              "      <td>Veracruz</td>\n",
              "      <td>6</td>\n",
              "    </tr>\n",
              "    <tr>\n",
              "      <th>275</th>\n",
              "      <td>San Luis Potosí</td>\n",
              "      <td>Veracruz</td>\n",
              "      <td>6</td>\n",
              "    </tr>\n",
              "    <tr>\n",
              "      <th>310</th>\n",
              "      <td>Sonora</td>\n",
              "      <td>Veracruz</td>\n",
              "      <td>6</td>\n",
              "    </tr>\n",
              "    <tr>\n",
              "      <th>327</th>\n",
              "      <td>Tabasco</td>\n",
              "      <td>Veracruz</td>\n",
              "      <td>12</td>\n",
              "    </tr>\n",
              "    <tr>\n",
              "      <th>383</th>\n",
              "      <td>Zacatecas</td>\n",
              "      <td>Veracruz</td>\n",
              "      <td>12</td>\n",
              "    </tr>\n",
              "  </tbody>\n",
              "</table>\n",
              "</div>"
            ],
            "text/plain": [
              "               origen   destino  frecuencia\n",
              "34            Chiapas  Veracruz          12\n",
              "50          Chihuahua  Veracruz          18\n",
              "62           Coahuila  Veracruz           6\n",
              "78             Colima  Veracruz          12\n",
              "92   Distrito Federal  Veracruz          72\n",
              "123          Guerrero  Veracruz          24\n",
              "151       Importación  Veracruz          24\n",
              "188         Michoacán  Veracruz          12\n",
              "266            Puebla  Veracruz         576\n",
              "270         Querétaro  Veracruz           6\n",
              "275   San Luis Potosí  Veracruz           6\n",
              "310            Sonora  Veracruz           6\n",
              "327           Tabasco  Veracruz          12\n",
              "383         Zacatecas  Veracruz          12"
            ]
          },
          "metadata": {
            "tags": []
          },
          "execution_count": 23
        }
      ]
    },
    {
      "cell_type": "markdown",
      "metadata": {
        "id": "qcdk-Tg808Dp"
      },
      "source": [
        "Veracruz tiene el mayor out-degree. Uno de sus fuentes más importantes son las importaciones. Sin embargo, Chihuhua, un estado del norte, envía directamente mercancías a Veracruz.\n",
        "\n"
      ]
    },
    {
      "cell_type": "markdown",
      "metadata": {
        "id": "ZibPQbF13b03"
      },
      "source": [
        "**Betweenness Centrality**"
      ]
    },
    {
      "cell_type": "code",
      "metadata": {
        "colab": {
          "base_uri": "https://localhost:8080/"
        },
        "id": "zfejiRPN5wNG",
        "outputId": "8579fd2f-23d1-4aac-d0f7-45898d0c8037"
      },
      "source": [
        "bc=nx.betweenness_centrality(G19)\n",
        "A=(bc['Aguascalientes'], bc['Colima'], 0, bc['Distrito Federal'] , bc['Morelos'], bc['México'], bc['Hidalgo'], bc['Puebla'], bc['Nuevo León'], bc['Coahuila'], bc['Chihuahua'], bc['Sonora'], bc['Michoacán'], bc['Querétaro'], bc['Guanajuato'], bc['Jalisco'], bc['Zacatecas'], bc['Durango'], bc['Tamaulipas'], bc['Veracruz'], bc['Guerrero'], bc['Sinaloa'], bc['Oaxaca'], bc['Nayarit'], bc['Chiapas'], bc['Tabasco'], bc['Campeche'], bc['Baja California'], bc['Baja California Sur'], bc['San Luis Potosí'], bc['Yucatán'], bc['Quintana Roo'])\n",
        "B=np.array(A)\n",
        "B"
      ],
      "execution_count": null,
      "outputs": [
        {
          "output_type": "execute_result",
          "data": {
            "text/plain": [
              "array([0.02329322, 0.00115738, 0.        , 0.06149642, 0.01258685,\n",
              "       0.03932781, 0.00343336, 0.06205537, 0.01860929, 0.07344605,\n",
              "       0.02180524, 0.03077363, 0.03743071, 0.00241066, 0.01136562,\n",
              "       0.0860689 , 0.03890054, 0.00069918, 0.00502197, 0.09064801,\n",
              "       0.00488831, 0.00125341, 0.00698962, 0.0038676 , 0.0041337 ,\n",
              "       0.0382993 , 0.02923387, 0.01172174, 0.        , 0.00206227,\n",
              "       0.00081028, 0.        ])"
            ]
          },
          "metadata": {
            "tags": []
          },
          "execution_count": 48
        }
      ]
    },
    {
      "cell_type": "code",
      "metadata": {
        "colab": {
          "background_save": true,
          "base_uri": "https://localhost:8080/",
          "height": 513
        },
        "id": "Frn8fuMy6euG",
        "outputId": "12bdb90c-59f6-4fb8-eea9-a778cb6d3f71"
      },
      "source": [
        "!git clone https://github.com/jschleuss/mexican-states.git\n",
        "\n",
        "mex=gpd.read_file(\"mexican-states/mexican-states.shp\")\n",
        "df_dummy = pd.DataFrame({'Estados':mex.name.values,\n",
        "                         'índice':B*100})\n",
        "#Asignando centroides\n",
        "x0=-102.57634952\n",
        "y0=23.9353719\n",
        "mex_tr = (mex[\"geometry\"]\n",
        "           .skew(xs=-40,ys=0,use_radians=False,origin=(x0,y0))\n",
        "           .rotate(angle=33,use_radians=False,origin=(x0,y0)))\n",
        "\n",
        "x=(mex_tr\n",
        "   .centroid\n",
        "   .apply(lambda p:p.x)\n",
        "   .values)\n",
        "y=(mex_tr\n",
        "   .centroid\n",
        "   .apply(lambda p:p.y)\n",
        "   .values)\n",
        "\n",
        "fig,ax = plt.subplots(1,1,figsize=(14,14))\n",
        "#Graficando el mapa\n",
        "mex_tr.plot(ax=ax,\n",
        "            color=\"#F0F4ED\",\n",
        "            edgecolor=\"#937584\",\n",
        "            zorder=1)\n",
        "#Mostrando la posición de las coordenadas\n",
        "ax.scatter(x=x,\n",
        "           y=y+df_dummy['índice'].values,\n",
        "           color=\"#35B55F\",\n",
        "           zorder=2,\n",
        "           s=10*df_dummy['índice'].values)\n",
        "for i in range(32):\n",
        "   ax.plot([x,x],\n",
        "           [y,y+df_dummy['índice'].values],\n",
        "           color=\"#937584\",\n",
        "           zorder=1)\n",
        "plt.show()"
      ],
      "execution_count": null,
      "outputs": [
        {
          "output_type": "stream",
          "text": [
            "fatal: destination path 'mexican-states' already exists and is not an empty directory.\n"
          ],
          "name": "stdout"
        },
        {
          "output_type": "stream",
          "text": [
            "/usr/local/lib/python3.7/dist-packages/ipykernel_launcher.py:13: UserWarning: Geometry is in a geographic CRS. Results from 'centroid' are likely incorrect. Use 'GeoSeries.to_crs()' to re-project geometries to a projected CRS before this operation.\n",
            "\n",
            "  del sys.path[0]\n",
            "/usr/local/lib/python3.7/dist-packages/ipykernel_launcher.py:17: UserWarning: Geometry is in a geographic CRS. Results from 'centroid' are likely incorrect. Use 'GeoSeries.to_crs()' to re-project geometries to a projected CRS before this operation.\n",
            "\n"
          ],
          "name": "stderr"
        },
        {
          "output_type": "display_data",
          "data": {
            "image/png": "[encoded data removed]",
            "text/plain": [
              "<Figure size 1008x1008 with 1 Axes>"
            ]
          },
          "metadata": {
            "tags": []
          }
        }
      ]
    },
    {
      "cell_type": "markdown",
      "metadata": {
        "id": "GBqPItQU_j8X"
      },
      "source": [
        "##ANÁLISIS DE LA RED DE COMERCIALIZACIÓN DE FRUTAS Y HORTALIZAS, 2020"
      ]
    },
    {
      "cell_type": "markdown",
      "metadata": {
        "id": "Ey-XqSZmG_0s"
      },
      "source": [
        "DataFrame 2020"
      ]
    },
    {
      "cell_type": "code",
      "metadata": {
        "id": "uSbRtZS5_nHx",
        "colab": {
          "base_uri": "https://localhost:8080/",
          "height": 204
        },
        "outputId": "e2fe0b52-4404-4eb2-90ce-2bfd584e25df"
      },
      "source": [
        "#DATAFRAME COMERCIO 2020\n",
        "\n",
        "c2020.columns = c2020.columns.str.lower()\n",
        "#Quedarse solo con los estados en la columna destino\n",
        "c2020['destino']=c2020['destino'].apply(lambda x:(re.search('(.+(?=:))', x)).group(1))\n",
        "#Agrupando\n",
        "adj_2020 = c2020.groupby(['origen', 'destino']).size().rename('peso').reset_index()\n",
        "#Eliminamos self-loops\n",
        "adj_2020=adj_2020[adj_2020['origen']!=adj_2020['destino']]\n",
        "adj_2020.head()"
      ],
      "execution_count": null,
      "outputs": [
        {
          "output_type": "execute_result",
          "data": {
            "text/html": [
              "<div>\n",
              "<style scoped>\n",
              "    .dataframe tbody tr th:only-of-type {\n",
              "        vertical-align: middle;\n",
              "    }\n",
              "\n",
              "    .dataframe tbody tr th {\n",
              "        vertical-align: top;\n",
              "    }\n",
              "\n",
              "    .dataframe thead th {\n",
              "        text-align: right;\n",
              "    }\n",
              "</style>\n",
              "<table border=\"1\" class=\"dataframe\">\n",
              "  <thead>\n",
              "    <tr style=\"text-align: right;\">\n",
              "      <th></th>\n",
              "      <th>origen</th>\n",
              "      <th>destino</th>\n",
              "      <th>peso</th>\n",
              "    </tr>\n",
              "  </thead>\n",
              "  <tbody>\n",
              "    <tr>\n",
              "      <th>1</th>\n",
              "      <td>Aguascalientes</td>\n",
              "      <td>Chihuahua</td>\n",
              "      <td>12</td>\n",
              "    </tr>\n",
              "    <tr>\n",
              "      <th>2</th>\n",
              "      <td>Aguascalientes</td>\n",
              "      <td>Coahuila</td>\n",
              "      <td>6</td>\n",
              "    </tr>\n",
              "    <tr>\n",
              "      <th>3</th>\n",
              "      <td>Aguascalientes</td>\n",
              "      <td>Durango</td>\n",
              "      <td>25</td>\n",
              "    </tr>\n",
              "    <tr>\n",
              "      <th>4</th>\n",
              "      <td>Aguascalientes</td>\n",
              "      <td>Guanajuato</td>\n",
              "      <td>6</td>\n",
              "    </tr>\n",
              "    <tr>\n",
              "      <th>5</th>\n",
              "      <td>Aguascalientes</td>\n",
              "      <td>Michoacán</td>\n",
              "      <td>12</td>\n",
              "    </tr>\n",
              "  </tbody>\n",
              "</table>\n",
              "</div>"
            ],
            "text/plain": [
              "           origen     destino  peso\n",
              "1  Aguascalientes   Chihuahua    12\n",
              "2  Aguascalientes    Coahuila     6\n",
              "3  Aguascalientes     Durango    25\n",
              "4  Aguascalientes  Guanajuato     6\n",
              "5  Aguascalientes   Michoacán    12"
            ]
          },
          "metadata": {
            "tags": []
          },
          "execution_count": 63
        }
      ]
    },
    {
      "cell_type": "markdown",
      "metadata": {
        "id": "oGRpVZNGHGGA"
      },
      "source": [
        "Red 2020"
      ]
    },
    {
      "cell_type": "code",
      "metadata": {
        "id": "kSTZAIS-C1LR"
      },
      "source": [
        "#RED 2020\n",
        "\n",
        "G20 = nx.from_pandas_edgelist(\n",
        "    adj_2020,\n",
        "    source='origen',\n",
        "    target='destino',\n",
        "    edge_attr='peso',\n",
        "    create_using=nx.DiGraph)"
      ],
      "execution_count": null,
      "outputs": []
    },
    {
      "cell_type": "code",
      "metadata": {
        "colab": {
          "base_uri": "https://localhost:8080/"
        },
        "id": "HfdgOfCyDooY",
        "outputId": "a398bf3a-3ef5-480d-ee58-82b1b1582afe"
      },
      "source": [
        "print(\"número de aristas\", G20.size())\n",
        "print(\"número de nodos\", G20.order())"
      ],
      "execution_count": null,
      "outputs": [
        {
          "output_type": "stream",
          "text": [
            "número de aristas 353\n",
            "número de nodos 34\n"
          ],
          "name": "stdout"
        }
      ]
    },
    {
      "cell_type": "markdown",
      "metadata": {
        "id": "mrtmISdLHMHR"
      },
      "source": [
        "In-degree"
      ]
    },
    {
      "cell_type": "code",
      "metadata": {
        "colab": {
          "base_uri": "https://localhost:8080/",
          "height": 1000
        },
        "id": "0yN2cSqHEFQZ",
        "outputId": "ffb2ede9-77d4-4809-803a-7ca5dd2efc63"
      },
      "source": [
        "#in-degree\n",
        "id=dict(G20.in_degree())\n",
        "id=pd.DataFrame([[key, id[key]] for key in id.keys()], columns=['estado', 'in-degree'])\n",
        "id.sort_values(by='in-degree', ascending=False)"
      ],
      "execution_count": null,
      "outputs": [
        {
          "output_type": "execute_result",
          "data": {
            "text/html": [
              "<div>\n",
              "<style scoped>\n",
              "    .dataframe tbody tr th:only-of-type {\n",
              "        vertical-align: middle;\n",
              "    }\n",
              "\n",
              "    .dataframe tbody tr th {\n",
              "        vertical-align: top;\n",
              "    }\n",
              "\n",
              "    .dataframe thead th {\n",
              "        text-align: right;\n",
              "    }\n",
              "</style>\n",
              "<table border=\"1\" class=\"dataframe\">\n",
              "  <thead>\n",
              "    <tr style=\"text-align: right;\">\n",
              "      <th></th>\n",
              "      <th>estado</th>\n",
              "      <th>in-degree</th>\n",
              "    </tr>\n",
              "  </thead>\n",
              "  <tbody>\n",
              "    <tr>\n",
              "      <th>12</th>\n",
              "      <td>Nuevo León</td>\n",
              "      <td>22</td>\n",
              "    </tr>\n",
              "    <tr>\n",
              "      <th>3</th>\n",
              "      <td>Durango</td>\n",
              "      <td>21</td>\n",
              "    </tr>\n",
              "    <tr>\n",
              "      <th>11</th>\n",
              "      <td>México</td>\n",
              "      <td>21</td>\n",
              "    </tr>\n",
              "    <tr>\n",
              "      <th>2</th>\n",
              "      <td>Coahuila</td>\n",
              "      <td>18</td>\n",
              "    </tr>\n",
              "    <tr>\n",
              "      <th>19</th>\n",
              "      <td>Distrito Federal</td>\n",
              "      <td>18</td>\n",
              "    </tr>\n",
              "    <tr>\n",
              "      <th>0</th>\n",
              "      <td>Aguascalientes</td>\n",
              "      <td>17</td>\n",
              "    </tr>\n",
              "    <tr>\n",
              "      <th>16</th>\n",
              "      <td>Querétaro</td>\n",
              "      <td>17</td>\n",
              "    </tr>\n",
              "    <tr>\n",
              "      <th>6</th>\n",
              "      <td>Puebla</td>\n",
              "      <td>16</td>\n",
              "    </tr>\n",
              "    <tr>\n",
              "      <th>1</th>\n",
              "      <td>Chihuahua</td>\n",
              "      <td>15</td>\n",
              "    </tr>\n",
              "    <tr>\n",
              "      <th>5</th>\n",
              "      <td>Michoacán</td>\n",
              "      <td>15</td>\n",
              "    </tr>\n",
              "    <tr>\n",
              "      <th>21</th>\n",
              "      <td>Jalisco</td>\n",
              "      <td>15</td>\n",
              "    </tr>\n",
              "    <tr>\n",
              "      <th>14</th>\n",
              "      <td>Sonora</td>\n",
              "      <td>15</td>\n",
              "    </tr>\n",
              "    <tr>\n",
              "      <th>13</th>\n",
              "      <td>San Luis Potosí</td>\n",
              "      <td>14</td>\n",
              "    </tr>\n",
              "    <tr>\n",
              "      <th>9</th>\n",
              "      <td>Baja California</td>\n",
              "      <td>14</td>\n",
              "    </tr>\n",
              "    <tr>\n",
              "      <th>22</th>\n",
              "      <td>Morelos</td>\n",
              "      <td>14</td>\n",
              "    </tr>\n",
              "    <tr>\n",
              "      <th>20</th>\n",
              "      <td>Hidalgo</td>\n",
              "      <td>14</td>\n",
              "    </tr>\n",
              "    <tr>\n",
              "      <th>24</th>\n",
              "      <td>Veracruz</td>\n",
              "      <td>13</td>\n",
              "    </tr>\n",
              "    <tr>\n",
              "      <th>4</th>\n",
              "      <td>Guanajuato</td>\n",
              "      <td>13</td>\n",
              "    </tr>\n",
              "    <tr>\n",
              "      <th>8</th>\n",
              "      <td>Zacatecas</td>\n",
              "      <td>10</td>\n",
              "    </tr>\n",
              "    <tr>\n",
              "      <th>17</th>\n",
              "      <td>Yucatán</td>\n",
              "      <td>9</td>\n",
              "    </tr>\n",
              "    <tr>\n",
              "      <th>23</th>\n",
              "      <td>Oaxaca</td>\n",
              "      <td>7</td>\n",
              "    </tr>\n",
              "    <tr>\n",
              "      <th>26</th>\n",
              "      <td>Tabasco</td>\n",
              "      <td>7</td>\n",
              "    </tr>\n",
              "    <tr>\n",
              "      <th>10</th>\n",
              "      <td>Baja California Sur</td>\n",
              "      <td>6</td>\n",
              "    </tr>\n",
              "    <tr>\n",
              "      <th>7</th>\n",
              "      <td>Tamaulipas</td>\n",
              "      <td>6</td>\n",
              "    </tr>\n",
              "    <tr>\n",
              "      <th>18</th>\n",
              "      <td>Chiapas</td>\n",
              "      <td>4</td>\n",
              "    </tr>\n",
              "    <tr>\n",
              "      <th>15</th>\n",
              "      <td>Campeche</td>\n",
              "      <td>4</td>\n",
              "    </tr>\n",
              "    <tr>\n",
              "      <th>27</th>\n",
              "      <td>Guerrero</td>\n",
              "      <td>4</td>\n",
              "    </tr>\n",
              "    <tr>\n",
              "      <th>30</th>\n",
              "      <td>Sinaloa</td>\n",
              "      <td>2</td>\n",
              "    </tr>\n",
              "    <tr>\n",
              "      <th>25</th>\n",
              "      <td>Colima</td>\n",
              "      <td>1</td>\n",
              "    </tr>\n",
              "    <tr>\n",
              "      <th>28</th>\n",
              "      <td>Quintana Roo</td>\n",
              "      <td>1</td>\n",
              "    </tr>\n",
              "    <tr>\n",
              "      <th>29</th>\n",
              "      <td>Importación</td>\n",
              "      <td>0</td>\n",
              "    </tr>\n",
              "    <tr>\n",
              "      <th>31</th>\n",
              "      <td>Nacional</td>\n",
              "      <td>0</td>\n",
              "    </tr>\n",
              "    <tr>\n",
              "      <th>32</th>\n",
              "      <td>Nayarit</td>\n",
              "      <td>0</td>\n",
              "    </tr>\n",
              "    <tr>\n",
              "      <th>33</th>\n",
              "      <td>San Luis Potosi</td>\n",
              "      <td>0</td>\n",
              "    </tr>\n",
              "  </tbody>\n",
              "</table>\n",
              "</div>"
            ],
            "text/plain": [
              "                 estado  in-degree\n",
              "12           Nuevo León         22\n",
              "3               Durango         21\n",
              "11               México         21\n",
              "2              Coahuila         18\n",
              "19     Distrito Federal         18\n",
              "0        Aguascalientes         17\n",
              "16            Querétaro         17\n",
              "6                Puebla         16\n",
              "1             Chihuahua         15\n",
              "5             Michoacán         15\n",
              "21              Jalisco         15\n",
              "14               Sonora         15\n",
              "13      San Luis Potosí         14\n",
              "9       Baja California         14\n",
              "22              Morelos         14\n",
              "20              Hidalgo         14\n",
              "24             Veracruz         13\n",
              "4            Guanajuato         13\n",
              "8             Zacatecas         10\n",
              "17              Yucatán          9\n",
              "23               Oaxaca          7\n",
              "26              Tabasco          7\n",
              "10  Baja California Sur          6\n",
              "7            Tamaulipas          6\n",
              "18              Chiapas          4\n",
              "15             Campeche          4\n",
              "27             Guerrero          4\n",
              "30              Sinaloa          2\n",
              "25               Colima          1\n",
              "28         Quintana Roo          1\n",
              "29          Importación          0\n",
              "31             Nacional          0\n",
              "32              Nayarit          0\n",
              "33      San Luis Potosi          0"
            ]
          },
          "metadata": {
            "tags": []
          },
          "execution_count": 69
        }
      ]
    },
    {
      "cell_type": "markdown",
      "metadata": {
        "id": "vBewohotIW-d"
      },
      "source": [
        "Out degree"
      ]
    },
    {
      "cell_type": "code",
      "metadata": {
        "colab": {
          "base_uri": "https://localhost:8080/",
          "height": 1000
        },
        "id": "4lFEpzDdEnt0",
        "outputId": "3e4db3f6-feab-4327-b235-945a87eacaff"
      },
      "source": [
        "#out-degree\n",
        "od=dict(G20.out_degree())\n",
        "od=pd.DataFrame([[key, od[key]] for key in od.keys()], columns=['estado', 'out-degree'])\n",
        "od.sort_values(by='out-degree', ascending=False)"
      ],
      "execution_count": null,
      "outputs": [
        {
          "output_type": "execute_result",
          "data": {
            "text/html": [
              "<div>\n",
              "<style scoped>\n",
              "    .dataframe tbody tr th:only-of-type {\n",
              "        vertical-align: middle;\n",
              "    }\n",
              "\n",
              "    .dataframe tbody tr th {\n",
              "        vertical-align: top;\n",
              "    }\n",
              "\n",
              "    .dataframe thead th {\n",
              "        text-align: right;\n",
              "    }\n",
              "</style>\n",
              "<table border=\"1\" class=\"dataframe\">\n",
              "  <thead>\n",
              "    <tr style=\"text-align: right;\">\n",
              "      <th></th>\n",
              "      <th>estado</th>\n",
              "      <th>out-degree</th>\n",
              "    </tr>\n",
              "  </thead>\n",
              "  <tbody>\n",
              "    <tr>\n",
              "      <th>24</th>\n",
              "      <td>Veracruz</td>\n",
              "      <td>22</td>\n",
              "    </tr>\n",
              "    <tr>\n",
              "      <th>29</th>\n",
              "      <td>Importación</td>\n",
              "      <td>21</td>\n",
              "    </tr>\n",
              "    <tr>\n",
              "      <th>6</th>\n",
              "      <td>Puebla</td>\n",
              "      <td>21</td>\n",
              "    </tr>\n",
              "    <tr>\n",
              "      <th>5</th>\n",
              "      <td>Michoacán</td>\n",
              "      <td>20</td>\n",
              "    </tr>\n",
              "    <tr>\n",
              "      <th>8</th>\n",
              "      <td>Zacatecas</td>\n",
              "      <td>19</td>\n",
              "    </tr>\n",
              "    <tr>\n",
              "      <th>30</th>\n",
              "      <td>Sinaloa</td>\n",
              "      <td>19</td>\n",
              "    </tr>\n",
              "    <tr>\n",
              "      <th>18</th>\n",
              "      <td>Chiapas</td>\n",
              "      <td>16</td>\n",
              "    </tr>\n",
              "    <tr>\n",
              "      <th>26</th>\n",
              "      <td>Tabasco</td>\n",
              "      <td>16</td>\n",
              "    </tr>\n",
              "    <tr>\n",
              "      <th>25</th>\n",
              "      <td>Colima</td>\n",
              "      <td>15</td>\n",
              "    </tr>\n",
              "    <tr>\n",
              "      <th>27</th>\n",
              "      <td>Guerrero</td>\n",
              "      <td>14</td>\n",
              "    </tr>\n",
              "    <tr>\n",
              "      <th>1</th>\n",
              "      <td>Chihuahua</td>\n",
              "      <td>14</td>\n",
              "    </tr>\n",
              "    <tr>\n",
              "      <th>21</th>\n",
              "      <td>Jalisco</td>\n",
              "      <td>13</td>\n",
              "    </tr>\n",
              "    <tr>\n",
              "      <th>11</th>\n",
              "      <td>México</td>\n",
              "      <td>13</td>\n",
              "    </tr>\n",
              "    <tr>\n",
              "      <th>4</th>\n",
              "      <td>Guanajuato</td>\n",
              "      <td>13</td>\n",
              "    </tr>\n",
              "    <tr>\n",
              "      <th>19</th>\n",
              "      <td>Distrito Federal</td>\n",
              "      <td>13</td>\n",
              "    </tr>\n",
              "    <tr>\n",
              "      <th>23</th>\n",
              "      <td>Oaxaca</td>\n",
              "      <td>13</td>\n",
              "    </tr>\n",
              "    <tr>\n",
              "      <th>2</th>\n",
              "      <td>Coahuila</td>\n",
              "      <td>11</td>\n",
              "    </tr>\n",
              "    <tr>\n",
              "      <th>22</th>\n",
              "      <td>Morelos</td>\n",
              "      <td>10</td>\n",
              "    </tr>\n",
              "    <tr>\n",
              "      <th>14</th>\n",
              "      <td>Sonora</td>\n",
              "      <td>10</td>\n",
              "    </tr>\n",
              "    <tr>\n",
              "      <th>32</th>\n",
              "      <td>Nayarit</td>\n",
              "      <td>10</td>\n",
              "    </tr>\n",
              "    <tr>\n",
              "      <th>0</th>\n",
              "      <td>Aguascalientes</td>\n",
              "      <td>8</td>\n",
              "    </tr>\n",
              "    <tr>\n",
              "      <th>33</th>\n",
              "      <td>San Luis Potosi</td>\n",
              "      <td>7</td>\n",
              "    </tr>\n",
              "    <tr>\n",
              "      <th>12</th>\n",
              "      <td>Nuevo León</td>\n",
              "      <td>6</td>\n",
              "    </tr>\n",
              "    <tr>\n",
              "      <th>9</th>\n",
              "      <td>Baja California</td>\n",
              "      <td>6</td>\n",
              "    </tr>\n",
              "    <tr>\n",
              "      <th>7</th>\n",
              "      <td>Tamaulipas</td>\n",
              "      <td>6</td>\n",
              "    </tr>\n",
              "    <tr>\n",
              "      <th>20</th>\n",
              "      <td>Hidalgo</td>\n",
              "      <td>5</td>\n",
              "    </tr>\n",
              "    <tr>\n",
              "      <th>15</th>\n",
              "      <td>Campeche</td>\n",
              "      <td>3</td>\n",
              "    </tr>\n",
              "    <tr>\n",
              "      <th>31</th>\n",
              "      <td>Nacional</td>\n",
              "      <td>3</td>\n",
              "    </tr>\n",
              "    <tr>\n",
              "      <th>17</th>\n",
              "      <td>Yucatán</td>\n",
              "      <td>2</td>\n",
              "    </tr>\n",
              "    <tr>\n",
              "      <th>16</th>\n",
              "      <td>Querétaro</td>\n",
              "      <td>1</td>\n",
              "    </tr>\n",
              "    <tr>\n",
              "      <th>10</th>\n",
              "      <td>Baja California Sur</td>\n",
              "      <td>1</td>\n",
              "    </tr>\n",
              "    <tr>\n",
              "      <th>28</th>\n",
              "      <td>Quintana Roo</td>\n",
              "      <td>1</td>\n",
              "    </tr>\n",
              "    <tr>\n",
              "      <th>3</th>\n",
              "      <td>Durango</td>\n",
              "      <td>1</td>\n",
              "    </tr>\n",
              "    <tr>\n",
              "      <th>13</th>\n",
              "      <td>San Luis Potosí</td>\n",
              "      <td>0</td>\n",
              "    </tr>\n",
              "  </tbody>\n",
              "</table>\n",
              "</div>"
            ],
            "text/plain": [
              "                 estado  out-degree\n",
              "24             Veracruz          22\n",
              "29          Importación          21\n",
              "6                Puebla          21\n",
              "5             Michoacán          20\n",
              "8             Zacatecas          19\n",
              "30              Sinaloa          19\n",
              "18              Chiapas          16\n",
              "26              Tabasco          16\n",
              "25               Colima          15\n",
              "27             Guerrero          14\n",
              "1             Chihuahua          14\n",
              "21              Jalisco          13\n",
              "11               México          13\n",
              "4            Guanajuato          13\n",
              "19     Distrito Federal          13\n",
              "23               Oaxaca          13\n",
              "2              Coahuila          11\n",
              "22              Morelos          10\n",
              "14               Sonora          10\n",
              "32              Nayarit          10\n",
              "0        Aguascalientes           8\n",
              "33      San Luis Potosi           7\n",
              "12           Nuevo León           6\n",
              "9       Baja California           6\n",
              "7            Tamaulipas           6\n",
              "20              Hidalgo           5\n",
              "15             Campeche           3\n",
              "31             Nacional           3\n",
              "17              Yucatán           2\n",
              "16            Querétaro           1\n",
              "10  Baja California Sur           1\n",
              "28         Quintana Roo           1\n",
              "3               Durango           1\n",
              "13      San Luis Potosí           0"
            ]
          },
          "metadata": {
            "tags": []
          },
          "execution_count": 70
        }
      ]
    },
    {
      "cell_type": "markdown",
      "metadata": {
        "id": "7ZeNaiZBIaNK"
      },
      "source": [
        "Betweenness Centrality"
      ]
    },
    {
      "cell_type": "code",
      "metadata": {
        "colab": {
          "base_uri": "https://localhost:8080/",
          "height": 1000
        },
        "id": "4Q2zB1TgEwv5",
        "outputId": "3db22225-cf85-4dba-ae48-50998c7cb161"
      },
      "source": [
        "#betweenness centrality\n",
        "bc=dict(nx.betweenness_centrality(G20))\n",
        "bc=pd.DataFrame([[key, bc[key]] for key in bc.keys()], columns=['estado', 'betweenness centrality'])\n",
        "bc.sort_values(by='betweenness centrality', ascending=False)"
      ],
      "execution_count": null,
      "outputs": [
        {
          "output_type": "execute_result",
          "data": {
            "text/html": [
              "<div>\n",
              "<style scoped>\n",
              "    .dataframe tbody tr th:only-of-type {\n",
              "        vertical-align: middle;\n",
              "    }\n",
              "\n",
              "    .dataframe tbody tr th {\n",
              "        vertical-align: top;\n",
              "    }\n",
              "\n",
              "    .dataframe thead th {\n",
              "        text-align: right;\n",
              "    }\n",
              "</style>\n",
              "<table border=\"1\" class=\"dataframe\">\n",
              "  <thead>\n",
              "    <tr style=\"text-align: right;\">\n",
              "      <th></th>\n",
              "      <th>estado</th>\n",
              "      <th>betweenness centrality</th>\n",
              "    </tr>\n",
              "  </thead>\n",
              "  <tbody>\n",
              "    <tr>\n",
              "      <th>11</th>\n",
              "      <td>México</td>\n",
              "      <td>0.117365</td>\n",
              "    </tr>\n",
              "    <tr>\n",
              "      <th>19</th>\n",
              "      <td>Distrito Federal</td>\n",
              "      <td>0.094612</td>\n",
              "    </tr>\n",
              "    <tr>\n",
              "      <th>6</th>\n",
              "      <td>Puebla</td>\n",
              "      <td>0.080249</td>\n",
              "    </tr>\n",
              "    <tr>\n",
              "      <th>21</th>\n",
              "      <td>Jalisco</td>\n",
              "      <td>0.053791</td>\n",
              "    </tr>\n",
              "    <tr>\n",
              "      <th>2</th>\n",
              "      <td>Coahuila</td>\n",
              "      <td>0.051931</td>\n",
              "    </tr>\n",
              "    <tr>\n",
              "      <th>12</th>\n",
              "      <td>Nuevo León</td>\n",
              "      <td>0.051152</td>\n",
              "    </tr>\n",
              "    <tr>\n",
              "      <th>24</th>\n",
              "      <td>Veracruz</td>\n",
              "      <td>0.036989</td>\n",
              "    </tr>\n",
              "    <tr>\n",
              "      <th>8</th>\n",
              "      <td>Zacatecas</td>\n",
              "      <td>0.036604</td>\n",
              "    </tr>\n",
              "    <tr>\n",
              "      <th>9</th>\n",
              "      <td>Baja California</td>\n",
              "      <td>0.034115</td>\n",
              "    </tr>\n",
              "    <tr>\n",
              "      <th>5</th>\n",
              "      <td>Michoacán</td>\n",
              "      <td>0.030209</td>\n",
              "    </tr>\n",
              "    <tr>\n",
              "      <th>17</th>\n",
              "      <td>Yucatán</td>\n",
              "      <td>0.028943</td>\n",
              "    </tr>\n",
              "    <tr>\n",
              "      <th>14</th>\n",
              "      <td>Sonora</td>\n",
              "      <td>0.026417</td>\n",
              "    </tr>\n",
              "    <tr>\n",
              "      <th>1</th>\n",
              "      <td>Chihuahua</td>\n",
              "      <td>0.023402</td>\n",
              "    </tr>\n",
              "    <tr>\n",
              "      <th>0</th>\n",
              "      <td>Aguascalientes</td>\n",
              "      <td>0.019367</td>\n",
              "    </tr>\n",
              "    <tr>\n",
              "      <th>26</th>\n",
              "      <td>Tabasco</td>\n",
              "      <td>0.016693</td>\n",
              "    </tr>\n",
              "    <tr>\n",
              "      <th>4</th>\n",
              "      <td>Guanajuato</td>\n",
              "      <td>0.015398</td>\n",
              "    </tr>\n",
              "    <tr>\n",
              "      <th>22</th>\n",
              "      <td>Morelos</td>\n",
              "      <td>0.013533</td>\n",
              "    </tr>\n",
              "    <tr>\n",
              "      <th>23</th>\n",
              "      <td>Oaxaca</td>\n",
              "      <td>0.004187</td>\n",
              "    </tr>\n",
              "    <tr>\n",
              "      <th>20</th>\n",
              "      <td>Hidalgo</td>\n",
              "      <td>0.003882</td>\n",
              "    </tr>\n",
              "    <tr>\n",
              "      <th>18</th>\n",
              "      <td>Chiapas</td>\n",
              "      <td>0.002882</td>\n",
              "    </tr>\n",
              "    <tr>\n",
              "      <th>30</th>\n",
              "      <td>Sinaloa</td>\n",
              "      <td>0.002393</td>\n",
              "    </tr>\n",
              "    <tr>\n",
              "      <th>7</th>\n",
              "      <td>Tamaulipas</td>\n",
              "      <td>0.002349</td>\n",
              "    </tr>\n",
              "    <tr>\n",
              "      <th>27</th>\n",
              "      <td>Guerrero</td>\n",
              "      <td>0.002117</td>\n",
              "    </tr>\n",
              "    <tr>\n",
              "      <th>16</th>\n",
              "      <td>Querétaro</td>\n",
              "      <td>0.001327</td>\n",
              "    </tr>\n",
              "    <tr>\n",
              "      <th>15</th>\n",
              "      <td>Campeche</td>\n",
              "      <td>0.001210</td>\n",
              "    </tr>\n",
              "    <tr>\n",
              "      <th>3</th>\n",
              "      <td>Durango</td>\n",
              "      <td>0.001147</td>\n",
              "    </tr>\n",
              "    <tr>\n",
              "      <th>25</th>\n",
              "      <td>Colima</td>\n",
              "      <td>0.000829</td>\n",
              "    </tr>\n",
              "    <tr>\n",
              "      <th>10</th>\n",
              "      <td>Baja California Sur</td>\n",
              "      <td>0.000694</td>\n",
              "    </tr>\n",
              "    <tr>\n",
              "      <th>32</th>\n",
              "      <td>Nayarit</td>\n",
              "      <td>0.000000</td>\n",
              "    </tr>\n",
              "    <tr>\n",
              "      <th>31</th>\n",
              "      <td>Nacional</td>\n",
              "      <td>0.000000</td>\n",
              "    </tr>\n",
              "    <tr>\n",
              "      <th>13</th>\n",
              "      <td>San Luis Potosí</td>\n",
              "      <td>0.000000</td>\n",
              "    </tr>\n",
              "    <tr>\n",
              "      <th>29</th>\n",
              "      <td>Importación</td>\n",
              "      <td>0.000000</td>\n",
              "    </tr>\n",
              "    <tr>\n",
              "      <th>28</th>\n",
              "      <td>Quintana Roo</td>\n",
              "      <td>0.000000</td>\n",
              "    </tr>\n",
              "    <tr>\n",
              "      <th>33</th>\n",
              "      <td>San Luis Potosi</td>\n",
              "      <td>0.000000</td>\n",
              "    </tr>\n",
              "  </tbody>\n",
              "</table>\n",
              "</div>"
            ],
            "text/plain": [
              "                 estado  betweenness centrality\n",
              "11               México                0.117365\n",
              "19     Distrito Federal                0.094612\n",
              "6                Puebla                0.080249\n",
              "21              Jalisco                0.053791\n",
              "2              Coahuila                0.051931\n",
              "12           Nuevo León                0.051152\n",
              "24             Veracruz                0.036989\n",
              "8             Zacatecas                0.036604\n",
              "9       Baja California                0.034115\n",
              "5             Michoacán                0.030209\n",
              "17              Yucatán                0.028943\n",
              "14               Sonora                0.026417\n",
              "1             Chihuahua                0.023402\n",
              "0        Aguascalientes                0.019367\n",
              "26              Tabasco                0.016693\n",
              "4            Guanajuato                0.015398\n",
              "22              Morelos                0.013533\n",
              "23               Oaxaca                0.004187\n",
              "20              Hidalgo                0.003882\n",
              "18              Chiapas                0.002882\n",
              "30              Sinaloa                0.002393\n",
              "7            Tamaulipas                0.002349\n",
              "27             Guerrero                0.002117\n",
              "16            Querétaro                0.001327\n",
              "15             Campeche                0.001210\n",
              "3               Durango                0.001147\n",
              "25               Colima                0.000829\n",
              "10  Baja California Sur                0.000694\n",
              "32              Nayarit                0.000000\n",
              "31             Nacional                0.000000\n",
              "13      San Luis Potosí                0.000000\n",
              "29          Importación                0.000000\n",
              "28         Quintana Roo                0.000000\n",
              "33      San Luis Potosi                0.000000"
            ]
          },
          "metadata": {
            "tags": []
          },
          "execution_count": 71
        }
      ]
    },
    {
      "cell_type": "markdown",
      "metadata": {
        "id": "MePXEL3TFStu"
      },
      "source": [
        "MAPAS: LOS NODOS MÁS IMPORTANTES EN 2020"
      ]
    },
    {
      "cell_type": "code",
      "metadata": {
        "colab": {
          "base_uri": "https://localhost:8080/"
        },
        "id": "xsBAmx9SEwhK",
        "outputId": "8956cb0b-e5ce-43d3-bb9f-2ce150773a73"
      },
      "source": [
        "idc=nx.in_degree_centrality(G20)\n",
        "A=(idc['Aguascalientes'], idc['Colima'], 0, idc['Distrito Federal'] , idc['Morelos'], idc['México'], idc['Hidalgo'], idc['Puebla'], idc['Nuevo León'], idc['Coahuila'], idc['Chihuahua'], idc['Sonora'], idc['Michoacán'], idc['Querétaro'], idc['Guanajuato'], idc['Jalisco'], idc['Zacatecas'], idc['Durango'], idc['Tamaulipas'], idc['Veracruz'], idc['Guerrero'], idc['Sinaloa'], idc['Oaxaca'], idc['Nayarit'], idc['Chiapas'], idc['Tabasco'], idc['Campeche'], idc['Baja California'], idc['Baja California Sur'], idc['San Luis Potosí'], idc['Yucatán'], idc['Quintana Roo'])\n",
        "B=np.array(A)\n",
        "B"
      ],
      "execution_count": null,
      "outputs": [
        {
          "output_type": "execute_result",
          "data": {
            "text/plain": [
              "array([0.51515152, 0.03030303, 0.        , 0.54545455, 0.42424242,\n",
              "       0.63636364, 0.42424242, 0.48484848, 0.66666667, 0.54545455,\n",
              "       0.45454545, 0.45454545, 0.45454545, 0.51515152, 0.39393939,\n",
              "       0.45454545, 0.3030303 , 0.63636364, 0.18181818, 0.39393939,\n",
              "       0.12121212, 0.06060606, 0.21212121, 0.        , 0.12121212,\n",
              "       0.21212121, 0.12121212, 0.42424242, 0.18181818, 0.42424242,\n",
              "       0.27272727, 0.03030303])"
            ]
          },
          "metadata": {
            "tags": []
          },
          "execution_count": 72
        }
      ]
    },
    {
      "cell_type": "code",
      "metadata": {
        "id": "0Q7kTT6ifEIp",
        "colab": {
          "base_uri": "https://localhost:8080/",
          "height": 479
        },
        "outputId": "a60c8a7f-85a1-406e-d0bc-1ad74d40bb79"
      },
      "source": [
        "!git clone https://github.com/jschleuss/mexican-states.git\n",
        "\n",
        "mex=gpd.read_file(\"mexican-states/mexican-states.shp\")\n",
        "df_dummy = pd.DataFrame({'Estados':mex.name.values,\n",
        "                         'índice':B*10})\n",
        "#Asignando centroides\n",
        "x0=-102.57634952\n",
        "y0=23.9353719\n",
        "mex_tr = (mex[\"geometry\"]\n",
        "           .skew(xs=-40,ys=0,use_radians=False,origin=(x0,y0))\n",
        "           .rotate(angle=33,use_radians=False,origin=(x0,y0)))\n",
        "\n",
        "x=(mex_tr\n",
        "   .centroid\n",
        "   .apply(lambda p:p.x)\n",
        "   .values)\n",
        "y=(mex_tr\n",
        "   .centroid\n",
        "   .apply(lambda p:p.y)\n",
        "   .values)\n",
        "\n",
        "fig,ax = plt.subplots(1,1,figsize=(14,14))\n",
        "#Graficando el mapa\n",
        "mex_tr.plot(ax=ax,\n",
        "            color=\"#F0F4ED\",\n",
        "            edgecolor=\"#937584\",\n",
        "            zorder=1)\n",
        "#Mostrando la posición de las coordenadas\n",
        "ax.scatter(x=x,\n",
        "           y=y+df_dummy['índice'].values,\n",
        "           color=\"#ff4d5f\",\n",
        "           zorder=2,\n",
        "           s=10*df_dummy['índice'].values)\n",
        "for i in range(32):\n",
        "   ax.plot([x,x],\n",
        "           [y,y+df_dummy['índice'].values],\n",
        "           color=\"#937584\",\n",
        "           zorder=1)\n",
        "plt.show()"
      ],
      "execution_count": null,
      "outputs": [
        {
          "output_type": "stream",
          "text": [
            "fatal: destination path 'mexican-states' already exists and is not an empty directory.\n"
          ],
          "name": "stdout"
        },
        {
          "output_type": "stream",
          "text": [
            "/usr/local/lib/python3.7/dist-packages/ipykernel_launcher.py:13: UserWarning: Geometry is in a geographic CRS. Results from 'centroid' are likely incorrect. Use 'GeoSeries.to_crs()' to re-project geometries to a projected CRS before this operation.\n",
            "\n",
            "  del sys.path[0]\n",
            "/usr/local/lib/python3.7/dist-packages/ipykernel_launcher.py:17: UserWarning: Geometry is in a geographic CRS. Results from 'centroid' are likely incorrect. Use 'GeoSeries.to_crs()' to re-project geometries to a projected CRS before this operation.\n",
            "\n"
          ],
          "name": "stderr"
        },
        {
          "output_type": "display_data",
          "data": {
            "image/png": "[encoded data removed]",
            "text/plain": [
              "<Figure size 1008x1008 with 1 Axes>"
            ]
          },
          "metadata": {
            "tags": [],
            "needs_background": "light"
          }
        }
      ]
    },
    {
      "cell_type": "code",
      "metadata": {
        "colab": {
          "base_uri": "https://localhost:8080/"
        },
        "id": "G728IHr2F_kl",
        "outputId": "897622a5-b1d6-4830-a3bf-48d5535e5253"
      },
      "source": [
        "odc=nx.out_degree_centrality(G20)\n",
        "A=(odc['Aguascalientes'], odc['Colima'], 0, odc['Distrito Federal'] , odc['Morelos'], odc['México'], odc['Hidalgo'], odc['Puebla'], odc['Nuevo León'], odc['Coahuila'], odc['Chihuahua'], odc['Sonora'], odc['Michoacán'], odc['Querétaro'], odc['Guanajuato'], odc['Jalisco'], odc['Zacatecas'], odc['Durango'], odc['Tamaulipas'], odc['Veracruz'], odc['Guerrero'], odc['Sinaloa'], odc['Oaxaca'], odc['Nayarit'], odc['Chiapas'], odc['Tabasco'], odc['Campeche'], odc['Baja California'], odc['Baja California Sur'], odc['San Luis Potosí'], odc['Yucatán'], odc['Quintana Roo'])\n",
        "B=np.array(A)\n",
        "B"
      ],
      "execution_count": null,
      "outputs": [
        {
          "output_type": "execute_result",
          "data": {
            "text/plain": [
              "array([0.24242424, 0.45454545, 0.        , 0.39393939, 0.3030303 ,\n",
              "       0.39393939, 0.15151515, 0.63636364, 0.18181818, 0.33333333,\n",
              "       0.42424242, 0.3030303 , 0.60606061, 0.03030303, 0.39393939,\n",
              "       0.39393939, 0.57575758, 0.03030303, 0.18181818, 0.66666667,\n",
              "       0.42424242, 0.57575758, 0.39393939, 0.3030303 , 0.48484848,\n",
              "       0.48484848, 0.09090909, 0.18181818, 0.03030303, 0.        ,\n",
              "       0.06060606, 0.03030303])"
            ]
          },
          "metadata": {
            "tags": []
          },
          "execution_count": 74
        }
      ]
    },
    {
      "cell_type": "code",
      "metadata": {
        "colab": {
          "base_uri": "https://localhost:8080/",
          "height": 466
        },
        "id": "qujFKznEGNUX",
        "outputId": "e6542b7b-fb7c-45e0-9cab-6876b5bbe318"
      },
      "source": [
        "!git clone https://github.com/jschleuss/mexican-states.git\n",
        "\n",
        "mex=gpd.read_file(\"mexican-states/mexican-states.shp\")\n",
        "df_dummy = pd.DataFrame({'Estados':mex.name.values,\n",
        "                         'índice':B*10})\n",
        "#Asignando centroides\n",
        "x0=-102.57634952\n",
        "y0=23.9353719\n",
        "mex_tr = (mex[\"geometry\"]\n",
        "           .skew(xs=-40,ys=0,use_radians=False,origin=(x0,y0))\n",
        "           .rotate(angle=33,use_radians=False,origin=(x0,y0)))\n",
        "\n",
        "x=(mex_tr\n",
        "   .centroid\n",
        "   .apply(lambda p:p.x)\n",
        "   .values)\n",
        "y=(mex_tr\n",
        "   .centroid\n",
        "   .apply(lambda p:p.y)\n",
        "   .values)\n",
        "\n",
        "fig,ax = plt.subplots(1,1,figsize=(14,14))\n",
        "#Graficando el mapa\n",
        "mex_tr.plot(ax=ax,\n",
        "            color=\"#F0F4ED\",\n",
        "            edgecolor=\"#937584\",\n",
        "            zorder=1)\n",
        "#Mostrando la posición de las coordenadas\n",
        "ax.scatter(x=x,\n",
        "           y=y+df_dummy['índice'].values,\n",
        "           color=\"#2102ED\",\n",
        "           zorder=2,\n",
        "           s=10*df_dummy['índice'].values)\n",
        "for i in range(32):\n",
        "   ax.plot([x,x],\n",
        "           [y,y+df_dummy['índice'].values],\n",
        "           color=\"#937584\",\n",
        "           zorder=1)\n",
        "plt.show()"
      ],
      "execution_count": null,
      "outputs": [
        {
          "output_type": "stream",
          "text": [
            "fatal: destination path 'mexican-states' already exists and is not an empty directory.\n"
          ],
          "name": "stdout"
        },
        {
          "output_type": "stream",
          "text": [
            "/usr/local/lib/python3.7/dist-packages/ipykernel_launcher.py:13: UserWarning: Geometry is in a geographic CRS. Results from 'centroid' are likely incorrect. Use 'GeoSeries.to_crs()' to re-project geometries to a projected CRS before this operation.\n",
            "\n",
            "  del sys.path[0]\n",
            "/usr/local/lib/python3.7/dist-packages/ipykernel_launcher.py:17: UserWarning: Geometry is in a geographic CRS. Results from 'centroid' are likely incorrect. Use 'GeoSeries.to_crs()' to re-project geometries to a projected CRS before this operation.\n",
            "\n"
          ],
          "name": "stderr"
        },
        {
          "output_type": "display_data",
          "data": {
            "image/png": "[encoded data removed]",
            "text/plain": [
              "<Figure size 1008x1008 with 1 Axes>"
            ]
          },
          "metadata": {
            "tags": [],
            "needs_background": "light"
          }
        }
      ]
    },
    {
      "cell_type": "code",
      "metadata": {
        "colab": {
          "base_uri": "https://localhost:8080/"
        },
        "id": "o7Tg48adGXb7",
        "outputId": "19316b60-7952-4524-d2a3-c810950df01a"
      },
      "source": [
        "bc=nx.betweenness_centrality(G20)\n",
        "A=(bc['Aguascalientes'], bc['Colima'], 0, bc['Distrito Federal'] , bc['Morelos'], bc['México'], bc['Hidalgo'], bc['Puebla'], bc['Nuevo León'], bc['Coahuila'], bc['Chihuahua'], bc['Sonora'], bc['Michoacán'], bc['Querétaro'], bc['Guanajuato'], bc['Jalisco'], bc['Zacatecas'], bc['Durango'], bc['Tamaulipas'], bc['Veracruz'], bc['Guerrero'], bc['Sinaloa'], bc['Oaxaca'], bc['Nayarit'], bc['Chiapas'], bc['Tabasco'], bc['Campeche'], bc['Baja California'], bc['Baja California Sur'], bc['San Luis Potosí'], bc['Yucatán'], bc['Quintana Roo'])\n",
        "B=np.array(A)\n",
        "B"
      ],
      "execution_count": null,
      "outputs": [
        {
          "output_type": "execute_result",
          "data": {
            "text/plain": [
              "array([0.01936724, 0.00082901, 0.        , 0.09461187, 0.01353288,\n",
              "       0.11736505, 0.0038822 , 0.08024884, 0.05115186, 0.05193121,\n",
              "       0.02340224, 0.02641673, 0.03020912, 0.00132686, 0.0153976 ,\n",
              "       0.05379126, 0.03660417, 0.00114689, 0.00234905, 0.03698929,\n",
              "       0.00211681, 0.00239342, 0.00418662, 0.        , 0.00288228,\n",
              "       0.01669286, 0.00121002, 0.03411462, 0.00069444, 0.        ,\n",
              "       0.02894345, 0.        ])"
            ]
          },
          "metadata": {
            "tags": []
          },
          "execution_count": 76
        }
      ]
    },
    {
      "cell_type": "code",
      "metadata": {
        "colab": {
          "base_uri": "https://localhost:8080/",
          "height": 531
        },
        "id": "yAt5SiFCGebf",
        "outputId": "d867ad02-d64b-4c29-b24d-8d288047be4e"
      },
      "source": [
        "!git clone https://github.com/jschleuss/mexican-states.git\n",
        "\n",
        "mex=gpd.read_file(\"mexican-states/mexican-states.shp\")\n",
        "df_dummy = pd.DataFrame({'Estados':mex.name.values,\n",
        "                         'índice':B*100})\n",
        "#Asignando centroides\n",
        "x0=-102.57634952\n",
        "y0=23.9353719\n",
        "mex_tr = (mex[\"geometry\"]\n",
        "           .skew(xs=-40,ys=0,use_radians=False,origin=(x0,y0))\n",
        "           .rotate(angle=33,use_radians=False,origin=(x0,y0)))\n",
        "\n",
        "x=(mex_tr\n",
        "   .centroid\n",
        "   .apply(lambda p:p.x)\n",
        "   .values)\n",
        "y=(mex_tr\n",
        "   .centroid\n",
        "   .apply(lambda p:p.y)\n",
        "   .values)\n",
        "\n",
        "fig,ax = plt.subplots(1,1,figsize=(14,14))\n",
        "#Graficando el mapa\n",
        "mex_tr.plot(ax=ax,\n",
        "            color=\"#F0F4ED\",\n",
        "            edgecolor=\"#937584\",\n",
        "            zorder=1)\n",
        "#Mostrando la posición de las coordenadas\n",
        "ax.scatter(x=x,\n",
        "           y=y+df_dummy['índice'].values,\n",
        "           color=\"#9B30F7\",\n",
        "           zorder=2,\n",
        "           s=10*df_dummy['índice'].values)\n",
        "for i in range(32):\n",
        "   ax.plot([x,x],\n",
        "           [y,y+df_dummy['índice'].values],\n",
        "           color=\"#937584\",\n",
        "           zorder=1)\n",
        "plt.show()"
      ],
      "execution_count": null,
      "outputs": [
        {
          "output_type": "stream",
          "text": [
            "fatal: destination path 'mexican-states' already exists and is not an empty directory.\n"
          ],
          "name": "stdout"
        },
        {
          "output_type": "stream",
          "text": [
            "/usr/local/lib/python3.7/dist-packages/ipykernel_launcher.py:13: UserWarning: Geometry is in a geographic CRS. Results from 'centroid' are likely incorrect. Use 'GeoSeries.to_crs()' to re-project geometries to a projected CRS before this operation.\n",
            "\n",
            "  del sys.path[0]\n",
            "/usr/local/lib/python3.7/dist-packages/ipykernel_launcher.py:17: UserWarning: Geometry is in a geographic CRS. Results from 'centroid' are likely incorrect. Use 'GeoSeries.to_crs()' to re-project geometries to a projected CRS before this operation.\n",
            "\n"
          ],
          "name": "stderr"
        },
        {
          "output_type": "display_data",
          "data": {
            "image/png": "[encoded data removed]",
            "text/plain": [
              "<Figure size 1008x1008 with 1 Axes>"
            ]
          },
          "metadata": {
            "tags": [],
            "needs_background": "light"
          }
        }
      ]
    },
    {
      "cell_type": "markdown",
      "metadata": {
        "id": "wSYqOZaALYZo"
      },
      "source": [
        "##ANÁLISIS DE LA RED DE COMERCIALIZACIÓN DE FRUTAS Y HORTALIZAS, 2021"
      ]
    },
    {
      "cell_type": "markdown",
      "metadata": {
        "id": "nWShB0D_Libi"
      },
      "source": [
        "DataFrame 2021"
      ]
    },
    {
      "cell_type": "code",
      "metadata": {
        "colab": {
          "base_uri": "https://localhost:8080/",
          "height": 204
        },
        "id": "1naektDXLhHu",
        "outputId": "a0097991-c17f-41c4-fb28-0ac34fb83d08"
      },
      "source": [
        "#DATAFRAME COMERCIO 2021\n",
        "\n",
        "c2021.columns = c2021.columns.str.lower()\n",
        "#Quedarse solo con los estados en la columna destino\n",
        "c2021['destino']=c2021['destino'].apply(lambda x:(re.search('(.+(?=:))', x)).group(1))\n",
        "#Agrupando\n",
        "adj_2021 = c2021.groupby(['origen', 'destino']).size().rename('peso').reset_index()\n",
        "#Eliminamos self-loops\n",
        "adj_2021=adj_2021[adj_2021['origen']!=adj_2021['destino']]\n",
        "adj_2021.head()"
      ],
      "execution_count": null,
      "outputs": [
        {
          "output_type": "execute_result",
          "data": {
            "text/html": [
              "<div>\n",
              "<style scoped>\n",
              "    .dataframe tbody tr th:only-of-type {\n",
              "        vertical-align: middle;\n",
              "    }\n",
              "\n",
              "    .dataframe tbody tr th {\n",
              "        vertical-align: top;\n",
              "    }\n",
              "\n",
              "    .dataframe thead th {\n",
              "        text-align: right;\n",
              "    }\n",
              "</style>\n",
              "<table border=\"1\" class=\"dataframe\">\n",
              "  <thead>\n",
              "    <tr style=\"text-align: right;\">\n",
              "      <th></th>\n",
              "      <th>origen</th>\n",
              "      <th>destino</th>\n",
              "      <th>peso</th>\n",
              "    </tr>\n",
              "  </thead>\n",
              "  <tbody>\n",
              "    <tr>\n",
              "      <th>1</th>\n",
              "      <td>Aguascalientes</td>\n",
              "      <td>Chihuahua</td>\n",
              "      <td>6</td>\n",
              "    </tr>\n",
              "    <tr>\n",
              "      <th>2</th>\n",
              "      <td>Aguascalientes</td>\n",
              "      <td>Coahuila</td>\n",
              "      <td>6</td>\n",
              "    </tr>\n",
              "    <tr>\n",
              "      <th>3</th>\n",
              "      <td>Aguascalientes</td>\n",
              "      <td>Durango</td>\n",
              "      <td>6</td>\n",
              "    </tr>\n",
              "    <tr>\n",
              "      <th>4</th>\n",
              "      <td>Aguascalientes</td>\n",
              "      <td>Michoacán</td>\n",
              "      <td>18</td>\n",
              "    </tr>\n",
              "    <tr>\n",
              "      <th>5</th>\n",
              "      <td>Aguascalientes</td>\n",
              "      <td>San Luis Potosí</td>\n",
              "      <td>6</td>\n",
              "    </tr>\n",
              "  </tbody>\n",
              "</table>\n",
              "</div>"
            ],
            "text/plain": [
              "           origen          destino  peso\n",
              "1  Aguascalientes        Chihuahua     6\n",
              "2  Aguascalientes         Coahuila     6\n",
              "3  Aguascalientes          Durango     6\n",
              "4  Aguascalientes        Michoacán    18\n",
              "5  Aguascalientes  San Luis Potosí     6"
            ]
          },
          "metadata": {
            "tags": []
          },
          "execution_count": 81
        }
      ]
    },
    {
      "cell_type": "markdown",
      "metadata": {
        "id": "j2ofILSuMB8C"
      },
      "source": [
        "Red 2021"
      ]
    },
    {
      "cell_type": "code",
      "metadata": {
        "id": "C4VfOPVQML3I"
      },
      "source": [
        "#RED 2021\n",
        "\n",
        "G21 = nx.from_pandas_edgelist(\n",
        "    adj_2021,\n",
        "    source='origen',\n",
        "    target='destino',\n",
        "    edge_attr='peso',\n",
        "    create_using=nx.DiGraph)"
      ],
      "execution_count": null,
      "outputs": []
    },
    {
      "cell_type": "markdown",
      "metadata": {
        "id": "VFMtARH7MXjQ"
      },
      "source": [
        "In degree"
      ]
    },
    {
      "cell_type": "code",
      "metadata": {
        "colab": {
          "base_uri": "https://localhost:8080/",
          "height": 1000
        },
        "id": "a0mXhHtvMkW4",
        "outputId": "bb0723db-582f-4529-e3e1-25fc35907283"
      },
      "source": [
        "#in-degree\n",
        "id=dict(G21.in_degree())\n",
        "id=pd.DataFrame([[key, id[key]] for key in id.keys()], columns=['estado', 'in-degree'])\n",
        "id.sort_values(by='in-degree', ascending=False)"
      ],
      "execution_count": null,
      "outputs": [
        {
          "output_type": "execute_result",
          "data": {
            "text/html": [
              "<div>\n",
              "<style scoped>\n",
              "    .dataframe tbody tr th:only-of-type {\n",
              "        vertical-align: middle;\n",
              "    }\n",
              "\n",
              "    .dataframe tbody tr th {\n",
              "        vertical-align: top;\n",
              "    }\n",
              "\n",
              "    .dataframe thead th {\n",
              "        text-align: right;\n",
              "    }\n",
              "</style>\n",
              "<table border=\"1\" class=\"dataframe\">\n",
              "  <thead>\n",
              "    <tr style=\"text-align: right;\">\n",
              "      <th></th>\n",
              "      <th>estado</th>\n",
              "      <th>in-degree</th>\n",
              "    </tr>\n",
              "  </thead>\n",
              "  <tbody>\n",
              "    <tr>\n",
              "      <th>12</th>\n",
              "      <td>México</td>\n",
              "      <td>20</td>\n",
              "    </tr>\n",
              "    <tr>\n",
              "      <th>13</th>\n",
              "      <td>Nuevo León</td>\n",
              "      <td>20</td>\n",
              "    </tr>\n",
              "    <tr>\n",
              "      <th>2</th>\n",
              "      <td>Coahuila</td>\n",
              "      <td>18</td>\n",
              "    </tr>\n",
              "    <tr>\n",
              "      <th>0</th>\n",
              "      <td>Aguascalientes</td>\n",
              "      <td>17</td>\n",
              "    </tr>\n",
              "    <tr>\n",
              "      <th>24</th>\n",
              "      <td>Querétaro</td>\n",
              "      <td>17</td>\n",
              "    </tr>\n",
              "    <tr>\n",
              "      <th>14</th>\n",
              "      <td>Sonora</td>\n",
              "      <td>17</td>\n",
              "    </tr>\n",
              "    <tr>\n",
              "      <th>16</th>\n",
              "      <td>Morelos</td>\n",
              "      <td>17</td>\n",
              "    </tr>\n",
              "    <tr>\n",
              "      <th>3</th>\n",
              "      <td>Durango</td>\n",
              "      <td>17</td>\n",
              "    </tr>\n",
              "    <tr>\n",
              "      <th>1</th>\n",
              "      <td>Chihuahua</td>\n",
              "      <td>15</td>\n",
              "    </tr>\n",
              "    <tr>\n",
              "      <th>22</th>\n",
              "      <td>Puebla</td>\n",
              "      <td>15</td>\n",
              "    </tr>\n",
              "    <tr>\n",
              "      <th>19</th>\n",
              "      <td>Distrito Federal</td>\n",
              "      <td>15</td>\n",
              "    </tr>\n",
              "    <tr>\n",
              "      <th>5</th>\n",
              "      <td>San Luis Potosí</td>\n",
              "      <td>15</td>\n",
              "    </tr>\n",
              "    <tr>\n",
              "      <th>4</th>\n",
              "      <td>Michoacán</td>\n",
              "      <td>15</td>\n",
              "    </tr>\n",
              "    <tr>\n",
              "      <th>7</th>\n",
              "      <td>Veracruz</td>\n",
              "      <td>14</td>\n",
              "    </tr>\n",
              "    <tr>\n",
              "      <th>11</th>\n",
              "      <td>Jalisco</td>\n",
              "      <td>14</td>\n",
              "    </tr>\n",
              "    <tr>\n",
              "      <th>20</th>\n",
              "      <td>Hidalgo</td>\n",
              "      <td>13</td>\n",
              "    </tr>\n",
              "    <tr>\n",
              "      <th>9</th>\n",
              "      <td>Baja California</td>\n",
              "      <td>12</td>\n",
              "    </tr>\n",
              "    <tr>\n",
              "      <th>23</th>\n",
              "      <td>Guanajuato</td>\n",
              "      <td>11</td>\n",
              "    </tr>\n",
              "    <tr>\n",
              "      <th>8</th>\n",
              "      <td>Zacatecas</td>\n",
              "      <td>10</td>\n",
              "    </tr>\n",
              "    <tr>\n",
              "      <th>17</th>\n",
              "      <td>Yucatán</td>\n",
              "      <td>10</td>\n",
              "    </tr>\n",
              "    <tr>\n",
              "      <th>25</th>\n",
              "      <td>Tabasco</td>\n",
              "      <td>7</td>\n",
              "    </tr>\n",
              "    <tr>\n",
              "      <th>21</th>\n",
              "      <td>Oaxaca</td>\n",
              "      <td>7</td>\n",
              "    </tr>\n",
              "    <tr>\n",
              "      <th>6</th>\n",
              "      <td>Tamaulipas</td>\n",
              "      <td>6</td>\n",
              "    </tr>\n",
              "    <tr>\n",
              "      <th>10</th>\n",
              "      <td>Baja California Sur</td>\n",
              "      <td>5</td>\n",
              "    </tr>\n",
              "    <tr>\n",
              "      <th>27</th>\n",
              "      <td>Guerrero</td>\n",
              "      <td>4</td>\n",
              "    </tr>\n",
              "    <tr>\n",
              "      <th>15</th>\n",
              "      <td>Campeche</td>\n",
              "      <td>4</td>\n",
              "    </tr>\n",
              "    <tr>\n",
              "      <th>18</th>\n",
              "      <td>Chiapas</td>\n",
              "      <td>4</td>\n",
              "    </tr>\n",
              "    <tr>\n",
              "      <th>26</th>\n",
              "      <td>Colima</td>\n",
              "      <td>1</td>\n",
              "    </tr>\n",
              "    <tr>\n",
              "      <th>29</th>\n",
              "      <td>Sinaloa</td>\n",
              "      <td>1</td>\n",
              "    </tr>\n",
              "    <tr>\n",
              "      <th>28</th>\n",
              "      <td>Importación</td>\n",
              "      <td>0</td>\n",
              "    </tr>\n",
              "    <tr>\n",
              "      <th>30</th>\n",
              "      <td>Nacional</td>\n",
              "      <td>0</td>\n",
              "    </tr>\n",
              "    <tr>\n",
              "      <th>31</th>\n",
              "      <td>Nayarit</td>\n",
              "      <td>0</td>\n",
              "    </tr>\n",
              "    <tr>\n",
              "      <th>32</th>\n",
              "      <td>Quintana Roo</td>\n",
              "      <td>0</td>\n",
              "    </tr>\n",
              "  </tbody>\n",
              "</table>\n",
              "</div>"
            ],
            "text/plain": [
              "                 estado  in-degree\n",
              "12               México         20\n",
              "13           Nuevo León         20\n",
              "2              Coahuila         18\n",
              "0        Aguascalientes         17\n",
              "24            Querétaro         17\n",
              "14               Sonora         17\n",
              "16              Morelos         17\n",
              "3               Durango         17\n",
              "1             Chihuahua         15\n",
              "22               Puebla         15\n",
              "19     Distrito Federal         15\n",
              "5       San Luis Potosí         15\n",
              "4             Michoacán         15\n",
              "7              Veracruz         14\n",
              "11              Jalisco         14\n",
              "20              Hidalgo         13\n",
              "9       Baja California         12\n",
              "23           Guanajuato         11\n",
              "8             Zacatecas         10\n",
              "17              Yucatán         10\n",
              "25              Tabasco          7\n",
              "21               Oaxaca          7\n",
              "6            Tamaulipas          6\n",
              "10  Baja California Sur          5\n",
              "27             Guerrero          4\n",
              "15             Campeche          4\n",
              "18              Chiapas          4\n",
              "26               Colima          1\n",
              "29              Sinaloa          1\n",
              "28          Importación          0\n",
              "30             Nacional          0\n",
              "31              Nayarit          0\n",
              "32         Quintana Roo          0"
            ]
          },
          "metadata": {
            "tags": []
          },
          "execution_count": 83
        }
      ]
    },
    {
      "cell_type": "markdown",
      "metadata": {
        "id": "tO991HUWNKt4"
      },
      "source": [
        "Out degree"
      ]
    },
    {
      "cell_type": "code",
      "metadata": {
        "colab": {
          "base_uri": "https://localhost:8080/",
          "height": 1000
        },
        "id": "Qdofhk8SNLR-",
        "outputId": "cb3899c4-1bab-4284-9815-f9686d378054"
      },
      "source": [
        "#out-degree\n",
        "od=dict(G21.out_degree())\n",
        "od=pd.DataFrame([[key, od[key]] for key in od.keys()], columns=['estado', 'out-degree'])\n",
        "od.sort_values(by='out-degree', ascending=False)"
      ],
      "execution_count": null,
      "outputs": [
        {
          "output_type": "execute_result",
          "data": {
            "text/html": [
              "<div>\n",
              "<style scoped>\n",
              "    .dataframe tbody tr th:only-of-type {\n",
              "        vertical-align: middle;\n",
              "    }\n",
              "\n",
              "    .dataframe tbody tr th {\n",
              "        vertical-align: top;\n",
              "    }\n",
              "\n",
              "    .dataframe thead th {\n",
              "        text-align: right;\n",
              "    }\n",
              "</style>\n",
              "<table border=\"1\" class=\"dataframe\">\n",
              "  <thead>\n",
              "    <tr style=\"text-align: right;\">\n",
              "      <th></th>\n",
              "      <th>estado</th>\n",
              "      <th>out-degree</th>\n",
              "    </tr>\n",
              "  </thead>\n",
              "  <tbody>\n",
              "    <tr>\n",
              "      <th>28</th>\n",
              "      <td>Importación</td>\n",
              "      <td>22</td>\n",
              "    </tr>\n",
              "    <tr>\n",
              "      <th>4</th>\n",
              "      <td>Michoacán</td>\n",
              "      <td>20</td>\n",
              "    </tr>\n",
              "    <tr>\n",
              "      <th>7</th>\n",
              "      <td>Veracruz</td>\n",
              "      <td>20</td>\n",
              "    </tr>\n",
              "    <tr>\n",
              "      <th>22</th>\n",
              "      <td>Puebla</td>\n",
              "      <td>19</td>\n",
              "    </tr>\n",
              "    <tr>\n",
              "      <th>29</th>\n",
              "      <td>Sinaloa</td>\n",
              "      <td>19</td>\n",
              "    </tr>\n",
              "    <tr>\n",
              "      <th>8</th>\n",
              "      <td>Zacatecas</td>\n",
              "      <td>18</td>\n",
              "    </tr>\n",
              "    <tr>\n",
              "      <th>25</th>\n",
              "      <td>Tabasco</td>\n",
              "      <td>16</td>\n",
              "    </tr>\n",
              "    <tr>\n",
              "      <th>26</th>\n",
              "      <td>Colima</td>\n",
              "      <td>15</td>\n",
              "    </tr>\n",
              "    <tr>\n",
              "      <th>23</th>\n",
              "      <td>Guanajuato</td>\n",
              "      <td>15</td>\n",
              "    </tr>\n",
              "    <tr>\n",
              "      <th>18</th>\n",
              "      <td>Chiapas</td>\n",
              "      <td>15</td>\n",
              "    </tr>\n",
              "    <tr>\n",
              "      <th>12</th>\n",
              "      <td>México</td>\n",
              "      <td>14</td>\n",
              "    </tr>\n",
              "    <tr>\n",
              "      <th>21</th>\n",
              "      <td>Oaxaca</td>\n",
              "      <td>14</td>\n",
              "    </tr>\n",
              "    <tr>\n",
              "      <th>31</th>\n",
              "      <td>Nayarit</td>\n",
              "      <td>14</td>\n",
              "    </tr>\n",
              "    <tr>\n",
              "      <th>1</th>\n",
              "      <td>Chihuahua</td>\n",
              "      <td>14</td>\n",
              "    </tr>\n",
              "    <tr>\n",
              "      <th>11</th>\n",
              "      <td>Jalisco</td>\n",
              "      <td>13</td>\n",
              "    </tr>\n",
              "    <tr>\n",
              "      <th>19</th>\n",
              "      <td>Distrito Federal</td>\n",
              "      <td>12</td>\n",
              "    </tr>\n",
              "    <tr>\n",
              "      <th>2</th>\n",
              "      <td>Coahuila</td>\n",
              "      <td>11</td>\n",
              "    </tr>\n",
              "    <tr>\n",
              "      <th>27</th>\n",
              "      <td>Guerrero</td>\n",
              "      <td>10</td>\n",
              "    </tr>\n",
              "    <tr>\n",
              "      <th>0</th>\n",
              "      <td>Aguascalientes</td>\n",
              "      <td>8</td>\n",
              "    </tr>\n",
              "    <tr>\n",
              "      <th>16</th>\n",
              "      <td>Morelos</td>\n",
              "      <td>8</td>\n",
              "    </tr>\n",
              "    <tr>\n",
              "      <th>6</th>\n",
              "      <td>Tamaulipas</td>\n",
              "      <td>8</td>\n",
              "    </tr>\n",
              "    <tr>\n",
              "      <th>9</th>\n",
              "      <td>Baja California</td>\n",
              "      <td>6</td>\n",
              "    </tr>\n",
              "    <tr>\n",
              "      <th>20</th>\n",
              "      <td>Hidalgo</td>\n",
              "      <td>5</td>\n",
              "    </tr>\n",
              "    <tr>\n",
              "      <th>14</th>\n",
              "      <td>Sonora</td>\n",
              "      <td>5</td>\n",
              "    </tr>\n",
              "    <tr>\n",
              "      <th>13</th>\n",
              "      <td>Nuevo León</td>\n",
              "      <td>5</td>\n",
              "    </tr>\n",
              "    <tr>\n",
              "      <th>5</th>\n",
              "      <td>San Luis Potosí</td>\n",
              "      <td>5</td>\n",
              "    </tr>\n",
              "    <tr>\n",
              "      <th>15</th>\n",
              "      <td>Campeche</td>\n",
              "      <td>3</td>\n",
              "    </tr>\n",
              "    <tr>\n",
              "      <th>30</th>\n",
              "      <td>Nacional</td>\n",
              "      <td>3</td>\n",
              "    </tr>\n",
              "    <tr>\n",
              "      <th>17</th>\n",
              "      <td>Yucatán</td>\n",
              "      <td>1</td>\n",
              "    </tr>\n",
              "    <tr>\n",
              "      <th>10</th>\n",
              "      <td>Baja California Sur</td>\n",
              "      <td>1</td>\n",
              "    </tr>\n",
              "    <tr>\n",
              "      <th>3</th>\n",
              "      <td>Durango</td>\n",
              "      <td>1</td>\n",
              "    </tr>\n",
              "    <tr>\n",
              "      <th>32</th>\n",
              "      <td>Quintana Roo</td>\n",
              "      <td>1</td>\n",
              "    </tr>\n",
              "    <tr>\n",
              "      <th>24</th>\n",
              "      <td>Querétaro</td>\n",
              "      <td>0</td>\n",
              "    </tr>\n",
              "  </tbody>\n",
              "</table>\n",
              "</div>"
            ],
            "text/plain": [
              "                 estado  out-degree\n",
              "28          Importación          22\n",
              "4             Michoacán          20\n",
              "7              Veracruz          20\n",
              "22               Puebla          19\n",
              "29              Sinaloa          19\n",
              "8             Zacatecas          18\n",
              "25              Tabasco          16\n",
              "26               Colima          15\n",
              "23           Guanajuato          15\n",
              "18              Chiapas          15\n",
              "12               México          14\n",
              "21               Oaxaca          14\n",
              "31              Nayarit          14\n",
              "1             Chihuahua          14\n",
              "11              Jalisco          13\n",
              "19     Distrito Federal          12\n",
              "2              Coahuila          11\n",
              "27             Guerrero          10\n",
              "0        Aguascalientes           8\n",
              "16              Morelos           8\n",
              "6            Tamaulipas           8\n",
              "9       Baja California           6\n",
              "20              Hidalgo           5\n",
              "14               Sonora           5\n",
              "13           Nuevo León           5\n",
              "5       San Luis Potosí           5\n",
              "15             Campeche           3\n",
              "30             Nacional           3\n",
              "17              Yucatán           1\n",
              "10  Baja California Sur           1\n",
              "3               Durango           1\n",
              "32         Quintana Roo           1\n",
              "24            Querétaro           0"
            ]
          },
          "metadata": {
            "tags": []
          },
          "execution_count": 84
        }
      ]
    },
    {
      "cell_type": "markdown",
      "metadata": {
        "id": "ST6lCVqoNJ4W"
      },
      "source": [
        "Betweenness Centrality"
      ]
    },
    {
      "cell_type": "code",
      "metadata": {
        "colab": {
          "base_uri": "https://localhost:8080/",
          "height": 1000
        },
        "id": "T2gau-d1NMa6",
        "outputId": "fac8d40f-9dfc-458b-cea1-cf0e87e98f4c"
      },
      "source": [
        "#betweenness centrality\n",
        "bc=dict(nx.betweenness_centrality(G21))\n",
        "bc=pd.DataFrame([[key, bc[key]] for key in bc.keys()], columns=['estado', 'betweenness centrality'])\n",
        "bc.sort_values(by='betweenness centrality', ascending=False)"
      ],
      "execution_count": null,
      "outputs": [
        {
          "output_type": "execute_result",
          "data": {
            "text/html": [
              "<div>\n",
              "<style scoped>\n",
              "    .dataframe tbody tr th:only-of-type {\n",
              "        vertical-align: middle;\n",
              "    }\n",
              "\n",
              "    .dataframe tbody tr th {\n",
              "        vertical-align: top;\n",
              "    }\n",
              "\n",
              "    .dataframe thead th {\n",
              "        text-align: right;\n",
              "    }\n",
              "</style>\n",
              "<table border=\"1\" class=\"dataframe\">\n",
              "  <thead>\n",
              "    <tr style=\"text-align: right;\">\n",
              "      <th></th>\n",
              "      <th>estado</th>\n",
              "      <th>betweenness centrality</th>\n",
              "    </tr>\n",
              "  </thead>\n",
              "  <tbody>\n",
              "    <tr>\n",
              "      <th>12</th>\n",
              "      <td>México</td>\n",
              "      <td>0.096700</td>\n",
              "    </tr>\n",
              "    <tr>\n",
              "      <th>11</th>\n",
              "      <td>Jalisco</td>\n",
              "      <td>0.082661</td>\n",
              "    </tr>\n",
              "    <tr>\n",
              "      <th>22</th>\n",
              "      <td>Puebla</td>\n",
              "      <td>0.074456</td>\n",
              "    </tr>\n",
              "    <tr>\n",
              "      <th>2</th>\n",
              "      <td>Coahuila</td>\n",
              "      <td>0.054490</td>\n",
              "    </tr>\n",
              "    <tr>\n",
              "      <th>15</th>\n",
              "      <td>Campeche</td>\n",
              "      <td>0.054435</td>\n",
              "    </tr>\n",
              "    <tr>\n",
              "      <th>7</th>\n",
              "      <td>Veracruz</td>\n",
              "      <td>0.053707</td>\n",
              "    </tr>\n",
              "    <tr>\n",
              "      <th>19</th>\n",
              "      <td>Distrito Federal</td>\n",
              "      <td>0.040372</td>\n",
              "    </tr>\n",
              "    <tr>\n",
              "      <th>9</th>\n",
              "      <td>Baja California</td>\n",
              "      <td>0.038994</td>\n",
              "    </tr>\n",
              "    <tr>\n",
              "      <th>4</th>\n",
              "      <td>Michoacán</td>\n",
              "      <td>0.037110</td>\n",
              "    </tr>\n",
              "    <tr>\n",
              "      <th>16</th>\n",
              "      <td>Morelos</td>\n",
              "      <td>0.032295</td>\n",
              "    </tr>\n",
              "    <tr>\n",
              "      <th>17</th>\n",
              "      <td>Yucatán</td>\n",
              "      <td>0.030434</td>\n",
              "    </tr>\n",
              "    <tr>\n",
              "      <th>1</th>\n",
              "      <td>Chihuahua</td>\n",
              "      <td>0.029837</td>\n",
              "    </tr>\n",
              "    <tr>\n",
              "      <th>8</th>\n",
              "      <td>Zacatecas</td>\n",
              "      <td>0.028911</td>\n",
              "    </tr>\n",
              "    <tr>\n",
              "      <th>0</th>\n",
              "      <td>Aguascalientes</td>\n",
              "      <td>0.022035</td>\n",
              "    </tr>\n",
              "    <tr>\n",
              "      <th>13</th>\n",
              "      <td>Nuevo León</td>\n",
              "      <td>0.021717</td>\n",
              "    </tr>\n",
              "    <tr>\n",
              "      <th>23</th>\n",
              "      <td>Guanajuato</td>\n",
              "      <td>0.015946</td>\n",
              "    </tr>\n",
              "    <tr>\n",
              "      <th>25</th>\n",
              "      <td>Tabasco</td>\n",
              "      <td>0.013934</td>\n",
              "    </tr>\n",
              "    <tr>\n",
              "      <th>5</th>\n",
              "      <td>San Luis Potosí</td>\n",
              "      <td>0.010160</td>\n",
              "    </tr>\n",
              "    <tr>\n",
              "      <th>14</th>\n",
              "      <td>Sonora</td>\n",
              "      <td>0.008449</td>\n",
              "    </tr>\n",
              "    <tr>\n",
              "      <th>21</th>\n",
              "      <td>Oaxaca</td>\n",
              "      <td>0.008265</td>\n",
              "    </tr>\n",
              "    <tr>\n",
              "      <th>6</th>\n",
              "      <td>Tamaulipas</td>\n",
              "      <td>0.005932</td>\n",
              "    </tr>\n",
              "    <tr>\n",
              "      <th>20</th>\n",
              "      <td>Hidalgo</td>\n",
              "      <td>0.004321</td>\n",
              "    </tr>\n",
              "    <tr>\n",
              "      <th>18</th>\n",
              "      <td>Chiapas</td>\n",
              "      <td>0.003115</td>\n",
              "    </tr>\n",
              "    <tr>\n",
              "      <th>27</th>\n",
              "      <td>Guerrero</td>\n",
              "      <td>0.001306</td>\n",
              "    </tr>\n",
              "    <tr>\n",
              "      <th>29</th>\n",
              "      <td>Sinaloa</td>\n",
              "      <td>0.001120</td>\n",
              "    </tr>\n",
              "    <tr>\n",
              "      <th>26</th>\n",
              "      <td>Colima</td>\n",
              "      <td>0.000908</td>\n",
              "    </tr>\n",
              "    <tr>\n",
              "      <th>10</th>\n",
              "      <td>Baja California Sur</td>\n",
              "      <td>0.000567</td>\n",
              "    </tr>\n",
              "    <tr>\n",
              "      <th>3</th>\n",
              "      <td>Durango</td>\n",
              "      <td>0.000000</td>\n",
              "    </tr>\n",
              "    <tr>\n",
              "      <th>24</th>\n",
              "      <td>Querétaro</td>\n",
              "      <td>0.000000</td>\n",
              "    </tr>\n",
              "    <tr>\n",
              "      <th>28</th>\n",
              "      <td>Importación</td>\n",
              "      <td>0.000000</td>\n",
              "    </tr>\n",
              "    <tr>\n",
              "      <th>30</th>\n",
              "      <td>Nacional</td>\n",
              "      <td>0.000000</td>\n",
              "    </tr>\n",
              "    <tr>\n",
              "      <th>31</th>\n",
              "      <td>Nayarit</td>\n",
              "      <td>0.000000</td>\n",
              "    </tr>\n",
              "    <tr>\n",
              "      <th>32</th>\n",
              "      <td>Quintana Roo</td>\n",
              "      <td>0.000000</td>\n",
              "    </tr>\n",
              "  </tbody>\n",
              "</table>\n",
              "</div>"
            ],
            "text/plain": [
              "                 estado  betweenness centrality\n",
              "12               México                0.096700\n",
              "11              Jalisco                0.082661\n",
              "22               Puebla                0.074456\n",
              "2              Coahuila                0.054490\n",
              "15             Campeche                0.054435\n",
              "7              Veracruz                0.053707\n",
              "19     Distrito Federal                0.040372\n",
              "9       Baja California                0.038994\n",
              "4             Michoacán                0.037110\n",
              "16              Morelos                0.032295\n",
              "17              Yucatán                0.030434\n",
              "1             Chihuahua                0.029837\n",
              "8             Zacatecas                0.028911\n",
              "0        Aguascalientes                0.022035\n",
              "13           Nuevo León                0.021717\n",
              "23           Guanajuato                0.015946\n",
              "25              Tabasco                0.013934\n",
              "5       San Luis Potosí                0.010160\n",
              "14               Sonora                0.008449\n",
              "21               Oaxaca                0.008265\n",
              "6            Tamaulipas                0.005932\n",
              "20              Hidalgo                0.004321\n",
              "18              Chiapas                0.003115\n",
              "27             Guerrero                0.001306\n",
              "29              Sinaloa                0.001120\n",
              "26               Colima                0.000908\n",
              "10  Baja California Sur                0.000567\n",
              "3               Durango                0.000000\n",
              "24            Querétaro                0.000000\n",
              "28          Importación                0.000000\n",
              "30             Nacional                0.000000\n",
              "31              Nayarit                0.000000\n",
              "32         Quintana Roo                0.000000"
            ]
          },
          "metadata": {
            "tags": []
          },
          "execution_count": 85
        }
      ]
    },
    {
      "cell_type": "markdown",
      "metadata": {
        "id": "ZTwmtfQzOWjP"
      },
      "source": [
        "MAPAS: LOS NODOS MÁS IMPORTANTES EN 2021"
      ]
    },
    {
      "cell_type": "code",
      "metadata": {
        "colab": {
          "base_uri": "https://localhost:8080/"
        },
        "id": "vXN4eWR7OWjR",
        "outputId": "8c5e466b-402c-4e44-cd02-0ec64a9d572d"
      },
      "source": [
        "idc=nx.in_degree_centrality(G21)\n",
        "A=(idc['Aguascalientes'], idc['Colima'], 0, idc['Distrito Federal'] , idc['Morelos'], idc['México'], idc['Hidalgo'], idc['Puebla'], idc['Nuevo León'], idc['Coahuila'], idc['Chihuahua'], idc['Sonora'], idc['Michoacán'], idc['Querétaro'], idc['Guanajuato'], idc['Jalisco'], idc['Zacatecas'], idc['Durango'], idc['Tamaulipas'], idc['Veracruz'], idc['Guerrero'], idc['Sinaloa'], idc['Oaxaca'], idc['Nayarit'], idc['Chiapas'], idc['Tabasco'], idc['Campeche'], idc['Baja California'], idc['Baja California Sur'], idc['San Luis Potosí'], idc['Yucatán'], idc['Quintana Roo'])\n",
        "B=np.array(A)\n",
        "B"
      ],
      "execution_count": null,
      "outputs": [
        {
          "output_type": "execute_result",
          "data": {
            "text/plain": [
              "array([0.53125, 0.03125, 0.     , 0.46875, 0.53125, 0.625  , 0.40625,\n",
              "       0.46875, 0.625  , 0.5625 , 0.46875, 0.53125, 0.46875, 0.53125,\n",
              "       0.34375, 0.4375 , 0.3125 , 0.53125, 0.1875 , 0.4375 , 0.125  ,\n",
              "       0.03125, 0.21875, 0.     , 0.125  , 0.21875, 0.125  , 0.375  ,\n",
              "       0.15625, 0.46875, 0.3125 , 0.     ])"
            ]
          },
          "metadata": {
            "tags": []
          },
          "execution_count": 86
        }
      ]
    },
    {
      "cell_type": "code",
      "metadata": {
        "colab": {
          "base_uri": "https://localhost:8080/",
          "height": 489
        },
        "id": "cOCAS1t3OWjU",
        "outputId": "0350601a-9cc5-449b-f4ab-177e66033072"
      },
      "source": [
        "!git clone https://github.com/jschleuss/mexican-states.git\n",
        "\n",
        "mex=gpd.read_file(\"mexican-states/mexican-states.shp\")\n",
        "df_dummy = pd.DataFrame({'Estados':mex.name.values,\n",
        "                         'índice':B*10})\n",
        "#Asignando centroides\n",
        "x0=-102.57634952\n",
        "y0=23.9353719\n",
        "mex_tr = (mex[\"geometry\"]\n",
        "           .skew(xs=-40,ys=0,use_radians=False,origin=(x0,y0))\n",
        "           .rotate(angle=33,use_radians=False,origin=(x0,y0)))\n",
        "\n",
        "x=(mex_tr\n",
        "   .centroid\n",
        "   .apply(lambda p:p.x)\n",
        "   .values)\n",
        "y=(mex_tr\n",
        "   .centroid\n",
        "   .apply(lambda p:p.y)\n",
        "   .values)\n",
        "\n",
        "fig,ax = plt.subplots(1,1,figsize=(14,14))\n",
        "#Graficando el mapa\n",
        "mex_tr.plot(ax=ax,\n",
        "            color=\"#F0F4ED\",\n",
        "            edgecolor=\"#937584\",\n",
        "            zorder=1)\n",
        "#Mostrando la posición de las coordenadas\n",
        "ax.scatter(x=x,\n",
        "           y=y+df_dummy['índice'].values,\n",
        "           color=\"#ff4d5f\",\n",
        "           zorder=2,\n",
        "           s=10*df_dummy['índice'].values)\n",
        "for i in range(32):\n",
        "   ax.plot([x,x],\n",
        "           [y,y+df_dummy['índice'].values],\n",
        "           color=\"#937584\",\n",
        "           zorder=1)\n",
        "plt.show()"
      ],
      "execution_count": null,
      "outputs": [
        {
          "output_type": "stream",
          "text": [
            "fatal: destination path 'mexican-states' already exists and is not an empty directory.\n"
          ],
          "name": "stdout"
        },
        {
          "output_type": "stream",
          "text": [
            "/usr/local/lib/python3.7/dist-packages/ipykernel_launcher.py:13: UserWarning: Geometry is in a geographic CRS. Results from 'centroid' are likely incorrect. Use 'GeoSeries.to_crs()' to re-project geometries to a projected CRS before this operation.\n",
            "\n",
            "  del sys.path[0]\n",
            "/usr/local/lib/python3.7/dist-packages/ipykernel_launcher.py:17: UserWarning: Geometry is in a geographic CRS. Results from 'centroid' are likely incorrect. Use 'GeoSeries.to_crs()' to re-project geometries to a projected CRS before this operation.\n",
            "\n"
          ],
          "name": "stderr"
        },
        {
          "output_type": "display_data",
          "data": {
            "image/png": "[encoded data removed]",
            "text/plain": [
              "<Figure size 1008x1008 with 1 Axes>"
            ]
          },
          "metadata": {
            "tags": [],
            "needs_background": "light"
          }
        }
      ]
    },
    {
      "cell_type": "code",
      "metadata": {
        "colab": {
          "base_uri": "https://localhost:8080/"
        },
        "id": "xrnO4gPdOWjV",
        "outputId": "7583ad73-c827-4e82-a61e-7379599d0356"
      },
      "source": [
        "odc=nx.out_degree_centrality(G21)\n",
        "A=(odc['Aguascalientes'], odc['Colima'], 0, odc['Distrito Federal'] , odc['Morelos'], odc['México'], odc['Hidalgo'], odc['Puebla'], odc['Nuevo León'], odc['Coahuila'], odc['Chihuahua'], odc['Sonora'], odc['Michoacán'], odc['Querétaro'], odc['Guanajuato'], odc['Jalisco'], odc['Zacatecas'], odc['Durango'], odc['Tamaulipas'], odc['Veracruz'], odc['Guerrero'], odc['Sinaloa'], odc['Oaxaca'], odc['Nayarit'], odc['Chiapas'], odc['Tabasco'], odc['Campeche'], odc['Baja California'], odc['Baja California Sur'], odc['San Luis Potosí'], odc['Yucatán'], odc['Quintana Roo'])\n",
        "B=np.array(A)\n",
        "B"
      ],
      "execution_count": null,
      "outputs": [
        {
          "output_type": "execute_result",
          "data": {
            "text/plain": [
              "array([0.25   , 0.46875, 0.     , 0.375  , 0.25   , 0.4375 , 0.15625,\n",
              "       0.59375, 0.15625, 0.34375, 0.4375 , 0.15625, 0.625  , 0.     ,\n",
              "       0.46875, 0.40625, 0.5625 , 0.03125, 0.25   , 0.625  , 0.3125 ,\n",
              "       0.59375, 0.4375 , 0.4375 , 0.46875, 0.5    , 0.09375, 0.1875 ,\n",
              "       0.03125, 0.15625, 0.03125, 0.03125])"
            ]
          },
          "metadata": {
            "tags": []
          },
          "execution_count": 88
        }
      ]
    },
    {
      "cell_type": "code",
      "metadata": {
        "colab": {
          "base_uri": "https://localhost:8080/",
          "height": 463
        },
        "id": "dxo34MdBOWjX",
        "outputId": "ee105b9c-368f-4355-ccd1-6ed965d42753"
      },
      "source": [
        "!git clone https://github.com/jschleuss/mexican-states.git\n",
        "\n",
        "mex=gpd.read_file(\"mexican-states/mexican-states.shp\")\n",
        "df_dummy = pd.DataFrame({'Estados':mex.name.values,\n",
        "                         'índice':B*10})\n",
        "#Asignando centroides\n",
        "x0=-102.57634952\n",
        "y0=23.9353719\n",
        "mex_tr = (mex[\"geometry\"]\n",
        "           .skew(xs=-40,ys=0,use_radians=False,origin=(x0,y0))\n",
        "           .rotate(angle=33,use_radians=False,origin=(x0,y0)))\n",
        "\n",
        "x=(mex_tr\n",
        "   .centroid\n",
        "   .apply(lambda p:p.x)\n",
        "   .values)\n",
        "y=(mex_tr\n",
        "   .centroid\n",
        "   .apply(lambda p:p.y)\n",
        "   .values)\n",
        "\n",
        "fig,ax = plt.subplots(1,1,figsize=(14,14))\n",
        "#Graficando el mapa\n",
        "mex_tr.plot(ax=ax,\n",
        "            color=\"#F0F4ED\",\n",
        "            edgecolor=\"#937584\",\n",
        "            zorder=1)\n",
        "#Mostrando la posición de las coordenadas\n",
        "ax.scatter(x=x,\n",
        "           y=y+df_dummy['índice'].values,\n",
        "           color=\"#2102ED\",\n",
        "           zorder=2,\n",
        "           s=10*df_dummy['índice'].values)\n",
        "for i in range(32):\n",
        "   ax.plot([x,x],\n",
        "           [y,y+df_dummy['índice'].values],\n",
        "           color=\"#937584\",\n",
        "           zorder=1)\n",
        "plt.show()"
      ],
      "execution_count": null,
      "outputs": [
        {
          "output_type": "stream",
          "text": [
            "fatal: destination path 'mexican-states' already exists and is not an empty directory.\n"
          ],
          "name": "stdout"
        },
        {
          "output_type": "stream",
          "text": [
            "/usr/local/lib/python3.7/dist-packages/ipykernel_launcher.py:13: UserWarning: Geometry is in a geographic CRS. Results from 'centroid' are likely incorrect. Use 'GeoSeries.to_crs()' to re-project geometries to a projected CRS before this operation.\n",
            "\n",
            "  del sys.path[0]\n",
            "/usr/local/lib/python3.7/dist-packages/ipykernel_launcher.py:17: UserWarning: Geometry is in a geographic CRS. Results from 'centroid' are likely incorrect. Use 'GeoSeries.to_crs()' to re-project geometries to a projected CRS before this operation.\n",
            "\n"
          ],
          "name": "stderr"
        },
        {
          "output_type": "display_data",
          "data": {
            "image/png": "[encoded data removed]",
            "text/plain": [
              "<Figure size 1008x1008 with 1 Axes>"
            ]
          },
          "metadata": {
            "tags": [],
            "needs_background": "light"
          }
        }
      ]
    },
    {
      "cell_type": "code",
      "metadata": {
        "colab": {
          "base_uri": "https://localhost:8080/"
        },
        "id": "hmc1_gO_OWjZ",
        "outputId": "42d9b421-20b3-44b6-c38d-209c8cbf9309"
      },
      "source": [
        "bc=nx.betweenness_centrality(G21)\n",
        "A=(bc['Aguascalientes'], bc['Colima'], 0, bc['Distrito Federal'] , bc['Morelos'], bc['México'], bc['Hidalgo'], bc['Puebla'], bc['Nuevo León'], bc['Coahuila'], bc['Chihuahua'], bc['Sonora'], bc['Michoacán'], bc['Querétaro'], bc['Guanajuato'], bc['Jalisco'], bc['Zacatecas'], bc['Durango'], bc['Tamaulipas'], bc['Veracruz'], bc['Guerrero'], bc['Sinaloa'], bc['Oaxaca'], bc['Nayarit'], bc['Chiapas'], bc['Tabasco'], bc['Campeche'], bc['Baja California'], bc['Baja California Sur'], bc['San Luis Potosí'], bc['Yucatán'], bc['Quintana Roo'])\n",
        "B=np.array(A)\n",
        "B"
      ],
      "execution_count": null,
      "outputs": [
        {
          "output_type": "execute_result",
          "data": {
            "text/plain": [
              "array([0.02203524, 0.00090806, 0.        , 0.04037175, 0.03229548,\n",
              "       0.09670001, 0.00432148, 0.07445611, 0.02171675, 0.05449021,\n",
              "       0.0298366 , 0.00844894, 0.03710961, 0.        , 0.01594562,\n",
              "       0.08266065, 0.02891069, 0.        , 0.00593198, 0.05370702,\n",
              "       0.00130608, 0.00111967, 0.00826501, 0.        , 0.00311491,\n",
              "       0.01393426, 0.05443548, 0.03899429, 0.00056704, 0.0101602 ,\n",
              "       0.03043429, 0.        ])"
            ]
          },
          "metadata": {
            "tags": []
          },
          "execution_count": 90
        }
      ]
    },
    {
      "cell_type": "code",
      "metadata": {
        "colab": {
          "base_uri": "https://localhost:8080/",
          "height": 503
        },
        "id": "Qi44DnoaOWja",
        "outputId": "2fd2bdba-b49f-4818-86b7-8b7181de5126"
      },
      "source": [
        "!git clone https://github.com/jschleuss/mexican-states.git\n",
        "\n",
        "mex=gpd.read_file(\"mexican-states/mexican-states.shp\")\n",
        "df_dummy = pd.DataFrame({'Estados':mex.name.values,\n",
        "                         'índice':B*100})\n",
        "#Asignando centroides\n",
        "x0=-102.57634952\n",
        "y0=23.9353719\n",
        "mex_tr = (mex[\"geometry\"]\n",
        "           .skew(xs=-40,ys=0,use_radians=False,origin=(x0,y0))\n",
        "           .rotate(angle=33,use_radians=False,origin=(x0,y0)))\n",
        "\n",
        "x=(mex_tr\n",
        "   .centroid\n",
        "   .apply(lambda p:p.x)\n",
        "   .values)\n",
        "y=(mex_tr\n",
        "   .centroid\n",
        "   .apply(lambda p:p.y)\n",
        "   .values)\n",
        "\n",
        "fig,ax = plt.subplots(1,1,figsize=(14,14))\n",
        "#Graficando el mapa\n",
        "mex_tr.plot(ax=ax,\n",
        "            color=\"#F0F4ED\",\n",
        "            edgecolor=\"#937584\",\n",
        "            zorder=1)\n",
        "#Mostrando la posición de las coordenadas\n",
        "ax.scatter(x=x,\n",
        "           y=y+df_dummy['índice'].values,\n",
        "           color=\"#9B30F7\",\n",
        "           zorder=2,\n",
        "           s=10*df_dummy['índice'].values)\n",
        "for i in range(32):\n",
        "   ax.plot([x,x],\n",
        "           [y,y+df_dummy['índice'].values],\n",
        "           color=\"#937584\",\n",
        "           zorder=1)\n",
        "plt.show()"
      ],
      "execution_count": null,
      "outputs": [
        {
          "output_type": "stream",
          "text": [
            "fatal: destination path 'mexican-states' already exists and is not an empty directory.\n"
          ],
          "name": "stdout"
        },
        {
          "output_type": "stream",
          "text": [
            "/usr/local/lib/python3.7/dist-packages/ipykernel_launcher.py:13: UserWarning: Geometry is in a geographic CRS. Results from 'centroid' are likely incorrect. Use 'GeoSeries.to_crs()' to re-project geometries to a projected CRS before this operation.\n",
            "\n",
            "  del sys.path[0]\n",
            "/usr/local/lib/python3.7/dist-packages/ipykernel_launcher.py:17: UserWarning: Geometry is in a geographic CRS. Results from 'centroid' are likely incorrect. Use 'GeoSeries.to_crs()' to re-project geometries to a projected CRS before this operation.\n",
            "\n"
          ],
          "name": "stderr"
        },
        {
          "output_type": "display_data",
          "data": {
            "image/png": "[encoded data removed]",
            "text/plain": [
              "<Figure size 1008x1008 with 1 Axes>"
            ]
          },
          "metadata": {
            "tags": [],
            "needs_background": "light"
          }
        }
      ]
    },
    {
      "cell_type": "markdown",
      "metadata": {
        "id": "JoLFYBa7OWjc"
      },
      "source": [
        "##RED DE TRANSPORTE"
      ]
    },
    {
      "cell_type": "markdown",
      "metadata": {
        "id": "wD9GRAPV4Ghu"
      },
      "source": [
        "Data Frame, transporte"
      ]
    },
    {
      "cell_type": "code",
      "metadata": {
        "colab": {
          "base_uri": "https://localhost:8080/",
          "height": 204
        },
        "id": "ilHcemDv4K9S",
        "outputId": "fea9da98-b469-4170-e123-02b7c4aa31c5"
      },
      "source": [
        "#Promediamos los costos, distancia, tiempo, etc, para cada estado:\n",
        "dist=dist.groupby(['edo_origen', 'edo_destino'])[['distancia(km)', 'cost_combustible(MXN)', 'cost_casetas(MXN)', 'cost_total(MXN)', 'tiempo(hrs)']].mean().reset_index()\n",
        "dist=dist.explode('edo_destino')\n",
        "#Eliminando caracteres extraños\n",
        "dist['edo_destino']=dist['edo_destino'].str.replace('Ã©','é').str.replace('Ã¡','á').str.replace('Ã³','ó').str.replace('Ã­','í')\n",
        "dist['edo_origen']=dist['edo_origen'].str.replace('Ã©','é').str.replace('Ã¡','á').str.replace('Ã³','ó').str.replace('Ã­','í')\n",
        "#Renombarndo columnas\n",
        "dist=dist.rename(columns={'edo_destino':'destino', 'edo_origen':'origen', 'distancia(km)':'distancia', 'cost_combustible(MXN)':'cost_combustible', 'cost_casetas(MXN)':'cost_casetas', 'cost_total(MXN)':'cost_total', 'tiempo(hrs)':'tiempo'})\n",
        "dist.head()"
      ],
      "execution_count": 196,
      "outputs": [
        {
          "output_type": "execute_result",
          "data": {
            "text/html": [
              "<div>\n",
              "<style scoped>\n",
              "    .dataframe tbody tr th:only-of-type {\n",
              "        vertical-align: middle;\n",
              "    }\n",
              "\n",
              "    .dataframe tbody tr th {\n",
              "        vertical-align: top;\n",
              "    }\n",
              "\n",
              "    .dataframe thead th {\n",
              "        text-align: right;\n",
              "    }\n",
              "</style>\n",
              "<table border=\"1\" class=\"dataframe\">\n",
              "  <thead>\n",
              "    <tr style=\"text-align: right;\">\n",
              "      <th></th>\n",
              "      <th>origen</th>\n",
              "      <th>destino</th>\n",
              "      <th>distancia</th>\n",
              "      <th>cost_combustible</th>\n",
              "      <th>cost_casetas</th>\n",
              "      <th>cost_total</th>\n",
              "      <th>tiempo</th>\n",
              "    </tr>\n",
              "  </thead>\n",
              "  <tbody>\n",
              "    <tr>\n",
              "      <th>0</th>\n",
              "      <td>Aguascalientes</td>\n",
              "      <td>Baja California</td>\n",
              "      <td>2279.52</td>\n",
              "      <td>4027.2</td>\n",
              "      <td>2560.0</td>\n",
              "      <td>6587.2</td>\n",
              "      <td>22.566667</td>\n",
              "    </tr>\n",
              "    <tr>\n",
              "      <th>1</th>\n",
              "      <td>Aguascalientes</td>\n",
              "      <td>Baja California Sur</td>\n",
              "      <td>3910.49</td>\n",
              "      <td>6908.5</td>\n",
              "      <td>2929.0</td>\n",
              "      <td>9837.5</td>\n",
              "      <td>42.983333</td>\n",
              "    </tr>\n",
              "    <tr>\n",
              "      <th>2</th>\n",
              "      <td>Aguascalientes</td>\n",
              "      <td>Campeche</td>\n",
              "      <td>1625.44</td>\n",
              "      <td>2871.6</td>\n",
              "      <td>2200.0</td>\n",
              "      <td>5071.6</td>\n",
              "      <td>16.300000</td>\n",
              "    </tr>\n",
              "    <tr>\n",
              "      <th>3</th>\n",
              "      <td>Aguascalientes</td>\n",
              "      <td>Chiapas</td>\n",
              "      <td>1332.60</td>\n",
              "      <td>2354.3</td>\n",
              "      <td>2120.0</td>\n",
              "      <td>4474.3</td>\n",
              "      <td>12.416667</td>\n",
              "    </tr>\n",
              "    <tr>\n",
              "      <th>4</th>\n",
              "      <td>Aguascalientes</td>\n",
              "      <td>Chihuahua</td>\n",
              "      <td>959.14</td>\n",
              "      <td>1694.5</td>\n",
              "      <td>920.0</td>\n",
              "      <td>2614.5</td>\n",
              "      <td>9.833333</td>\n",
              "    </tr>\n",
              "  </tbody>\n",
              "</table>\n",
              "</div>"
            ],
            "text/plain": [
              "           origen              destino  ...  cost_total     tiempo\n",
              "0  Aguascalientes      Baja California  ...      6587.2  22.566667\n",
              "1  Aguascalientes  Baja California Sur  ...      9837.5  42.983333\n",
              "2  Aguascalientes             Campeche  ...      5071.6  16.300000\n",
              "3  Aguascalientes              Chiapas  ...      4474.3  12.416667\n",
              "4  Aguascalientes            Chihuahua  ...      2614.5   9.833333\n",
              "\n",
              "[5 rows x 7 columns]"
            ]
          },
          "metadata": {
            "tags": []
          },
          "execution_count": 196
        }
      ]
    },
    {
      "cell_type": "code",
      "metadata": {
        "id": "Tu-amY1bJTt7"
      },
      "source": [
        "#De la red de comercialización de 2019 eliminamos los orígenes: 'importación' y 'nacional', pues de ello no tenemos costos de transporte\n",
        "adj_2019_1=adj_2019.drop(range(130,153), axis=0)\n",
        "adj_2019_1=adj_2019_1.drop([213,214], axis=0)"
      ],
      "execution_count": 197,
      "outputs": []
    },
    {
      "cell_type": "code",
      "metadata": {
        "id": "XNKg_j-843di"
      },
      "source": [
        "#Uniendo las bases de datos\n",
        "ADJ_2019=pd.merge(adj_2019_1, dist, how='left',on=('origen','destino'))"
      ],
      "execution_count": 198,
      "outputs": []
    },
    {
      "cell_type": "markdown",
      "metadata": {
        "id": "a58NvNowU1UY"
      },
      "source": [
        "**Ánalisis de los costos de transporte**"
      ]
    },
    {
      "cell_type": "code",
      "metadata": {
        "id": "fuyc0Hwv43XF"
      },
      "source": [
        "#RED AUMENTADA 2019\n",
        "G19_1 = nx.from_pandas_edgelist(\n",
        "    ADJ_2019,\n",
        "    source='origen',\n",
        "    target='destino',\n",
        "    edge_attr='cost_total',\n",
        "    create_using=nx.DiGraph)"
      ],
      "execution_count": 279,
      "outputs": []
    },
    {
      "cell_type": "code",
      "metadata": {
        "colab": {
          "base_uri": "https://localhost:8080/"
        },
        "id": "YEu41xBkCmvH",
        "outputId": "da977466-a730-4b08-dbd5-8366b8aac787"
      },
      "source": [
        "#Ruta más barata\n",
        "ADJ_2019['ruta más barata']=None\n",
        "ADJ_2019['costo de la ruta más barata']=None\n",
        "\n",
        "for indice, fila in ADJ_2019.iterrows():\n",
        "  ADJ_2019['ruta más barata'].iloc[indice]=nx.bellman_ford_path(G19_1,fila['origen'],fila['destino'],weight='cost_total')\n",
        "  ADJ_2019['costo de la ruta más barata'].iloc[indice]=nx.bellman_ford_path_length(G19_1,fila['origen'],fila['destino'],weight='cost_total')"
      ],
      "execution_count": 280,
      "outputs": [
        {
          "output_type": "stream",
          "text": [
            "/usr/local/lib/python3.7/dist-packages/pandas/core/indexing.py:670: SettingWithCopyWarning: \n",
            "A value is trying to be set on a copy of a slice from a DataFrame\n",
            "\n",
            "See the caveats in the documentation: https://pandas.pydata.org/pandas-docs/stable/user_guide/indexing.html#returning-a-view-versus-a-copy\n",
            "  iloc._setitem_with_indexer(indexer, value)\n"
          ],
          "name": "stderr"
        }
      ]
    },
    {
      "cell_type": "markdown",
      "metadata": {
        "id": "xn_WaUOTVniG"
      },
      "source": [
        "**Análisis de la distancia recorrida**"
      ]
    },
    {
      "cell_type": "code",
      "metadata": {
        "id": "anXGt-k_KUSl"
      },
      "source": [
        "#RED AUMENTADA 2019\n",
        "G19_2 = nx.from_pandas_edgelist(\n",
        "    ADJ_2019,\n",
        "    source='origen',\n",
        "    target='destino',\n",
        "    edge_attr='distancia',\n",
        "    create_using=nx.DiGraph)"
      ],
      "execution_count": 273,
      "outputs": []
    },
    {
      "cell_type": "code",
      "metadata": {
        "colab": {
          "base_uri": "https://localhost:8080/"
        },
        "id": "ffegFO6eU6Ck",
        "outputId": "8e835c9f-a3ce-4f77-dd6e-0750c0e6734d"
      },
      "source": [
        "#Ruta más corta\n",
        "ADJ_2019['ruta más corta']=None\n",
        "ADJ_2019['distancia de la ruta más corta']=None\n",
        "\n",
        "for indice, fila in ADJ_2019.iterrows():\n",
        "  ADJ_2019['ruta más corta'].iloc[indice]=nx.bellman_ford_path(G19_2,fila['origen'],fila['destino'],weight='distancia')\n",
        "  ADJ_2019['distancia de la ruta más corta'].iloc[indice]=nx.bellman_ford_path_length(G19_2,fila['origen'],fila['destino'],weight='distancia')"
      ],
      "execution_count": 274,
      "outputs": [
        {
          "output_type": "stream",
          "text": [
            "/usr/local/lib/python3.7/dist-packages/pandas/core/indexing.py:670: SettingWithCopyWarning: \n",
            "A value is trying to be set on a copy of a slice from a DataFrame\n",
            "\n",
            "See the caveats in the documentation: https://pandas.pydata.org/pandas-docs/stable/user_guide/indexing.html#returning-a-view-versus-a-copy\n",
            "  iloc._setitem_with_indexer(indexer, value)\n"
          ],
          "name": "stderr"
        }
      ]
    },
    {
      "cell_type": "markdown",
      "metadata": {
        "id": "Sy2N8WUHpSA-"
      },
      "source": [
        "**Ánalisis de el tiempo de transporte**"
      ]
    },
    {
      "cell_type": "code",
      "metadata": {
        "id": "dFTvP-HjpRja"
      },
      "source": [
        "#RED AUMENTADA 2019\n",
        "G19_3 = nx.from_pandas_edgelist(\n",
        "    ADJ_2019,\n",
        "    source='origen',\n",
        "    target='destino',\n",
        "    edge_attr='tiempo',\n",
        "    create_using=nx.DiGraph)"
      ],
      "execution_count": 276,
      "outputs": []
    },
    {
      "cell_type": "code",
      "metadata": {
        "colab": {
          "base_uri": "https://localhost:8080/"
        },
        "id": "R9-gqPB8pyy3",
        "outputId": "48fa9f67-5c92-49f6-f857-dfaa137baca2"
      },
      "source": [
        "#Ruta más rápida\n",
        "ADJ_2019['ruta más rápida']=None\n",
        "ADJ_2019['tiempo de la ruta más rápida']=None\n",
        "\n",
        "for indice, fila in ADJ_2019.iterrows():\n",
        "  ADJ_2019['ruta más rápida'].iloc[indice]=nx.bellman_ford_path(G19_3,fila['origen'],fila['destino'],weight='tiempo')\n",
        "  ADJ_2019['tiempo de la ruta más rápida'].iloc[indice]=nx.bellman_ford_path_length(G19_3,fila['origen'],fila['destino'],weight='tiempo')"
      ],
      "execution_count": 277,
      "outputs": [
        {
          "output_type": "stream",
          "text": [
            "/usr/local/lib/python3.7/dist-packages/pandas/core/indexing.py:670: SettingWithCopyWarning: \n",
            "A value is trying to be set on a copy of a slice from a DataFrame\n",
            "\n",
            "See the caveats in the documentation: https://pandas.pydata.org/pandas-docs/stable/user_guide/indexing.html#returning-a-view-versus-a-copy\n",
            "  iloc._setitem_with_indexer(indexer, value)\n"
          ],
          "name": "stderr"
        }
      ]
    },
    {
      "cell_type": "code",
      "metadata": {
        "id": "cVGrmlcHtTWL"
      },
      "source": [
        "#Resumen sobre el costo de transporte\n",
        "Trns_2019=ADJ_2019.drop(['frecuencia', 'distancia','cost_casetas','cost_total','cost_combustible','tiempo', 'Ruta más barata','Costo de la ruta más barata', 'Ruta más corta', 'Distancia de la ruta más corta', 'ruta más barata', 'costo de la ruta más barata', 'ruta más corta', 'distancia de la ruta más corta', 'ruta más rápida','tiempo de la ruta más rápida' ], axis=1)\n",
        "Trns_2019[\"minimización de costo\"] = np.where(ADJ_2019[\"cost_total\"] == ADJ_2019[\"costo de la ruta más barata\"], 'Óptimo', 'No óptimo')\n",
        "Trns_2019[\"minimización de distancia\"] = np.where(ADJ_2019[\"distancia\"] == ADJ_2019[\"distancia de la ruta más corta\"], 'Óptimo', 'No óptimo')\n",
        "Trns_2019[\"minimización de tiempo\"] = np.where(ADJ_2019[\"tiempo\"] == ADJ_2019[\"tiempo de la ruta más rápida\"], 'Óptimo', 'No óptimo')\n",
        "Trns_2019"
      ],
      "execution_count": 286,
      "outputs": []
    },
    {
      "cell_type": "code",
      "metadata": {
        "id": "rwKPA55R-q6O"
      },
      "source": [
        "#Grafico de dona\n",
        "plot = Trns_2019['minimización de costo'].value_counts().plot(kind='pie', autopct='%1.f%%',  \n",
        "                                                              colors=['#A00B9F','#B24CC5'],\n",
        "                                                              figsize=(6, 6),\n",
        "                                                              explode=[0.03,0.03],\n",
        "                                                              shadow=True,\n",
        "                                                              wedgeprops=dict(width=0.7),\n",
        "                                                              title='Minimiación de costos de transporte')"
      ],
      "execution_count": null,
      "outputs": []
    },
    {
      "cell_type": "code",
      "metadata": {
        "id": "dEsAdH9N-oUB"
      },
      "source": [
        "#Grafico de barras\n",
        "plot = Trns_2019['minimización de costo'].value_counts().plot(kind='bar',\n",
        "                                            title='Optimizacion')"
      ],
      "execution_count": null,
      "outputs": []
    },
    {
      "cell_type": "markdown",
      "metadata": {
        "id": "3uUJJ5faJMrV"
      },
      "source": [
        "*MAPA: https://medium.com/@gamoles/crea-un-mapa-en-proyeccion-2-5d-796ffd068e0d\n",
        "*COLORES: https://www.htmlcsscolor.com/random-colors"
      ]
    }
  ]
}