{
  "nbformat": 4,
  "nbformat_minor": 0,
  "metadata": {
    "colab": {
      "name": "Untitled9.ipynb",
      "provenance": [],
      "authorship_tag": "ABX9TyMxPRea3ErGlpPV6LJUX2Vq",
      "include_colab_link": true
    },
    "kernelspec": {
      "name": "python3",
      "display_name": "Python 3"
    },
    "language_info": {
      "name": "python"
    }
  },
  "cells": [
    {
      "cell_type": "markdown",
      "metadata": {
        "id": "view-in-github",
        "colab_type": "text"
      },
      "source": [
        "<a href=\"https://colab.research.google.com/github/DianaMCV/Redes/blob/main/Untitled9.ipynb\" target=\"_parent\"><img src=\"https://colab.research.google.com/assets/colab-badge.svg\" alt=\"Open In Colab\"/></a>"
      ]
    },
    {
      "cell_type": "markdown",
      "metadata": {
        "id": "HNciWK-YVFt9"
      },
      "source": [
        "Base de datos con las centrales de abasto y su ubicación\n",
        "\n"
      ]
    },
    {
      "cell_type": "code",
      "metadata": {
        "id": "tr_VBerrVGjR"
      },
      "source": [
        "import pandas as pd"
      ],
      "execution_count": null,
      "outputs": []
    },
    {
      "cell_type": "code",
      "metadata": {
        "colab": {
          "base_uri": "https://localhost:8080/",
          "height": 235
        },
        "id": "q7khBdTnPvrw",
        "outputId": "8f790765-a625-4335-fc51-f77e36dd5a98"
      },
      "source": [
        "url='https://raw.githubusercontent.com/DianaMCV/Redes/main/UbicacionCentrales.csv'\n",
        "ubi = pd.read_csv(url, index_col=0, encoding='latin-1') #'latin-1': no se leían ciertos carateres\n",
        "ubi.head()"
      ],
      "execution_count": 89,
      "outputs": [
        {
          "output_type": "execute_result",
          "data": {
            "text/html": [
              "<div>\n",
              "<style scoped>\n",
              "    .dataframe tbody tr th:only-of-type {\n",
              "        vertical-align: middle;\n",
              "    }\n",
              "\n",
              "    .dataframe tbody tr th {\n",
              "        vertical-align: top;\n",
              "    }\n",
              "\n",
              "    .dataframe thead th {\n",
              "        text-align: right;\n",
              "    }\n",
              "</style>\n",
              "<table border=\"1\" class=\"dataframe\">\n",
              "  <thead>\n",
              "    <tr style=\"text-align: right;\">\n",
              "      <th></th>\n",
              "      <th>coordenadas</th>\n",
              "    </tr>\n",
              "    <tr>\n",
              "      <th>central_abasto</th>\n",
              "      <th></th>\n",
              "    </tr>\n",
              "  </thead>\n",
              "  <tbody>\n",
              "    <tr>\n",
              "      <th>Aguascalientes: Centro Comercial Agropecuario de Aguascalientes</th>\n",
              "      <td>21.91350375264395 -102.29531720470844</td>\n",
              "    </tr>\n",
              "    <tr>\n",
              "      <th>Baja California : Central de Abasto INDIA, Tijuana</th>\n",
              "      <td>32.49474400026095 -116.94692024909172</td>\n",
              "    </tr>\n",
              "    <tr>\n",
              "      <th>Baja California Sur: Unión de Comerciantes de La Paz</th>\n",
              "      <td>24.1271092193078 -110.3307038550387</td>\n",
              "    </tr>\n",
              "    <tr>\n",
              "      <th>Campeche: Mercado \"Pedro Sáinz de Baranda\", Campeche</th>\n",
              "      <td>19.84188527351779 -90.53320367292051</td>\n",
              "    </tr>\n",
              "    <tr>\n",
              "      <th>Chiapas: Central de Abasto de Tuxtla Gutiérrez</th>\n",
              "      <td>16.74342132425459 -93.06736080161691</td>\n",
              "    </tr>\n",
              "  </tbody>\n",
              "</table>\n",
              "</div>"
            ],
            "text/plain": [
              "                                                                              coordenadas\n",
              "central_abasto                                                                           \n",
              "Aguascalientes: Centro Comercial Agropecuario d...  21.91350375264395 -102.29531720470844\n",
              "Baja California : Central de Abasto INDIA, Tijuana  32.49474400026095 -116.94692024909172\n",
              "Baja California Sur: Unión de Comerciantes de L...    24.1271092193078 -110.3307038550387\n",
              "Campeche: Mercado \"Pedro Sáinz de Baranda\", Cam...   19.84188527351779 -90.53320367292051\n",
              "Chiapas: Central de Abasto de Tuxtla Gutiérrez       16.74342132425459 -93.06736080161691"
            ]
          },
          "metadata": {
            "tags": []
          },
          "execution_count": 89
        }
      ]
    },
    {
      "cell_type": "code",
      "metadata": {
        "colab": {
          "base_uri": "https://localhost:8080/",
          "height": 235
        },
        "id": "hE42h9ZOPtSC",
        "outputId": "2eca080f-0ef5-4d1a-e60b-1e3c07a3a31f"
      },
      "source": [
        "coord=ubi[\"coordenadas\"].str.split(expand=True)\n",
        "coord.columns=['latitud', 'longitud']\n",
        "ubi = pd.concat([ubi, coord], axis=1)\n",
        "ubi=ubi.drop(['coordenadas'], axis=1)\n",
        "ubi.head()"
      ],
      "execution_count": 90,
      "outputs": [
        {
          "output_type": "execute_result",
          "data": {
            "text/html": [
              "<div>\n",
              "<style scoped>\n",
              "    .dataframe tbody tr th:only-of-type {\n",
              "        vertical-align: middle;\n",
              "    }\n",
              "\n",
              "    .dataframe tbody tr th {\n",
              "        vertical-align: top;\n",
              "    }\n",
              "\n",
              "    .dataframe thead th {\n",
              "        text-align: right;\n",
              "    }\n",
              "</style>\n",
              "<table border=\"1\" class=\"dataframe\">\n",
              "  <thead>\n",
              "    <tr style=\"text-align: right;\">\n",
              "      <th></th>\n",
              "      <th>latitud</th>\n",
              "      <th>longitud</th>\n",
              "    </tr>\n",
              "    <tr>\n",
              "      <th>central_abasto</th>\n",
              "      <th></th>\n",
              "      <th></th>\n",
              "    </tr>\n",
              "  </thead>\n",
              "  <tbody>\n",
              "    <tr>\n",
              "      <th>Aguascalientes: Centro Comercial Agropecuario de Aguascalientes</th>\n",
              "      <td>21.91350375264395</td>\n",
              "      <td>-102.29531720470844</td>\n",
              "    </tr>\n",
              "    <tr>\n",
              "      <th>Baja California : Central de Abasto INDIA, Tijuana</th>\n",
              "      <td>32.49474400026095</td>\n",
              "      <td>-116.94692024909172</td>\n",
              "    </tr>\n",
              "    <tr>\n",
              "      <th>Baja California Sur: Unión de Comerciantes de La Paz</th>\n",
              "      <td>24.1271092193078</td>\n",
              "      <td>-110.3307038550387</td>\n",
              "    </tr>\n",
              "    <tr>\n",
              "      <th>Campeche: Mercado \"Pedro Sáinz de Baranda\", Campeche</th>\n",
              "      <td>19.84188527351779</td>\n",
              "      <td>-90.53320367292051</td>\n",
              "    </tr>\n",
              "    <tr>\n",
              "      <th>Chiapas: Central de Abasto de Tuxtla Gutiérrez</th>\n",
              "      <td>16.74342132425459</td>\n",
              "      <td>-93.06736080161691</td>\n",
              "    </tr>\n",
              "  </tbody>\n",
              "</table>\n",
              "</div>"
            ],
            "text/plain": [
              "                                                              latitud             longitud\n",
              "central_abasto                                                                            \n",
              "Aguascalientes: Centro Comercial Agropecuario d...  21.91350375264395  -102.29531720470844\n",
              "Baja California : Central de Abasto INDIA, Tijuana  32.49474400026095  -116.94692024909172\n",
              "Baja California Sur: Unión de Comerciantes de L...   24.1271092193078   -110.3307038550387\n",
              "Campeche: Mercado \"Pedro Sáinz de Baranda\", Cam...  19.84188527351779   -90.53320367292051\n",
              "Chiapas: Central de Abasto de Tuxtla Gutiérrez      16.74342132425459   -93.06736080161691"
            ]
          },
          "metadata": {
            "tags": []
          },
          "execution_count": 90
        }
      ]
    }
  ]
}