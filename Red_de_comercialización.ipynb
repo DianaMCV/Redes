{
  "nbformat": 4,
  "nbformat_minor": 0,
  "metadata": {
    "colab": {
      "name": "Red de comercialización.ipynb",
      "provenance": [],
      "collapsed_sections": [],
      "authorship_tag": "ABX9TyMgxpE9/vnnc8o+5/X7MoeD",
      "include_colab_link": true
    },
    "kernelspec": {
      "name": "python3",
      "display_name": "Python 3"
    },
    "language_info": {
      "name": "python"
    }
  },
  "cells": [
    {
      "cell_type": "markdown",
      "metadata": {
        "id": "view-in-github",
        "colab_type": "text"
      },
      "source": [
        "<a href=\"https://colab.research.google.com/github/DianaMCV/Redes/blob/main/Red_de_comercializaci%C3%B3n.ipynb\" target=\"_parent\"><img src=\"https://colab.research.google.com/assets/colab-badge.svg\" alt=\"Open In Colab\"/></a>"
      ]
    },
    {
      "cell_type": "code",
      "metadata": {
        "id": "yjDjEg_2dNrV"
      },
      "source": [
        "#Pquetería\n",
        "import pandas as pd\n",
        "import re\n",
        "import networkx as nx\n",
        "import graph_tool.all as gt\n",
        "import numpy as np\n",
        "import geopandas as gpd  \n",
        "import matplotlib.pyplot as plt  "
      ],
      "execution_count": null,
      "outputs": []
    },
    {
      "cell_type": "code",
      "metadata": {
        "id": "ivk9hLjLdTJ1"
      },
      "source": [
        "#Bases de datos\n",
        "url='https://raw.githubusercontent.com/DianaMCV/Redes/main/comercio_2019.csv'\n",
        "url1='https://raw.githubusercontent.com/DianaMCV/Redes/main/comercio_2020.csv'\n",
        "url2='https://raw.githubusercontent.com/DianaMCV/Redes/main/comercio_2021.csv'\n",
        "c2019 = pd.read_csv(url, index_col=0, encoding='latin-1') \n",
        "c2020 = pd.read_csv(url1, index_col=0, encoding='latin-1') \n",
        "c2021 = pd.read_csv(url2, index_col=0, encoding='latin-1') "
      ],
      "execution_count": null,
      "outputs": []
    },
    {
      "cell_type": "markdown",
      "metadata": {
        "id": "2m1jBHUVdYSe"
      },
      "source": [
        "ANÁLISIS DE LA RED DE COMERCIALIZACIÓN DE FRUTAS Y HORTALIZAS, 2019"
      ]
    },
    {
      "cell_type": "code",
      "metadata": {
        "id": "6XGX60-pdU2W"
      },
      "source": [
        "c2019.columns = c2019.columns.str.lower()\n",
        "c2019.head()"
      ],
      "execution_count": null,
      "outputs": []
    },
    {
      "cell_type": "code",
      "metadata": {
        "id": "f40gCdr0ddIP"
      },
      "source": [
        "#Quedarse solo con los estados en la columna destino\n",
        "c2019['destino']=c2019['destino'].apply(lambda x:(re.search('(.+(?=:))', x)).group(1))\n",
        "c2019.head()"
      ],
      "execution_count": null,
      "outputs": []
    },
    {
      "cell_type": "code",
      "metadata": {
        "id": "Lr7ORV6OdgGt"
      },
      "source": [
        "adj_2019 = c2019.groupby(['origen', 'destino']).size().rename('frecuencia').reset_index()\n",
        "adj_2019.head()"
      ],
      "execution_count": null,
      "outputs": []
    },
    {
      "cell_type": "code",
      "metadata": {
        "id": "KXVcKDE4diEd"
      },
      "source": [
        "#Eliminamos self-loops\n",
        "adj_2019=adj_2019[adj_2019['origen']!=adj_2019['destino']]\n",
        "adj_2019.head()"
      ],
      "execution_count": null,
      "outputs": []
    },
    {
      "cell_type": "code",
      "metadata": {
        "id": "XKoBqvHRdlTn"
      },
      "source": [
        "G19 = nx.from_pandas_edgelist(\n",
        "    adj_2019,\n",
        "    source='origen',\n",
        "    target='destino',\n",
        "    edge_attr='frecuencia')"
      ],
      "execution_count": null,
      "outputs": []
    }
  ]
}