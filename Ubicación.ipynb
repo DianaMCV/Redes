{
  "nbformat": 4,
  "nbformat_minor": 0,
  "metadata": {
    "colab": {
      "name": "Ubicación.ipynb",
      "provenance": [],
      "collapsed_sections": [],
      "authorship_tag": "ABX9TyMxPRea3ErGlpPV6LJUX2Vq",
      "include_colab_link": true
    },
    "kernelspec": {
      "name": "python3",
      "display_name": "Python 3"
    },
    "language_info": {
      "name": "python"
    }
  },
  "cells": [
    {
      "cell_type": "markdown",
      "metadata": {
        "id": "view-in-github",
        "colab_type": "text"
      },
      "source": [
        "<a href=\"https://colab.research.google.com/github/DianaMCV/Redes/blob/main/Ubicaci%C3%B3n.ipynb\" target=\"_parent\"><img src=\"https://colab.research.google.com/assets/colab-badge.svg\" alt=\"Open In Colab\"/></a>"
      ]
    },
    {
      "cell_type": "markdown",
      "metadata": {
        "id": "HNciWK-YVFt9"
      },
      "source": [
        "Base de datos con las centrales de abasto y su ubicación\n",
        "\n"
      ]
    },
    {
      "cell_type": "code",
      "metadata": {
        "id": "tr_VBerrVGjR"
      },
      "source": [
        "import pandas as pd"
      ],
      "execution_count": 1,
      "outputs": []
    },
    {
      "cell_type": "code",
      "metadata": {
        "colab": {
          "base_uri": "https://localhost:8080/",
          "height": 235
        },
        "id": "q7khBdTnPvrw",
        "outputId": "90bb932d-3a59-4fdb-a18c-f8011ccab17d"
      },
      "source": [
        "url='https://raw.githubusercontent.com/DianaMCV/Redes/main/UbicacionCentrales.csv'\n",
        "ubi = pd.read_csv(url, index_col=0, encoding='latin-1') #'latin-1': no se leían ciertos carateres\n",
        "ubi.head()"
      ],
      "execution_count": 2,
      "outputs": [
        {
          "output_type": "execute_result",
          "data": {
            "text/html": [
              "<div>\n",
              "<style scoped>\n",
              "    .dataframe tbody tr th:only-of-type {\n",
              "        vertical-align: middle;\n",
              "    }\n",
              "\n",
              "    .dataframe tbody tr th {\n",
              "        vertical-align: top;\n",
              "    }\n",
              "\n",
              "    .dataframe thead th {\n",
              "        text-align: right;\n",
              "    }\n",
              "</style>\n",
              "<table border=\"1\" class=\"dataframe\">\n",
              "  <thead>\n",
              "    <tr style=\"text-align: right;\">\n",
              "      <th></th>\n",
              "      <th>estado</th>\n",
              "      <th>ciudad</th>\n",
              "      <th>coordenadas</th>\n",
              "    </tr>\n",
              "    <tr>\n",
              "      <th>central_abasto</th>\n",
              "      <th></th>\n",
              "      <th></th>\n",
              "      <th></th>\n",
              "    </tr>\n",
              "  </thead>\n",
              "  <tbody>\n",
              "    <tr>\n",
              "      <th>Aguascalientes: Centro Comercial Agropecuario de Aguascalientes</th>\n",
              "      <td>Aguascalientes</td>\n",
              "      <td>Aguascalientes</td>\n",
              "      <td>21.91350375264395 -102.29531720470844</td>\n",
              "    </tr>\n",
              "    <tr>\n",
              "      <th>Baja California : Central de Abasto INDIA, Tijuana</th>\n",
              "      <td>Baja California</td>\n",
              "      <td>Tijuana</td>\n",
              "      <td>32.49474400026095 -116.94692024909172</td>\n",
              "    </tr>\n",
              "    <tr>\n",
              "      <th>Baja California Sur: Unión de Comerciantes de La Paz</th>\n",
              "      <td>Baja California Sur</td>\n",
              "      <td>La Paz</td>\n",
              "      <td>24.1271092193078 -110.3307038550387</td>\n",
              "    </tr>\n",
              "    <tr>\n",
              "      <th>Campeche: Mercado \"Pedro Sáinz de Baranda\", Campeche</th>\n",
              "      <td>Campeche</td>\n",
              "      <td>Campeche</td>\n",
              "      <td>19.84188527351779 -90.53320367292051</td>\n",
              "    </tr>\n",
              "    <tr>\n",
              "      <th>Chiapas: Central de Abasto de Tuxtla Gutiérrez</th>\n",
              "      <td>Chiapas</td>\n",
              "      <td>Tuxtla Gutiérrez</td>\n",
              "      <td>16.74342132425459 -93.06736080161691</td>\n",
              "    </tr>\n",
              "  </tbody>\n",
              "</table>\n",
              "</div>"
            ],
            "text/plain": [
              "                                                                 estado  ...                            coordenadas\n",
              "central_abasto                                                           ...                                       \n",
              "Aguascalientes: Centro Comercial Agropecuario d...       Aguascalientes  ...  21.91350375264395 -102.29531720470844\n",
              "Baja California : Central de Abasto INDIA, Tijuana     Baja California   ...  32.49474400026095 -116.94692024909172\n",
              "Baja California Sur: Unión de Comerciantes de L...  Baja California Sur  ...    24.1271092193078 -110.3307038550387\n",
              "Campeche: Mercado \"Pedro Sáinz de Baranda\", Cam...             Campeche  ...   19.84188527351779 -90.53320367292051\n",
              "Chiapas: Central de Abasto de Tuxtla Gutiérrez                  Chiapas  ...   16.74342132425459 -93.06736080161691\n",
              "\n",
              "[5 rows x 3 columns]"
            ]
          },
          "metadata": {
            "tags": []
          },
          "execution_count": 2
        }
      ]
    },
    {
      "cell_type": "code",
      "metadata": {
        "colab": {
          "base_uri": "https://localhost:8080/",
          "height": 235
        },
        "id": "hE42h9ZOPtSC",
        "outputId": "afdb6202-690a-4641-b04d-196f37f65e01"
      },
      "source": [
        "coord=ubi[\"coordenadas\"].str.split(expand=True)\n",
        "coord.columns=['latitud', 'longitud']\n",
        "ubi = pd.concat([ubi, coord], axis=1)\n",
        "ubi=ubi.drop(['coordenadas'], axis=1)\n",
        "ubi.head()"
      ],
      "execution_count": 3,
      "outputs": [
        {
          "output_type": "execute_result",
          "data": {
            "text/html": [
              "<div>\n",
              "<style scoped>\n",
              "    .dataframe tbody tr th:only-of-type {\n",
              "        vertical-align: middle;\n",
              "    }\n",
              "\n",
              "    .dataframe tbody tr th {\n",
              "        vertical-align: top;\n",
              "    }\n",
              "\n",
              "    .dataframe thead th {\n",
              "        text-align: right;\n",
              "    }\n",
              "</style>\n",
              "<table border=\"1\" class=\"dataframe\">\n",
              "  <thead>\n",
              "    <tr style=\"text-align: right;\">\n",
              "      <th></th>\n",
              "      <th>estado</th>\n",
              "      <th>ciudad</th>\n",
              "      <th>latitud</th>\n",
              "      <th>longitud</th>\n",
              "    </tr>\n",
              "    <tr>\n",
              "      <th>central_abasto</th>\n",
              "      <th></th>\n",
              "      <th></th>\n",
              "      <th></th>\n",
              "      <th></th>\n",
              "    </tr>\n",
              "  </thead>\n",
              "  <tbody>\n",
              "    <tr>\n",
              "      <th>Aguascalientes: Centro Comercial Agropecuario de Aguascalientes</th>\n",
              "      <td>Aguascalientes</td>\n",
              "      <td>Aguascalientes</td>\n",
              "      <td>21.91350375264395</td>\n",
              "      <td>-102.29531720470844</td>\n",
              "    </tr>\n",
              "    <tr>\n",
              "      <th>Baja California : Central de Abasto INDIA, Tijuana</th>\n",
              "      <td>Baja California</td>\n",
              "      <td>Tijuana</td>\n",
              "      <td>32.49474400026095</td>\n",
              "      <td>-116.94692024909172</td>\n",
              "    </tr>\n",
              "    <tr>\n",
              "      <th>Baja California Sur: Unión de Comerciantes de La Paz</th>\n",
              "      <td>Baja California Sur</td>\n",
              "      <td>La Paz</td>\n",
              "      <td>24.1271092193078</td>\n",
              "      <td>-110.3307038550387</td>\n",
              "    </tr>\n",
              "    <tr>\n",
              "      <th>Campeche: Mercado \"Pedro Sáinz de Baranda\", Campeche</th>\n",
              "      <td>Campeche</td>\n",
              "      <td>Campeche</td>\n",
              "      <td>19.84188527351779</td>\n",
              "      <td>-90.53320367292051</td>\n",
              "    </tr>\n",
              "    <tr>\n",
              "      <th>Chiapas: Central de Abasto de Tuxtla Gutiérrez</th>\n",
              "      <td>Chiapas</td>\n",
              "      <td>Tuxtla Gutiérrez</td>\n",
              "      <td>16.74342132425459</td>\n",
              "      <td>-93.06736080161691</td>\n",
              "    </tr>\n",
              "  </tbody>\n",
              "</table>\n",
              "</div>"
            ],
            "text/plain": [
              "                                                                 estado  ...             longitud\n",
              "central_abasto                                                           ...                     \n",
              "Aguascalientes: Centro Comercial Agropecuario d...       Aguascalientes  ...  -102.29531720470844\n",
              "Baja California : Central de Abasto INDIA, Tijuana     Baja California   ...  -116.94692024909172\n",
              "Baja California Sur: Unión de Comerciantes de L...  Baja California Sur  ...   -110.3307038550387\n",
              "Campeche: Mercado \"Pedro Sáinz de Baranda\", Cam...             Campeche  ...   -90.53320367292051\n",
              "Chiapas: Central de Abasto de Tuxtla Gutiérrez                  Chiapas  ...   -93.06736080161691\n",
              "\n",
              "[5 rows x 4 columns]"
            ]
          },
          "metadata": {
            "tags": []
          },
          "execution_count": 3
        }
      ]
    }
  ]
}