{
  "nbformat": 4,
  "nbformat_minor": 0,
  "metadata": {
    "colab": {
      "name": "Ubicación.ipynb",
      "provenance": [],
      "collapsed_sections": [],
      "authorship_tag": "ABX9TyP9+HRLDjkLapViANdF+Xd/",
      "include_colab_link": true
    },
    "kernelspec": {
      "name": "python3",
      "display_name": "Python 3"
    },
    "language_info": {
      "name": "python"
    }
  },
  "cells": [
    {
      "cell_type": "markdown",
      "metadata": {
        "id": "view-in-github",
        "colab_type": "text"
      },
      "source": [
        "<a href=\"https://colab.research.google.com/github/DianaMCV/Redes/blob/main/Ubicaci%C3%B3n.ipynb\" target=\"_parent\"><img src=\"https://colab.research.google.com/assets/colab-badge.svg\" alt=\"Open In Colab\"/></a>"
      ]
    },
    {
      "cell_type": "markdown",
      "metadata": {
        "id": "HNciWK-YVFt9"
      },
      "source": [
        "Base de datos con las centrales de abasto y su ubicación\n",
        "\n"
      ]
    },
    {
      "cell_type": "code",
      "metadata": {
        "id": "tr_VBerrVGjR"
      },
      "source": [
        "import pandas as pd"
      ],
      "execution_count": 2,
      "outputs": []
    },
    {
      "cell_type": "code",
      "metadata": {
        "colab": {
          "base_uri": "https://localhost:8080/",
          "height": 235
        },
        "id": "q7khBdTnPvrw",
        "outputId": "5737e935-5a82-4cab-9cd2-c8758335da29"
      },
      "source": [
        "url='https://raw.githubusercontent.com/DianaMCV/Redes/main/Ubicaci%C3%B3n_mercados.csv'\n",
        "ubi = pd.read_csv(url, index_col=0, encoding='latin-1') #'latin-1': no se leían ciertos carateres\n",
        "ubi.head()"
      ],
      "execution_count": 30,
      "outputs": [
        {
          "output_type": "execute_result",
          "data": {
            "text/html": [
              "<div>\n",
              "<style scoped>\n",
              "    .dataframe tbody tr th:only-of-type {\n",
              "        vertical-align: middle;\n",
              "    }\n",
              "\n",
              "    .dataframe tbody tr th {\n",
              "        vertical-align: top;\n",
              "    }\n",
              "\n",
              "    .dataframe thead th {\n",
              "        text-align: right;\n",
              "    }\n",
              "</style>\n",
              "<table border=\"1\" class=\"dataframe\">\n",
              "  <thead>\n",
              "    <tr style=\"text-align: right;\">\n",
              "      <th></th>\n",
              "      <th>coordenadas</th>\n",
              "    </tr>\n",
              "    <tr>\n",
              "      <th>central_abasto</th>\n",
              "      <th></th>\n",
              "    </tr>\n",
              "  </thead>\n",
              "  <tbody>\n",
              "    <tr>\n",
              "      <th>Aguascalientes: Centro Comercial Agropecuario de Aguascalientes</th>\n",
              "      <td>21.91350375264395, -102.29531720470844</td>\n",
              "    </tr>\n",
              "    <tr>\n",
              "      <th>Baja California : Central de Abasto INDIA, Tijuana</th>\n",
              "      <td>32.49474400026095, -116.94692024909172</td>\n",
              "    </tr>\n",
              "    <tr>\n",
              "      <th>Baja California Sur: Unión de Comerciantes de La Paz</th>\n",
              "      <td>24.1271092193078, -110.3307038550387</td>\n",
              "    </tr>\n",
              "    <tr>\n",
              "      <th>Campeche: Mercado \"Pedro Sáinz de Baranda\", Campeche</th>\n",
              "      <td>19.84188527351779, -90.53320367292051</td>\n",
              "    </tr>\n",
              "    <tr>\n",
              "      <th>Chiapas: Central de Abasto de Tuxtla Gutiérrez</th>\n",
              "      <td>16.74342132425459, -93.06736080161691</td>\n",
              "    </tr>\n",
              "  </tbody>\n",
              "</table>\n",
              "</div>"
            ],
            "text/plain": [
              "                                                                               coordenadas\n",
              "central_abasto                                                                            \n",
              "Aguascalientes: Centro Comercial Agropecuario d...  21.91350375264395, -102.29531720470844\n",
              "Baja California : Central de Abasto INDIA, Tijuana  32.49474400026095, -116.94692024909172\n",
              "Baja California Sur: Unión de Comerciantes de L...    24.1271092193078, -110.3307038550387\n",
              "Campeche: Mercado \"Pedro Sáinz de Baranda\", Cam...   19.84188527351779, -90.53320367292051\n",
              "Chiapas: Central de Abasto de Tuxtla Gutiérrez       16.74342132425459, -93.06736080161691"
            ]
          },
          "metadata": {
            "tags": []
          },
          "execution_count": 30
        }
      ]
    },
    {
      "cell_type": "code",
      "metadata": {
        "colab": {
          "base_uri": "https://localhost:8080/",
          "height": 235
        },
        "id": "-7jhjfl_dkQ1",
        "outputId": "ef054b15-ca5a-461a-900a-817e9537a0bc"
      },
      "source": [
        "ubi['coordenadas']=ubi['coordenadas'].apply(eval)\n",
        "ubi.head()"
      ],
      "execution_count": 31,
      "outputs": [
        {
          "output_type": "execute_result",
          "data": {
            "text/html": [
              "<div>\n",
              "<style scoped>\n",
              "    .dataframe tbody tr th:only-of-type {\n",
              "        vertical-align: middle;\n",
              "    }\n",
              "\n",
              "    .dataframe tbody tr th {\n",
              "        vertical-align: top;\n",
              "    }\n",
              "\n",
              "    .dataframe thead th {\n",
              "        text-align: right;\n",
              "    }\n",
              "</style>\n",
              "<table border=\"1\" class=\"dataframe\">\n",
              "  <thead>\n",
              "    <tr style=\"text-align: right;\">\n",
              "      <th></th>\n",
              "      <th>coordenadas</th>\n",
              "    </tr>\n",
              "    <tr>\n",
              "      <th>central_abasto</th>\n",
              "      <th></th>\n",
              "    </tr>\n",
              "  </thead>\n",
              "  <tbody>\n",
              "    <tr>\n",
              "      <th>Aguascalientes: Centro Comercial Agropecuario de Aguascalientes</th>\n",
              "      <td>(21.91350375264395, -102.29531720470844)</td>\n",
              "    </tr>\n",
              "    <tr>\n",
              "      <th>Baja California : Central de Abasto INDIA, Tijuana</th>\n",
              "      <td>(32.49474400026095, -116.94692024909172)</td>\n",
              "    </tr>\n",
              "    <tr>\n",
              "      <th>Baja California Sur: Unión de Comerciantes de La Paz</th>\n",
              "      <td>(24.1271092193078, -110.3307038550387)</td>\n",
              "    </tr>\n",
              "    <tr>\n",
              "      <th>Campeche: Mercado \"Pedro Sáinz de Baranda\", Campeche</th>\n",
              "      <td>(19.84188527351779, -90.53320367292051)</td>\n",
              "    </tr>\n",
              "    <tr>\n",
              "      <th>Chiapas: Central de Abasto de Tuxtla Gutiérrez</th>\n",
              "      <td>(16.74342132425459, -93.06736080161691)</td>\n",
              "    </tr>\n",
              "  </tbody>\n",
              "</table>\n",
              "</div>"
            ],
            "text/plain": [
              "                                                                                 coordenadas\n",
              "central_abasto                                                                              \n",
              "Aguascalientes: Centro Comercial Agropecuario d...  (21.91350375264395, -102.29531720470844)\n",
              "Baja California : Central de Abasto INDIA, Tijuana  (32.49474400026095, -116.94692024909172)\n",
              "Baja California Sur: Unión de Comerciantes de L...    (24.1271092193078, -110.3307038550387)\n",
              "Campeche: Mercado \"Pedro Sáinz de Baranda\", Cam...   (19.84188527351779, -90.53320367292051)\n",
              "Chiapas: Central de Abasto de Tuxtla Gutiérrez       (16.74342132425459, -93.06736080161691)"
            ]
          },
          "metadata": {
            "tags": []
          },
          "execution_count": 31
        }
      ]
    },
    {
      "cell_type": "code",
      "metadata": {
        "colab": {
          "base_uri": "https://localhost:8080/",
          "height": 235
        },
        "id": "7iO_9aeQd6Lr",
        "outputId": "81f20ef2-7c07-4de0-a128-4164b1a21eda"
      },
      "source": [
        "ubi['lat']=ubi['coordenadas'].apply(lambda x: x[0])\n",
        "ubi['long']=ubi['coordenadas'].apply(lambda x: x[1])\n",
        "ubi=ubi.drop('coordenadas', axis=1)\n",
        "ubi.head()"
      ],
      "execution_count": 32,
      "outputs": [
        {
          "output_type": "execute_result",
          "data": {
            "text/html": [
              "<div>\n",
              "<style scoped>\n",
              "    .dataframe tbody tr th:only-of-type {\n",
              "        vertical-align: middle;\n",
              "    }\n",
              "\n",
              "    .dataframe tbody tr th {\n",
              "        vertical-align: top;\n",
              "    }\n",
              "\n",
              "    .dataframe thead th {\n",
              "        text-align: right;\n",
              "    }\n",
              "</style>\n",
              "<table border=\"1\" class=\"dataframe\">\n",
              "  <thead>\n",
              "    <tr style=\"text-align: right;\">\n",
              "      <th></th>\n",
              "      <th>lat</th>\n",
              "      <th>long</th>\n",
              "    </tr>\n",
              "    <tr>\n",
              "      <th>central_abasto</th>\n",
              "      <th></th>\n",
              "      <th></th>\n",
              "    </tr>\n",
              "  </thead>\n",
              "  <tbody>\n",
              "    <tr>\n",
              "      <th>Aguascalientes: Centro Comercial Agropecuario de Aguascalientes</th>\n",
              "      <td>21.913504</td>\n",
              "      <td>-102.295317</td>\n",
              "    </tr>\n",
              "    <tr>\n",
              "      <th>Baja California : Central de Abasto INDIA, Tijuana</th>\n",
              "      <td>32.494744</td>\n",
              "      <td>-116.946920</td>\n",
              "    </tr>\n",
              "    <tr>\n",
              "      <th>Baja California Sur: Unión de Comerciantes de La Paz</th>\n",
              "      <td>24.127109</td>\n",
              "      <td>-110.330704</td>\n",
              "    </tr>\n",
              "    <tr>\n",
              "      <th>Campeche: Mercado \"Pedro Sáinz de Baranda\", Campeche</th>\n",
              "      <td>19.841885</td>\n",
              "      <td>-90.533204</td>\n",
              "    </tr>\n",
              "    <tr>\n",
              "      <th>Chiapas: Central de Abasto de Tuxtla Gutiérrez</th>\n",
              "      <td>16.743421</td>\n",
              "      <td>-93.067361</td>\n",
              "    </tr>\n",
              "  </tbody>\n",
              "</table>\n",
              "</div>"
            ],
            "text/plain": [
              "                                                          lat        long\n",
              "central_abasto                                                           \n",
              "Aguascalientes: Centro Comercial Agropecuario d...  21.913504 -102.295317\n",
              "Baja California : Central de Abasto INDIA, Tijuana  32.494744 -116.946920\n",
              "Baja California Sur: Unión de Comerciantes de L...  24.127109 -110.330704\n",
              "Campeche: Mercado \"Pedro Sáinz de Baranda\", Cam...  19.841885  -90.533204\n",
              "Chiapas: Central de Abasto de Tuxtla Gutiérrez      16.743421  -93.067361"
            ]
          },
          "metadata": {
            "tags": []
          },
          "execution_count": 32
        }
      ]
    }
  ]
}